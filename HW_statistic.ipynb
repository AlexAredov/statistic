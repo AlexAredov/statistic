{
 "cells": [
  {
   "cell_type": "code",
   "execution_count": 66,
   "id": "be297f68-0a62-4da4-bdd2-bbcf38e39ff6",
   "metadata": {},
   "outputs": [],
   "source": [
    "import pandas as pd\n",
    "import math\n",
    "import numpy as np\n",
    "import matplotlib.pyplot as plt\n",
    "from scipy. stats import norm"
   ]
  },
  {
   "cell_type": "code",
   "execution_count": 64,
   "id": "232e2e9f-0dbd-4ab7-bdd7-3c6a49fd3183",
   "metadata": {},
   "outputs": [],
   "source": [
    "LYMPH_AREA = [88.57, 84.96, 58.20, 60.84, 66.21, 64.55, 90.62, 65.14, 97.27, 52.83, 97.85, 122.56, 61.72, 63.96, 96.00, 83.50, 79.59, 65.43, 172.66, 56.15, 71.97, 83.69, 138.38, 113.87, 67.29, 97.07, 68.07, 97.17, 68.26, 46.87, 125.59, 88.96, 58.89, 143.85, 69.24, 94.24, 117.97, 78.03, 56.25, 87.30, 81.74, 88.67, 60.35, 132.23, 54.20, 80.86, 74.32, 86.91, 65.43, 88.38]\n",
    "LYMPH_NPOLAR = [0.04430, 0.06694, 0.02357, 0.02025, 0.28590, 0.06605, 0.06168, 0.12731, 0.14691, 0.04050, 0.11609, 0.09951, 0.12401, 0.13511, 0.14220, 0.13795, 0.12573, 0.12839, 0.11360, 0.16065, 0.05355, 0.10924, 0.26627, 0.27559, 0.06046, 0.11169, 0.10379, 0.15838, 0.05226, 0.28644, 0.21480, 0.01329, 0.09822, 0.26709, 0.08579, 0.26515, 0.21619, 0.06251, 0.08225, 0.19916, 0.18759, 0.07373, 0.03184, 0.03571, 0.12607, 0.11498, 0.19376, 0.11575, 0.13287, 0.14543]\n",
    "m0_LYMPH_AREA = 83.2\n",
    "m0_LYMPH_NPOLAR = 0.139\n",
    "sigma_sqrt0_LYMPH_AREA = 908.1\n",
    "sigma_sqrt0_LYMPH_NPOLAR = 0.007577\n",
    "r0 = 0.263\n",
    "\n",
    "SEGM_AREA = []\n",
    "SEGM_NPOLAR = []"
   ]
  },
  {
   "cell_type": "code",
   "execution_count": 25,
   "id": "bdca7611-3d4b-433d-99ae-3dcae5da79de",
   "metadata": {},
   "outputs": [],
   "source": [
    "LYMPH = pd.DataFrame({'AREA': LYMPH_AREA[:], 'NPOLAR': LYMPH_NPOLAR[:]})"
   ]
  },
  {
   "cell_type": "code",
   "execution_count": 52,
   "id": "efdefbff-91f4-497d-9756-d2a43671cda1",
   "metadata": {},
   "outputs": [
    {
     "data": {
      "text/html": [
       "<div>\n",
       "<style scoped>\n",
       "    .dataframe tbody tr th:only-of-type {\n",
       "        vertical-align: middle;\n",
       "    }\n",
       "\n",
       "    .dataframe tbody tr th {\n",
       "        vertical-align: top;\n",
       "    }\n",
       "\n",
       "    .dataframe thead th {\n",
       "        text-align: right;\n",
       "    }\n",
       "</style>\n",
       "<table border=\"1\" class=\"dataframe\">\n",
       "  <thead>\n",
       "    <tr style=\"text-align: right;\">\n",
       "      <th></th>\n",
       "      <th>AREA</th>\n",
       "      <th>NPOLAR</th>\n",
       "    </tr>\n",
       "  </thead>\n",
       "  <tbody>\n",
       "    <tr>\n",
       "      <th>0</th>\n",
       "      <td>88.57</td>\n",
       "      <td>0.04430</td>\n",
       "    </tr>\n",
       "    <tr>\n",
       "      <th>1</th>\n",
       "      <td>84.96</td>\n",
       "      <td>0.06694</td>\n",
       "    </tr>\n",
       "    <tr>\n",
       "      <th>2</th>\n",
       "      <td>58.20</td>\n",
       "      <td>0.02357</td>\n",
       "    </tr>\n",
       "    <tr>\n",
       "      <th>3</th>\n",
       "      <td>60.84</td>\n",
       "      <td>0.02025</td>\n",
       "    </tr>\n",
       "    <tr>\n",
       "      <th>4</th>\n",
       "      <td>66.21</td>\n",
       "      <td>0.28590</td>\n",
       "    </tr>\n",
       "  </tbody>\n",
       "</table>\n",
       "</div>"
      ],
      "text/plain": [
       "    AREA   NPOLAR\n",
       "0  88.57  0.04430\n",
       "1  84.96  0.06694\n",
       "2  58.20  0.02357\n",
       "3  60.84  0.02025\n",
       "4  66.21  0.28590"
      ]
     },
     "execution_count": 52,
     "metadata": {},
     "output_type": "execute_result"
    }
   ],
   "source": [
    "LYMPH.head(5)"
   ]
  },
  {
   "cell_type": "markdown",
   "id": "121858b8-e49d-4bcb-80d2-9ab739df0410",
   "metadata": {},
   "source": [
    "1.2.1. Работаем с исходной выборкой объёма n.\n",
    "1.2.2. Среди всех выборочных значений найдите минимальное значение − x_min \n",
    "1.2.3. Среди всех выборочных значений найдите максимальное значение - x_max"
   ]
  },
  {
   "cell_type": "code",
   "execution_count": 27,
   "id": "39b230a6-7658-47f5-b634-0a79771bac16",
   "metadata": {},
   "outputs": [
    {
     "data": {
      "text/plain": [
       "0.28644"
      ]
     },
     "execution_count": 27,
     "metadata": {},
     "output_type": "execute_result"
    }
   ],
   "source": [
    "x_max = LYMPH.NPOLAR.max(axis=0)\n",
    "x_max"
   ]
  },
  {
   "cell_type": "code",
   "execution_count": 28,
   "id": "3b37de00-8b78-4106-861f-25d800526c63",
   "metadata": {},
   "outputs": [
    {
     "data": {
      "text/plain": [
       "0.01329"
      ]
     },
     "execution_count": 28,
     "metadata": {},
     "output_type": "execute_result"
    }
   ],
   "source": [
    "x_min = LYMPH.NPOLAR.min(axis=0)\n",
    "x_min"
   ]
  },
  {
   "cell_type": "markdown",
   "id": "1d63f014-65d0-434d-874a-297f581552c7",
   "metadata": {},
   "source": [
    "1.2.4. Вычислите размах"
   ]
  },
  {
   "cell_type": "code",
   "execution_count": 29,
   "id": "65c8425a-3422-4b47-a278-6c10a86ef8b5",
   "metadata": {},
   "outputs": [
    {
     "data": {
      "text/plain": [
       "0.27314999999999995"
      ]
     },
     "execution_count": 29,
     "metadata": {},
     "output_type": "execute_result"
    }
   ],
   "source": [
    "R = x_max - x_min\n",
    "R"
   ]
  },
  {
   "cell_type": "markdown",
   "id": "437629a6-2227-4e1f-9232-544be36d8110",
   "metadata": {},
   "source": [
    "1.2.5. Определите число интервалов"
   ]
  },
  {
   "cell_type": "code",
   "execution_count": 30,
   "id": "fa1cd54f-e888-4112-b79c-337ad9a2d353",
   "metadata": {},
   "outputs": [
    {
     "data": {
      "text/plain": [
       "6.606601014308861"
      ]
     },
     "execution_count": 30,
     "metadata": {},
     "output_type": "execute_result"
    }
   ],
   "source": [
    "s = 1 + (3.3 * math.log10(LYMPH.NPOLAR.size))\n",
    "s"
   ]
  },
  {
   "cell_type": "markdown",
   "id": "b8a060c6-9e86-4451-9427-4782e924dbee",
   "metadata": {},
   "source": [
    "1.2.6. Определите длину интервала (шаг разбиения)   Значение\n",
    "h округлите до числа десятичных знаков после запятой, содержащихся в выборочных значениях x_k изучаемого признака (см. 1.1.2) так, чтобы на конце была четная цифра."
   ]
  },
  {
   "cell_type": "code",
   "execution_count": 31,
   "id": "3801594d-37d7-4cda-8dad-3638ec6af49e",
   "metadata": {},
   "outputs": [
    {
     "data": {
      "text/plain": [
       "0.04135"
      ]
     },
     "execution_count": 31,
     "metadata": {},
     "output_type": "execute_result"
    }
   ],
   "source": [
    "h = round(R/s, 5)\n",
    "h"
   ]
  },
  {
   "cell_type": "markdown",
   "id": "6e1cc797-761d-4b6b-9445-5e5ef49b60b3",
   "metadata": {},
   "source": [
    "1.2.7. За начало первого интервала gamma0 рекомендуется выбирать gamma0 = x_min − h⁄2. Хотя может так оказаться, в зависимости от данных, что эта величина окажется отрицательной. Тогда в качестве её значения можно взять величину gamma0 = gamma0/2."
   ]
  },
  {
   "cell_type": "code",
   "execution_count": 32,
   "id": "f56aced3-4c67-4b98-a851-f20c1ac15f9c",
   "metadata": {},
   "outputs": [
    {
     "data": {
      "text/plain": [
       "0.006645"
      ]
     },
     "execution_count": 32,
     "metadata": {},
     "output_type": "execute_result"
    }
   ],
   "source": [
    "gamma0 = x_min/2\n",
    "gamma0"
   ]
  },
  {
   "cell_type": "markdown",
   "id": "af636641-2419-491e-bf96-0ae8e8ebcc12",
   "metadata": {},
   "source": [
    "1.2.8. Нахождение границ интервалов.\n",
    "1.2.8.1. От точки gamma0 с шагом h получаем границы интервалов gammak, пока не будут покрыты x_min и x_max.\n",
    "1.2.8.2. Полученные значения gammak – границ интервалов внесите в таблицу No 1 (статистическая таблица).\n",
    "1.2.8.3. Рассчитайте середины интервалов"
   ]
  },
  {
   "cell_type": "code",
   "execution_count": 33,
   "id": "e0153557-f365-4118-8cca-cdb459fe2989",
   "metadata": {},
   "outputs": [
    {
     "data": {
      "text/plain": [
       "[0.006645, 0.04799, 0.08934, 0.1307, 0.17205, 0.2134, 0.25474, 0.29609]"
      ]
     },
     "execution_count": 33,
     "metadata": {},
     "output_type": "execute_result"
    }
   ],
   "source": [
    "gammak = [0.006645]\n",
    "gamma_t = gamma0\n",
    "while(gamma_t + h < x_max):\n",
    "    gammak.append(round(gamma_t + h, 5))\n",
    "    gamma_t += h\n",
    "gammak.append(round(gamma_t + h, 5))\n",
    "gammak"
   ]
  },
  {
   "cell_type": "code",
   "execution_count": 75,
   "id": "1f7887e5-e933-42bf-ac34-f95c4ac27a0c",
   "metadata": {},
   "outputs": [
    {
     "data": {
      "text/plain": [
       "[0.02732, 0.06867, 0.11002, 0.15137, 0.19272, 0.23407, 0.27542]"
      ]
     },
     "execution_count": 75,
     "metadata": {},
     "output_type": "execute_result"
    }
   ],
   "source": [
    "xk = [round(gamma0 + h/2, 5)]\n",
    "for i in range(1, len(gammak)-1):\n",
    "    xk.append(round(xk[i - 1] + h, 5))\n",
    "xk"
   ]
  },
  {
   "cell_type": "markdown",
   "id": "b3e8b2b2-3fde-41c7-b084-384b2ab679c1",
   "metadata": {},
   "source": [
    "| Nk | Границы интервалов, gamma_k-1 + e, gammak | Кодировка | Частота mk | Накопленная частота Mk | Середина интервала xk |\n",
    "|---|---|---|---|---|---|\n",
    "| 1 | [0.00664, 0.04799] |  | 7 | 7 | 0.02732 |\n",
    "| 2 | [0.04800, 0.08934] |  | 10 | 17 | 0.06867 |\n",
    "| 3 | [0.08935, 0.13070] |  | 14 | 31 | 0.11002 |\n",
    "| 4 | [0.13071, 0.17205] |  | 8 | 39 | 0.15137 |\n",
    "| 5 | [0.17206, 0.21340] |  | 3 | 42 | 0.19272 |\n",
    "| 6 | [0.21341, 0.25474] |  | 2 | 44 | 0.23407 |\n",
    "| 7 | [0.25475, 0.29609] |  | 6 | 50 | 0.27542 |\n"
   ]
  },
  {
   "cell_type": "code",
   "execution_count": 49,
   "id": "17e15bfb-3efa-4e08-9e46-a53ad162e89f",
   "metadata": {},
   "outputs": [
    {
     "data": {
      "text/plain": [
       "6"
      ]
     },
     "execution_count": 49,
     "metadata": {},
     "output_type": "execute_result"
    }
   ],
   "source": [
    "k = 0\n",
    "for element in LYMPH.NPOLAR:\n",
    "    if (element >= 0.25475) and (element <= 0.29609):\n",
    "        k += 1\n",
    "k"
   ]
  },
  {
   "cell_type": "markdown",
   "id": "6cf81e80-368e-4d66-b64e-18ed0601116d",
   "metadata": {},
   "source": [
    "Гистограмма"
   ]
  },
  {
   "cell_type": "code",
   "execution_count": 73,
   "id": "b82eda85-56af-41e9-a596-7619ecded2ef",
   "metadata": {},
   "outputs": [
    {
     "data": {
      "image/png": "[encoded data removed]",
      "text/plain": [
       "<Figure size 600x400 with 1 Axes>"
      ]
     },
     "metadata": {},
     "output_type": "display_data"
    }
   ],
   "source": [
    "fig = plt.figure(figsize=(6, 4))\n",
    "ax = fig.add_subplot()\n",
    "x = np.arange (0, 0.3, 0.001)\n",
    "\n",
    "ax.hist(LYMPH.NPOLAR, 7, color='w', linewidth=2, edgecolor='k')\n",
    "plt.plot (x, norm.pdf(x, m0_LYMPH_NPOLAR, sigma_sqrt0_LYMPH_NPOLAR), color='r')\n",
    "ax.grid()\n",
    "plt.show()"
   ]
  },
  {
   "cell_type": "markdown",
   "id": "61fa5ee1-a361-4893-b344-28dc2e3af441",
   "metadata": {},
   "source": [
    "Полигон"
   ]
  },
  {
   "cell_type": "code",
   "execution_count": 98,
   "id": "d1613656-b9f0-4a42-bc47-d21520325cd6",
   "metadata": {},
   "outputs": [
    {
     "data": {
      "image/png": "[encoded data removed]",
      "text/plain": [
       "<Figure size 600x400 with 1 Axes>"
      ]
     },
     "metadata": {},
     "output_type": "display_data"
    }
   ],
   "source": [
    "fig = plt.figure(figsize=(6, 4))\n",
    "ax = fig.add_subplot()\n",
    "#x = np.arange (0, 0.3, 0.001)\n",
    "\n",
    "m0 = [7, 10, 14, 8, 3, 2, 6]\n",
    "\n",
    "plt.plot(xk, m0, 'o-', color='k')\n",
    "plt.plot (x, norm.pdf(x, m0_LYMPH_NPOLAR, sigma_sqrt0_LYMPH_NPOLAR), color='r')\n",
    "ax.grid()\n",
    "plt.show()"
   ]
  },
  {
   "cell_type": "markdown",
   "id": "26ed43fa-0c90-4281-bdca-827da6e1e85b",
   "metadata": {},
   "source": [
    "Кумулята"
   ]
  },
  {
   "cell_type": "code",
   "execution_count": 107,
   "id": "72337553-cfed-41b1-b2c8-a4ec98e97bf8",
   "metadata": {},
   "outputs": [
    {
     "data": {
      "image/png": "[encoded data removed]",
      "text/plain": [
       "<Figure size 600x400 with 1 Axes>"
      ]
     },
     "metadata": {},
     "output_type": "display_data"
    }
   ],
   "source": [
    "fig = plt.figure(figsize=(6, 4))\n",
    "ax = fig.add_subplot()\n",
    "#x = np.arange (0, 0.3, 0.001)\n",
    "\n",
    "mk = [7, 17, 31, 39, 42, 44, 50]\n",
    "\n",
    "plt.hist(LYMPH.NPOLAR, bins=7, cumulative=True)\n",
    "ax.grid()\n",
    "plt.show()"
   ]
  },
  {
   "cell_type": "code",
   "execution_count": null,
   "id": "bfd9ab6a-5055-4d83-be0a-d598c7cc38f3",
   "metadata": {},
   "outputs": [],
   "source": []
  }
 ],
 "metadata": {
  "kernelspec": {
   "display_name": "Python 3 (ipykernel)",
   "language": "python",
   "name": "python3"
  },
  "language_info": {
   "codemirror_mode": {
    "name": "ipython",
    "version": 3
   },
   "file_extension": ".py",
   "mimetype": "text/x-python",
   "name": "python",
   "nbconvert_exporter": "python",
   "pygments_lexer": "ipython3",
   "version": "3.11.7"
  }
 },
 "nbformat": 4,
 "nbformat_minor": 5
}
