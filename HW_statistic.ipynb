{
 "cells": [
  {
   "cell_type": "code",
   "execution_count": 80,
   "id": "be297f68-0a62-4da4-bdd2-bbcf38e39ff6",
   "metadata": {
    "ExecuteTime": {
     "end_time": "2024-05-07T13:33:08.060270Z",
     "start_time": "2024-05-07T13:33:08.057842Z"
    }
   },
   "outputs": [],
   "source": [
    "import pandas as pd\n",
    "import math\n",
    "import numpy as np\n",
    "import matplotlib.pyplot as plt\n",
    "from scipy. stats import norm\n",
    "import scipy.stats as st"
   ]
  },
  {
   "cell_type": "code",
   "execution_count": 74,
   "id": "232e2e9f-0dbd-4ab7-bdd7-3c6a49fd3183",
   "metadata": {
    "ExecuteTime": {
     "end_time": "2024-05-07T13:33:09.009476Z",
     "start_time": "2024-05-07T13:33:09.004751Z"
    }
   },
   "outputs": [],
   "source": [
    "LYMPH_AREA = [88.57, 84.96, 58.20, 60.84, 66.21, 64.55, 90.62, 65.14, 97.27, 52.83, 97.85, 122.56, 61.72, 63.96, 96.00, 83.50, 79.59, 65.43, 172.66, 56.15, 71.97, 83.69, 138.38, 113.87, 67.29, 97.07, 68.07, 97.17, 68.26, 46.87, 125.59, 88.96, 58.89, 143.85, 69.24, 94.24, 117.97, 78.03, 56.25, 87.30, 81.74, 88.67, 60.35, 132.23, 54.20, 80.86, 74.32, 86.91, 65.43, 88.38]\n",
    "LYMPH_NPOLAR = [0.04430, 0.06694, 0.02357, 0.02025, 0.28590, 0.06605, 0.06168, 0.12731, 0.14691, 0.04050, 0.11609, 0.09951, 0.12401, 0.13511, 0.14220, 0.13795, 0.12573, 0.12839, 0.11360, 0.16065, 0.05355, 0.10924, 0.26627, 0.27559, 0.06046, 0.11169, 0.10379, 0.15838, 0.05226, 0.28644, 0.21480, 0.01329, 0.09822, 0.26709, 0.08579, 0.26515, 0.21619, 0.06251, 0.08225, 0.19916, 0.18759, 0.07373, 0.03184, 0.03571, 0.12607, 0.11498, 0.19376, 0.11575, 0.13287, 0.14543]\n",
    "m0_LYMPH_AREA = 83.2\n",
    "m0_LYMPH_NPOLAR = 0.139\n",
    "sigma_sqrt0_LYMPH_AREA = 908.1\n",
    "sigma_sqrt0_LYMPH_NPOLAR = 0.007577\n",
    "r0 = 0.263\n",
    "\n",
    "SEGM_AREA = []\n",
    "SEGM_NPOLAR = [0.35562, 0.41851, 0.07075, 0.05790, 0.16624, 0.16279, 0.23312, 0.33980, 0.22133, 0.19842, 0.45261, 0.24750, 0.43784, 0.62685, 0.40875, 0.07849, 0.46653, 0.57634, 0.28871, 0.45371, 0.27975, 0.28245, 0.49191, 0.36211, 0.16117, 0.34791, 0.29316, 0.39522, 0.12825, 0.37506, 0.09172, 0.51553, 0.14884, 0.34438, 0.49097, 0.29225, 0.18480, 0.37200, 0.45508, 0.17288, 0.30542, 0.42202, 0.14343, 0.02496, 0.27584, 0.30813, 0.23072, 0.20540, 0.07874, 0.37051]"
   ]
  },
  {
   "cell_type": "code",
   "execution_count": 16,
   "id": "bdca7611-3d4b-433d-99ae-3dcae5da79de",
   "metadata": {
    "ExecuteTime": {
     "end_time": "2024-05-07T13:33:09.061394Z",
     "start_time": "2024-05-07T13:33:09.047762Z"
    }
   },
   "outputs": [],
   "source": [
    "LYMPH = pd.DataFrame({'AREA': LYMPH_AREA[:], 'NPOLAR': LYMPH_NPOLAR[:], 'ODG': LYMPH_ODG[:]})"
   ]
  },
  {
   "cell_type": "code",
   "execution_count": 17,
   "id": "efdefbff-91f4-497d-9756-d2a43671cda1",
   "metadata": {
    "ExecuteTime": {
     "end_time": "2024-05-07T13:33:09.107614Z",
     "start_time": "2024-05-07T13:33:09.090944Z"
    }
   },
   "outputs": [
    {
     "data": {
      "text/html": [
       "<div>\n",
       "<style scoped>\n",
       "    .dataframe tbody tr th:only-of-type {\n",
       "        vertical-align: middle;\n",
       "    }\n",
       "\n",
       "    .dataframe tbody tr th {\n",
       "        vertical-align: top;\n",
       "    }\n",
       "\n",
       "    .dataframe thead th {\n",
       "        text-align: right;\n",
       "    }\n",
       "</style>\n",
       "<table border=\"1\" class=\"dataframe\">\n",
       "  <thead>\n",
       "    <tr style=\"text-align: right;\">\n",
       "      <th></th>\n",
       "      <th>AREA</th>\n",
       "      <th>NPOLAR</th>\n",
       "      <th>ODG</th>\n",
       "    </tr>\n",
       "  </thead>\n",
       "  <tbody>\n",
       "    <tr>\n",
       "      <th>0</th>\n",
       "      <td>88.57</td>\n",
       "      <td>0.04430</td>\n",
       "      <td>0.2486</td>\n",
       "    </tr>\n",
       "    <tr>\n",
       "      <th>1</th>\n",
       "      <td>84.96</td>\n",
       "      <td>0.06694</td>\n",
       "      <td>0.2930</td>\n",
       "    </tr>\n",
       "    <tr>\n",
       "      <th>2</th>\n",
       "      <td>58.20</td>\n",
       "      <td>0.02357</td>\n",
       "      <td>0.4993</td>\n",
       "    </tr>\n",
       "    <tr>\n",
       "      <th>3</th>\n",
       "      <td>60.84</td>\n",
       "      <td>0.02025</td>\n",
       "      <td>0.3993</td>\n",
       "    </tr>\n",
       "    <tr>\n",
       "      <th>4</th>\n",
       "      <td>66.21</td>\n",
       "      <td>0.28590</td>\n",
       "      <td>0.4714</td>\n",
       "    </tr>\n",
       "  </tbody>\n",
       "</table>\n",
       "</div>"
      ],
      "text/plain": [
       "    AREA   NPOLAR     ODG\n",
       "0  88.57  0.04430  0.2486\n",
       "1  84.96  0.06694  0.2930\n",
       "2  58.20  0.02357  0.4993\n",
       "3  60.84  0.02025  0.3993\n",
       "4  66.21  0.28590  0.4714"
      ]
     },
     "execution_count": 17,
     "metadata": {},
     "output_type": "execute_result"
    }
   ],
   "source": [
    "LYMPH.head(5)"
   ]
  },
  {
   "cell_type": "markdown",
   "id": "121858b8-e49d-4bcb-80d2-9ab739df0410",
   "metadata": {},
   "source": [
    "1.2.1. Работаем с исходной выборкой объёма n.\n",
    "1.2.2. Среди всех выборочных значений найдите минимальное значение − x_min \n",
    "1.2.3. Среди всех выборочных значений найдите максимальное значение - x_max"
   ]
  },
  {
   "cell_type": "code",
   "execution_count": 18,
   "id": "39b230a6-7658-47f5-b634-0a79771bac16",
   "metadata": {
    "ExecuteTime": {
     "end_time": "2024-05-07T13:33:09.123852Z",
     "start_time": "2024-05-07T13:33:09.118894Z"
    }
   },
   "outputs": [
    {
     "data": {
      "text/plain": [
       "0.28644"
      ]
     },
     "execution_count": 18,
     "metadata": {},
     "output_type": "execute_result"
    }
   ],
   "source": [
    "x_max = LYMPH.NPOLAR.max(axis=0)\n",
    "x_max"
   ]
  },
  {
   "cell_type": "code",
   "execution_count": 19,
   "id": "3b37de00-8b78-4106-861f-25d800526c63",
   "metadata": {
    "ExecuteTime": {
     "end_time": "2024-05-07T13:33:09.199153Z",
     "start_time": "2024-05-07T13:33:09.195763Z"
    }
   },
   "outputs": [
    {
     "data": {
      "text/plain": [
       "0.01329"
      ]
     },
     "execution_count": 19,
     "metadata": {},
     "output_type": "execute_result"
    }
   ],
   "source": [
    "x_min = LYMPH.NPOLAR.min(axis=0)\n",
    "x_min"
   ]
  },
  {
   "cell_type": "markdown",
   "id": "1d63f014-65d0-434d-874a-297f581552c7",
   "metadata": {},
   "source": [
    "1.2.4. Вычислите размах"
   ]
  },
  {
   "cell_type": "code",
   "execution_count": 20,
   "id": "65c8425a-3422-4b47-a278-6c10a86ef8b5",
   "metadata": {
    "ExecuteTime": {
     "end_time": "2024-05-07T13:33:09.258795Z",
     "start_time": "2024-05-07T13:33:09.256368Z"
    }
   },
   "outputs": [
    {
     "data": {
      "text/plain": [
       "0.27314999999999995"
      ]
     },
     "execution_count": 20,
     "metadata": {},
     "output_type": "execute_result"
    }
   ],
   "source": [
    "R = x_max - x_min\n",
    "R"
   ]
  },
  {
   "cell_type": "markdown",
   "id": "437629a6-2227-4e1f-9232-544be36d8110",
   "metadata": {},
   "source": [
    "1.2.5. Определите число интервалов"
   ]
  },
  {
   "cell_type": "code",
   "execution_count": 21,
   "id": "fa1cd54f-e888-4112-b79c-337ad9a2d353",
   "metadata": {
    "ExecuteTime": {
     "end_time": "2024-05-07T13:33:09.398581Z",
     "start_time": "2024-05-07T13:33:09.395514Z"
    }
   },
   "outputs": [
    {
     "data": {
      "text/plain": [
       "6.606601014308861"
      ]
     },
     "execution_count": 21,
     "metadata": {},
     "output_type": "execute_result"
    }
   ],
   "source": [
    "s = 1 + (3.3 * math.log10(LYMPH.NPOLAR.size))\n",
    "s"
   ]
  },
  {
   "cell_type": "markdown",
   "id": "b8a060c6-9e86-4451-9427-4782e924dbee",
   "metadata": {},
   "source": [
    "1.2.6. Определите длину интервала (шаг разбиения)   Значение\n",
    "h округлите до числа десятичных знаков после запятой, содержащихся в выборочных значениях x_k изучаемого признака (см. 1.1.2) так, чтобы на конце была четная цифра."
   ]
  },
  {
   "cell_type": "code",
   "execution_count": 22,
   "id": "3801594d-37d7-4cda-8dad-3638ec6af49e",
   "metadata": {
    "ExecuteTime": {
     "end_time": "2024-05-07T13:33:09.461832Z",
     "start_time": "2024-05-07T13:33:09.458556Z"
    }
   },
   "outputs": [
    {
     "data": {
      "text/plain": [
       "0.04136"
      ]
     },
     "execution_count": 22,
     "metadata": {},
     "output_type": "execute_result"
    }
   ],
   "source": [
    "h = round(R/s, 5) + 0.00001\n",
    "h"
   ]
  },
  {
   "cell_type": "markdown",
   "id": "6e1cc797-761d-4b6b-9445-5e5ef49b60b3",
   "metadata": {},
   "source": [
    "1.2.7. За начало первого интервала gamma0 рекомендуется выбирать gamma0 = x_min − h⁄2. Хотя может так оказаться, в зависимости от данных, что эта величина окажется отрицательной. Тогда в качестве её значения можно взять величину gamma0 = gamma0/2."
   ]
  },
  {
   "cell_type": "code",
   "execution_count": 23,
   "id": "f56aced3-4c67-4b98-a851-f20c1ac15f9c",
   "metadata": {
    "ExecuteTime": {
     "end_time": "2024-05-07T13:33:09.520942Z",
     "start_time": "2024-05-07T13:33:09.518230Z"
    }
   },
   "outputs": [
    {
     "data": {
      "text/plain": [
       "0.006645"
      ]
     },
     "execution_count": 23,
     "metadata": {},
     "output_type": "execute_result"
    }
   ],
   "source": [
    "gamma0 = x_min/2\n",
    "gamma0"
   ]
  },
  {
   "cell_type": "markdown",
   "id": "af636641-2419-491e-bf96-0ae8e8ebcc12",
   "metadata": {},
   "source": [
    "1.2.8. Нахождение границ интервалов.\n",
    "1.2.8.1. От точки gamma0 с шагом h получаем границы интервалов gammak, пока не будут покрыты x_min и x_max.\n",
    "1.2.8.2. Полученные значения gammak – границ интервалов внесите в таблицу No 1 (статистическая таблица).\n",
    "1.2.8.3. Рассчитайте середины интервалов"
   ]
  },
  {
   "cell_type": "code",
   "execution_count": 24,
   "id": "e0153557-f365-4118-8cca-cdb459fe2989",
   "metadata": {
    "ExecuteTime": {
     "end_time": "2024-05-07T13:33:09.571953Z",
     "start_time": "2024-05-07T13:33:09.568425Z"
    }
   },
   "outputs": [
    {
     "data": {
      "text/plain": [
       "[0.006645, 0.048, 0.08936, 0.13073, 0.17209, 0.21345, 0.25481, 0.29617]"
      ]
     },
     "execution_count": 24,
     "metadata": {},
     "output_type": "execute_result"
    }
   ],
   "source": [
    "gammak = [0.006645]\n",
    "gamma_t = gamma0\n",
    "while(gamma_t + h < x_max):\n",
    "    gammak.append(round(gamma_t + h, 5))\n",
    "    gamma_t += h\n",
    "gammak.append(round(gamma_t + h, 5))\n",
    "gammak"
   ]
  },
  {
   "cell_type": "code",
   "execution_count": 25,
   "id": "1f7887e5-e933-42bf-ac34-f95c4ac27a0c",
   "metadata": {
    "ExecuteTime": {
     "end_time": "2024-05-07T13:33:09.636248Z",
     "start_time": "2024-05-07T13:33:09.633604Z"
    }
   },
   "outputs": [
    {
     "data": {
      "text/plain": [
       "[0.02733, 0.06869, 0.11005, 0.15141, 0.19277, 0.23413, 0.27549]"
      ]
     },
     "execution_count": 25,
     "metadata": {},
     "output_type": "execute_result"
    }
   ],
   "source": [
    "xk = [round(gamma0 + h/2, 5)]\n",
    "for i in range(1, len(gammak)-1):\n",
    "    xk.append(round(xk[i - 1] + h, 5))\n",
    "xk"
   ]
  },
  {
   "cell_type": "markdown",
   "id": "b3e8b2b2-3fde-41c7-b084-384b2ab679c1",
   "metadata": {},
   "source": [
    "| Nk | Границы интервалов, gamma_k-1 + e, gammak | Кодировка | Частота mk | Накопленная частота Mk | Середина интервала xk |\n",
    "|---|---|---|---|---|---|\n",
    "| 1 | [0.00664, 0.04799] |  | 7 | 7 | 0.02732 |\n",
    "| 2 | [0.04800, 0.08934] |  | 10 | 17 | 0.06867 |\n",
    "| 3 | [0.08935, 0.13070] |  | 14 | 31 | 0.11002 |\n",
    "| 4 | [0.13071, 0.17205] |  | 8 | 39 | 0.15137 |\n",
    "| 5 | [0.17206, 0.21340] |  | 3 | 42 | 0.19272 |\n",
    "| 6 | [0.21341, 0.25474] |  | 2 | 44 | 0.23407 |\n",
    "| 7 | [0.25475, 0.29609] |  | 6 | 50 | 0.27542 |\n"
   ]
  },
  {
   "cell_type": "code",
   "execution_count": 26,
   "id": "17e15bfb-3efa-4e08-9e46-a53ad162e89f",
   "metadata": {
    "ExecuteTime": {
     "end_time": "2024-05-07T13:33:09.685645Z",
     "start_time": "2024-05-07T13:33:09.682939Z"
    }
   },
   "outputs": [
    {
     "data": {
      "text/plain": [
       "6"
      ]
     },
     "execution_count": 26,
     "metadata": {},
     "output_type": "execute_result"
    }
   ],
   "source": [
    "k = 0\n",
    "for element in LYMPH.NPOLAR:\n",
    "    if (element >= 0.25475) and (element <= 0.29609):\n",
    "        k += 1\n",
    "k"
   ]
  },
  {
   "cell_type": "code",
   "execution_count": 27,
   "id": "7d194af30e70f615",
   "metadata": {
    "ExecuteTime": {
     "end_time": "2024-05-07T13:33:09.795240Z",
     "start_time": "2024-05-07T13:33:09.792654Z"
    },
    "collapsed": false,
    "jupyter": {
     "outputs_hidden": false
    }
   },
   "outputs": [
    {
     "data": {
      "text/plain": [
       "0.10808324722459187"
      ]
     },
     "execution_count": 27,
     "metadata": {},
     "output_type": "execute_result"
    }
   ],
   "source": [
    "std = LYMPH.ODG.std()\n",
    "std"
   ]
  },
  {
   "cell_type": "code",
   "execution_count": 28,
   "id": "726fef41f157024",
   "metadata": {
    "ExecuteTime": {
     "end_time": "2024-05-07T13:33:09.953685Z",
     "start_time": "2024-05-07T13:33:09.951216Z"
    },
    "collapsed": false,
    "jupyter": {
     "outputs_hidden": false
    }
   },
   "outputs": [
    {
     "data": {
      "text/plain": [
       "0.399406"
      ]
     },
     "execution_count": 28,
     "metadata": {},
     "output_type": "execute_result"
    }
   ],
   "source": [
    "mean = LYMPH.ODG.mean()\n",
    "mean"
   ]
  },
  {
   "cell_type": "markdown",
   "id": "6cf81e80-368e-4d66-b64e-18ed0601116d",
   "metadata": {},
   "source": [
    "Гистограмма"
   ]
  },
  {
   "cell_type": "code",
   "execution_count": 29,
   "id": "b82eda85-56af-41e9-a596-7619ecded2ef",
   "metadata": {
    "ExecuteTime": {
     "end_time": "2024-05-07T13:33:10.144588Z",
     "start_time": "2024-05-07T13:33:10.079971Z"
    }
   },
   "outputs": [
    {
     "data": {
      "image/svg+xml": [
       "<?xml version=\"1.0\" encoding=\"utf-8\" standalone=\"no\"?>\n",
       "<!DOCTYPE svg PUBLIC \"-//W3C//DTD SVG 1.1//EN\"\n",
       "  \"http://www.w3.org/Graphics/SVG/1.1/DTD/svg11.dtd\">\n",
       "<svg xmlns:xlink=\"http://www.w3.org/1999/xlink\" width=\"370.934062pt\" height=\"255.719844pt\" viewBox=\"0 0 370.934062 255.719844\" xmlns=\"http://www.w3.org/2000/svg\" version=\"1.1\">\n",
       " <metadata>\n",
       "  <rdf:RDF xmlns:dc=\"http://purl.org/dc/elements/1.1/\" xmlns:cc=\"http://creativecommons.org/ns#\" xmlns:rdf=\"http://www.w3.org/1999/02/22-rdf-syntax-ns#\">\n",
       "   <cc:Work>\n",
       "    <dc:type rdf:resource=\"http://purl.org/dc/dcmitype/StillImage\"/>\n",
       "    <dc:date>2024-05-07T16:33:10.131107</dc:date>\n",
       "    <dc:format>image/svg+xml</dc:format>\n",
       "    <dc:creator>\n",
       "     <cc:Agent>\n",
       "      <dc:title>Matplotlib v3.8.0, https://matplotlib.org/</dc:title>\n",
       "     </cc:Agent>\n",
       "    </dc:creator>\n",
       "   </cc:Work>\n",
       "  </rdf:RDF>\n",
       " </metadata>\n",
       " <defs>\n",
       "  <style type=\"text/css\">*{stroke-linejoin: round; stroke-linecap: butt}</style>\n",
       " </defs>\n",
       " <g id=\"figure_1\">\n",
       "  <g id=\"patch_1\">\n",
       "   <path d=\"M 0 255.719844 \n",
       "L 370.934062 255.719844 \n",
       "L 370.934062 0 \n",
       "L 0 0 \n",
       "z\n",
       "\" style=\"fill: #ffffff\"/>\n",
       "  </g>\n",
       "  <g id=\"axes_1\">\n",
       "   <g id=\"patch_2\">\n",
       "    <path d=\"M 28.934062 228.96 \n",
       "L 363.734062 228.96 \n",
       "L 363.734062 7.2 \n",
       "L 28.934062 7.2 \n",
       "z\n",
       "\" style=\"fill: #eaeaf2\"/>\n",
       "   </g>\n",
       "   <g id=\"matplotlib.axis_1\">\n",
       "    <g id=\"xtick_1\">\n",
       "     <g id=\"text_1\">\n",
       "      <!-- 0.0 -->\n",
       "      <g style=\"fill: #262626\" transform=\"translate(36.507244 246.333594) scale(0.11 -0.11)\">\n",
       "       <defs>\n",
       "        <path id=\"ArialMT-30\" d=\"M 266 2259 \n",
       "Q 266 3072 433 3567 \n",
       "Q 600 4063 929 4331 \n",
       "Q 1259 4600 1759 4600 \n",
       "Q 2128 4600 2406 4451 \n",
       "Q 2684 4303 2865 4023 \n",
       "Q 3047 3744 3150 3342 \n",
       "Q 3253 2941 3253 2259 \n",
       "Q 3253 1453 3087 958 \n",
       "Q 2922 463 2592 192 \n",
       "Q 2263 -78 1759 -78 \n",
       "Q 1097 -78 719 397 \n",
       "Q 266 969 266 2259 \n",
       "z\n",
       "M 844 2259 \n",
       "Q 844 1131 1108 757 \n",
       "Q 1372 384 1759 384 \n",
       "Q 2147 384 2411 759 \n",
       "Q 2675 1134 2675 2259 \n",
       "Q 2675 3391 2411 3762 \n",
       "Q 2147 4134 1753 4134 \n",
       "Q 1366 4134 1134 3806 \n",
       "Q 844 3388 844 2259 \n",
       "z\n",
       "\" transform=\"scale(0.015625)\"/>\n",
       "        <path id=\"ArialMT-2e\" d=\"M 581 0 \n",
       "L 581 641 \n",
       "L 1222 641 \n",
       "L 1222 0 \n",
       "L 581 0 \n",
       "z\n",
       "\" transform=\"scale(0.015625)\"/>\n",
       "       </defs>\n",
       "       <use xlink:href=\"#ArialMT-30\"/>\n",
       "       <use xlink:href=\"#ArialMT-2e\" x=\"55.615234\"/>\n",
       "       <use xlink:href=\"#ArialMT-30\" x=\"83.398438\"/>\n",
       "      </g>\n",
       "     </g>\n",
       "    </g>\n",
       "    <g id=\"xtick_2\">\n",
       "     <g id=\"text_2\">\n",
       "      <!-- 0.1 -->\n",
       "      <g style=\"fill: #262626\" transform=\"translate(80.049968 246.333594) scale(0.11 -0.11)\">\n",
       "       <defs>\n",
       "        <path id=\"ArialMT-31\" d=\"M 2384 0 \n",
       "L 1822 0 \n",
       "L 1822 3584 \n",
       "Q 1619 3391 1289 3197 \n",
       "Q 959 3003 697 2906 \n",
       "L 697 3450 \n",
       "Q 1169 3672 1522 3987 \n",
       "Q 1875 4303 2022 4600 \n",
       "L 2384 4600 \n",
       "L 2384 0 \n",
       "z\n",
       "\" transform=\"scale(0.015625)\"/>\n",
       "       </defs>\n",
       "       <use xlink:href=\"#ArialMT-30\"/>\n",
       "       <use xlink:href=\"#ArialMT-2e\" x=\"55.615234\"/>\n",
       "       <use xlink:href=\"#ArialMT-31\" x=\"83.398438\"/>\n",
       "      </g>\n",
       "     </g>\n",
       "    </g>\n",
       "    <g id=\"xtick_3\">\n",
       "     <g id=\"text_3\">\n",
       "      <!-- 0.2 -->\n",
       "      <g style=\"fill: #262626\" transform=\"translate(123.592691 246.333594) scale(0.11 -0.11)\">\n",
       "       <defs>\n",
       "        <path id=\"ArialMT-32\" d=\"M 3222 541 \n",
       "L 3222 0 \n",
       "L 194 0 \n",
       "Q 188 203 259 391 \n",
       "Q 375 700 629 1000 \n",
       "Q 884 1300 1366 1694 \n",
       "Q 2113 2306 2375 2664 \n",
       "Q 2638 3022 2638 3341 \n",
       "Q 2638 3675 2398 3904 \n",
       "Q 2159 4134 1775 4134 \n",
       "Q 1369 4134 1125 3890 \n",
       "Q 881 3647 878 3216 \n",
       "L 300 3275 \n",
       "Q 359 3922 746 4261 \n",
       "Q 1134 4600 1788 4600 \n",
       "Q 2447 4600 2831 4234 \n",
       "Q 3216 3869 3216 3328 \n",
       "Q 3216 3053 3103 2787 \n",
       "Q 2991 2522 2730 2228 \n",
       "Q 2469 1934 1863 1422 \n",
       "Q 1356 997 1212 845 \n",
       "Q 1069 694 975 541 \n",
       "L 3222 541 \n",
       "z\n",
       "\" transform=\"scale(0.015625)\"/>\n",
       "       </defs>\n",
       "       <use xlink:href=\"#ArialMT-30\"/>\n",
       "       <use xlink:href=\"#ArialMT-2e\" x=\"55.615234\"/>\n",
       "       <use xlink:href=\"#ArialMT-32\" x=\"83.398438\"/>\n",
       "      </g>\n",
       "     </g>\n",
       "    </g>\n",
       "    <g id=\"xtick_4\">\n",
       "     <g id=\"text_4\">\n",
       "      <!-- 0.3 -->\n",
       "      <g style=\"fill: #262626\" transform=\"translate(167.135414 246.333594) scale(0.11 -0.11)\">\n",
       "       <defs>\n",
       "        <path id=\"ArialMT-33\" d=\"M 269 1209 \n",
       "L 831 1284 \n",
       "Q 928 806 1161 595 \n",
       "Q 1394 384 1728 384 \n",
       "Q 2125 384 2398 659 \n",
       "Q 2672 934 2672 1341 \n",
       "Q 2672 1728 2419 1979 \n",
       "Q 2166 2231 1775 2231 \n",
       "Q 1616 2231 1378 2169 \n",
       "L 1441 2663 \n",
       "Q 1497 2656 1531 2656 \n",
       "Q 1891 2656 2178 2843 \n",
       "Q 2466 3031 2466 3422 \n",
       "Q 2466 3731 2256 3934 \n",
       "Q 2047 4138 1716 4138 \n",
       "Q 1388 4138 1169 3931 \n",
       "Q 950 3725 888 3313 \n",
       "L 325 3413 \n",
       "Q 428 3978 793 4289 \n",
       "Q 1159 4600 1703 4600 \n",
       "Q 2078 4600 2393 4439 \n",
       "Q 2709 4278 2876 4000 \n",
       "Q 3044 3722 3044 3409 \n",
       "Q 3044 3113 2884 2869 \n",
       "Q 2725 2625 2413 2481 \n",
       "Q 2819 2388 3044 2092 \n",
       "Q 3269 1797 3269 1353 \n",
       "Q 3269 753 2831 336 \n",
       "Q 2394 -81 1725 -81 \n",
       "Q 1122 -81 723 278 \n",
       "Q 325 638 269 1209 \n",
       "z\n",
       "\" transform=\"scale(0.015625)\"/>\n",
       "       </defs>\n",
       "       <use xlink:href=\"#ArialMT-30\"/>\n",
       "       <use xlink:href=\"#ArialMT-2e\" x=\"55.615234\"/>\n",
       "       <use xlink:href=\"#ArialMT-33\" x=\"83.398438\"/>\n",
       "      </g>\n",
       "     </g>\n",
       "    </g>\n",
       "    <g id=\"xtick_5\">\n",
       "     <g id=\"text_5\">\n",
       "      <!-- 0.4 -->\n",
       "      <g style=\"fill: #262626\" transform=\"translate(210.678138 246.333594) scale(0.11 -0.11)\">\n",
       "       <defs>\n",
       "        <path id=\"ArialMT-34\" d=\"M 2069 0 \n",
       "L 2069 1097 \n",
       "L 81 1097 \n",
       "L 81 1613 \n",
       "L 2172 4581 \n",
       "L 2631 4581 \n",
       "L 2631 1613 \n",
       "L 3250 1613 \n",
       "L 3250 1097 \n",
       "L 2631 1097 \n",
       "L 2631 0 \n",
       "L 2069 0 \n",
       "z\n",
       "M 2069 1613 \n",
       "L 2069 3678 \n",
       "L 634 1613 \n",
       "L 2069 1613 \n",
       "z\n",
       "\" transform=\"scale(0.015625)\"/>\n",
       "       </defs>\n",
       "       <use xlink:href=\"#ArialMT-30\"/>\n",
       "       <use xlink:href=\"#ArialMT-2e\" x=\"55.615234\"/>\n",
       "       <use xlink:href=\"#ArialMT-34\" x=\"83.398438\"/>\n",
       "      </g>\n",
       "     </g>\n",
       "    </g>\n",
       "    <g id=\"xtick_6\">\n",
       "     <g id=\"text_6\">\n",
       "      <!-- 0.5 -->\n",
       "      <g style=\"fill: #262626\" transform=\"translate(254.220861 246.333594) scale(0.11 -0.11)\">\n",
       "       <defs>\n",
       "        <path id=\"ArialMT-35\" d=\"M 266 1200 \n",
       "L 856 1250 \n",
       "Q 922 819 1161 601 \n",
       "Q 1400 384 1738 384 \n",
       "Q 2144 384 2425 690 \n",
       "Q 2706 997 2706 1503 \n",
       "Q 2706 1984 2436 2262 \n",
       "Q 2166 2541 1728 2541 \n",
       "Q 1456 2541 1237 2417 \n",
       "Q 1019 2294 894 2097 \n",
       "L 366 2166 \n",
       "L 809 4519 \n",
       "L 3088 4519 \n",
       "L 3088 3981 \n",
       "L 1259 3981 \n",
       "L 1013 2750 \n",
       "Q 1425 3038 1878 3038 \n",
       "Q 2478 3038 2890 2622 \n",
       "Q 3303 2206 3303 1553 \n",
       "Q 3303 931 2941 478 \n",
       "Q 2500 -78 1738 -78 \n",
       "Q 1113 -78 717 272 \n",
       "Q 322 622 266 1200 \n",
       "z\n",
       "\" transform=\"scale(0.015625)\"/>\n",
       "       </defs>\n",
       "       <use xlink:href=\"#ArialMT-30\"/>\n",
       "       <use xlink:href=\"#ArialMT-2e\" x=\"55.615234\"/>\n",
       "       <use xlink:href=\"#ArialMT-35\" x=\"83.398438\"/>\n",
       "      </g>\n",
       "     </g>\n",
       "    </g>\n",
       "    <g id=\"xtick_7\">\n",
       "     <g id=\"text_7\">\n",
       "      <!-- 0.6 -->\n",
       "      <g style=\"fill: #262626\" transform=\"translate(297.763585 246.333594) scale(0.11 -0.11)\">\n",
       "       <defs>\n",
       "        <path id=\"ArialMT-36\" d=\"M 3184 3459 \n",
       "L 2625 3416 \n",
       "Q 2550 3747 2413 3897 \n",
       "Q 2184 4138 1850 4138 \n",
       "Q 1581 4138 1378 3988 \n",
       "Q 1113 3794 959 3422 \n",
       "Q 806 3050 800 2363 \n",
       "Q 1003 2672 1297 2822 \n",
       "Q 1591 2972 1913 2972 \n",
       "Q 2475 2972 2870 2558 \n",
       "Q 3266 2144 3266 1488 \n",
       "Q 3266 1056 3080 686 \n",
       "Q 2894 316 2569 119 \n",
       "Q 2244 -78 1831 -78 \n",
       "Q 1128 -78 684 439 \n",
       "Q 241 956 241 2144 \n",
       "Q 241 3472 731 4075 \n",
       "Q 1159 4600 1884 4600 \n",
       "Q 2425 4600 2770 4297 \n",
       "Q 3116 3994 3184 3459 \n",
       "z\n",
       "M 888 1484 \n",
       "Q 888 1194 1011 928 \n",
       "Q 1134 663 1356 523 \n",
       "Q 1578 384 1822 384 \n",
       "Q 2178 384 2434 671 \n",
       "Q 2691 959 2691 1453 \n",
       "Q 2691 1928 2437 2201 \n",
       "Q 2184 2475 1800 2475 \n",
       "Q 1419 2475 1153 2201 \n",
       "Q 888 1928 888 1484 \n",
       "z\n",
       "\" transform=\"scale(0.015625)\"/>\n",
       "       </defs>\n",
       "       <use xlink:href=\"#ArialMT-30\"/>\n",
       "       <use xlink:href=\"#ArialMT-2e\" x=\"55.615234\"/>\n",
       "       <use xlink:href=\"#ArialMT-36\" x=\"83.398438\"/>\n",
       "      </g>\n",
       "     </g>\n",
       "    </g>\n",
       "    <g id=\"xtick_8\">\n",
       "     <g id=\"text_8\">\n",
       "      <!-- 0.7 -->\n",
       "      <g style=\"fill: #262626\" transform=\"translate(341.306308 246.333594) scale(0.11 -0.11)\">\n",
       "       <defs>\n",
       "        <path id=\"ArialMT-37\" d=\"M 303 3981 \n",
       "L 303 4522 \n",
       "L 3269 4522 \n",
       "L 3269 4084 \n",
       "Q 2831 3619 2401 2847 \n",
       "Q 1972 2075 1738 1259 \n",
       "Q 1569 684 1522 0 \n",
       "L 944 0 \n",
       "Q 953 541 1156 1306 \n",
       "Q 1359 2072 1739 2783 \n",
       "Q 2119 3494 2547 3981 \n",
       "L 303 3981 \n",
       "z\n",
       "\" transform=\"scale(0.015625)\"/>\n",
       "       </defs>\n",
       "       <use xlink:href=\"#ArialMT-30\"/>\n",
       "       <use xlink:href=\"#ArialMT-2e\" x=\"55.615234\"/>\n",
       "       <use xlink:href=\"#ArialMT-37\" x=\"83.398438\"/>\n",
       "      </g>\n",
       "     </g>\n",
       "    </g>\n",
       "   </g>\n",
       "   <g id=\"matplotlib.axis_2\">\n",
       "    <g id=\"ytick_1\">\n",
       "     <g id=\"text_9\">\n",
       "      <!-- 0 -->\n",
       "      <g style=\"fill: #262626\" transform=\"translate(13.317031 232.896797) scale(0.11 -0.11)\">\n",
       "       <use xlink:href=\"#ArialMT-30\"/>\n",
       "      </g>\n",
       "     </g>\n",
       "    </g>\n",
       "    <g id=\"ytick_2\">\n",
       "     <g id=\"text_10\">\n",
       "      <!-- 2 -->\n",
       "      <g style=\"fill: #262626\" transform=\"translate(13.317031 194.496797) scale(0.11 -0.11)\">\n",
       "       <use xlink:href=\"#ArialMT-32\"/>\n",
       "      </g>\n",
       "     </g>\n",
       "    </g>\n",
       "    <g id=\"ytick_3\">\n",
       "     <g id=\"text_11\">\n",
       "      <!-- 4 -->\n",
       "      <g style=\"fill: #262626\" transform=\"translate(13.317031 156.096797) scale(0.11 -0.11)\">\n",
       "       <use xlink:href=\"#ArialMT-34\"/>\n",
       "      </g>\n",
       "     </g>\n",
       "    </g>\n",
       "    <g id=\"ytick_4\">\n",
       "     <g id=\"text_12\">\n",
       "      <!-- 6 -->\n",
       "      <g style=\"fill: #262626\" transform=\"translate(13.317031 117.696797) scale(0.11 -0.11)\">\n",
       "       <use xlink:href=\"#ArialMT-36\"/>\n",
       "      </g>\n",
       "     </g>\n",
       "    </g>\n",
       "    <g id=\"ytick_5\">\n",
       "     <g id=\"text_13\">\n",
       "      <!-- 8 -->\n",
       "      <g style=\"fill: #262626\" transform=\"translate(13.317031 79.296797) scale(0.11 -0.11)\">\n",
       "       <defs>\n",
       "        <path id=\"ArialMT-38\" d=\"M 1131 2484 \n",
       "Q 781 2613 612 2850 \n",
       "Q 444 3088 444 3419 \n",
       "Q 444 3919 803 4259 \n",
       "Q 1163 4600 1759 4600 \n",
       "Q 2359 4600 2725 4251 \n",
       "Q 3091 3903 3091 3403 \n",
       "Q 3091 3084 2923 2848 \n",
       "Q 2756 2613 2416 2484 \n",
       "Q 2838 2347 3058 2040 \n",
       "Q 3278 1734 3278 1309 \n",
       "Q 3278 722 2862 322 \n",
       "Q 2447 -78 1769 -78 \n",
       "Q 1091 -78 675 323 \n",
       "Q 259 725 259 1325 \n",
       "Q 259 1772 486 2073 \n",
       "Q 713 2375 1131 2484 \n",
       "z\n",
       "M 1019 3438 \n",
       "Q 1019 3113 1228 2906 \n",
       "Q 1438 2700 1772 2700 \n",
       "Q 2097 2700 2305 2904 \n",
       "Q 2513 3109 2513 3406 \n",
       "Q 2513 3716 2298 3927 \n",
       "Q 2084 4138 1766 4138 \n",
       "Q 1444 4138 1231 3931 \n",
       "Q 1019 3725 1019 3438 \n",
       "z\n",
       "M 838 1322 \n",
       "Q 838 1081 952 856 \n",
       "Q 1066 631 1291 507 \n",
       "Q 1516 384 1775 384 \n",
       "Q 2178 384 2440 643 \n",
       "Q 2703 903 2703 1303 \n",
       "Q 2703 1709 2433 1975 \n",
       "Q 2163 2241 1756 2241 \n",
       "Q 1359 2241 1098 1978 \n",
       "Q 838 1716 838 1322 \n",
       "z\n",
       "\" transform=\"scale(0.015625)\"/>\n",
       "       </defs>\n",
       "       <use xlink:href=\"#ArialMT-38\"/>\n",
       "      </g>\n",
       "     </g>\n",
       "    </g>\n",
       "    <g id=\"ytick_6\">\n",
       "     <g id=\"text_14\">\n",
       "      <!-- 10 -->\n",
       "      <g style=\"fill: #262626\" transform=\"translate(7.2 40.896797) scale(0.11 -0.11)\">\n",
       "       <use xlink:href=\"#ArialMT-31\"/>\n",
       "       <use xlink:href=\"#ArialMT-30\" x=\"55.615234\"/>\n",
       "      </g>\n",
       "     </g>\n",
       "    </g>\n",
       "   </g>\n",
       "   <g id=\"patch_3\">\n",
       "    <path d=\"M 130.932892 228.96 \n",
       "L 158.526538 228.96 \n",
       "L 158.526538 94.56 \n",
       "L 130.932892 94.56 \n",
       "z\n",
       "\" clip-path=\"url(#p56f64d4f8d)\" style=\"fill: #ffffff; stroke: #1a1a1a; stroke-width: 2; stroke-linejoin: miter\"/>\n",
       "   </g>\n",
       "   <g id=\"patch_4\">\n",
       "    <path d=\"M 158.526538 228.96 \n",
       "L 186.120184 228.96 \n",
       "L 186.120184 75.36 \n",
       "L 158.526538 75.36 \n",
       "z\n",
       "\" clip-path=\"url(#p56f64d4f8d)\" style=\"fill: #ffffff; stroke: #1a1a1a; stroke-width: 2; stroke-linejoin: miter\"/>\n",
       "   </g>\n",
       "   <g id=\"patch_5\">\n",
       "    <path d=\"M 186.120184 228.96 \n",
       "L 213.71383 228.96 \n",
       "L 213.71383 94.56 \n",
       "L 186.120184 94.56 \n",
       "z\n",
       "\" clip-path=\"url(#p56f64d4f8d)\" style=\"fill: #ffffff; stroke: #1a1a1a; stroke-width: 2; stroke-linejoin: miter\"/>\n",
       "   </g>\n",
       "   <g id=\"patch_6\">\n",
       "    <path d=\"M 213.71383 228.96 \n",
       "L 241.307475 228.96 \n",
       "L 241.307475 17.76 \n",
       "L 213.71383 17.76 \n",
       "z\n",
       "\" clip-path=\"url(#p56f64d4f8d)\" style=\"fill: #ffffff; stroke: #1a1a1a; stroke-width: 2; stroke-linejoin: miter\"/>\n",
       "   </g>\n",
       "   <g id=\"patch_7\">\n",
       "    <path d=\"M 241.307475 228.96 \n",
       "L 268.901121 228.96 \n",
       "L 268.901121 17.76 \n",
       "L 241.307475 17.76 \n",
       "z\n",
       "\" clip-path=\"url(#p56f64d4f8d)\" style=\"fill: #ffffff; stroke: #1a1a1a; stroke-width: 2; stroke-linejoin: miter\"/>\n",
       "   </g>\n",
       "   <g id=\"patch_8\">\n",
       "    <path d=\"M 268.901121 228.96 \n",
       "L 296.494767 228.96 \n",
       "L 296.494767 152.16 \n",
       "L 268.901121 152.16 \n",
       "z\n",
       "\" clip-path=\"url(#p56f64d4f8d)\" style=\"fill: #ffffff; stroke: #1a1a1a; stroke-width: 2; stroke-linejoin: miter\"/>\n",
       "   </g>\n",
       "   <g id=\"patch_9\">\n",
       "    <path d=\"M 296.494767 228.96 \n",
       "L 324.088413 228.96 \n",
       "L 324.088413 190.56 \n",
       "L 296.494767 190.56 \n",
       "z\n",
       "\" clip-path=\"url(#p56f64d4f8d)\" style=\"fill: #ffffff; stroke: #1a1a1a; stroke-width: 2; stroke-linejoin: miter\"/>\n",
       "   </g>\n",
       "   <g id=\"line2d_1\">\n",
       "    <path d=\"M 44.152244 228.883235 \n",
       "L 62.440188 228.660765 \n",
       "L 73.761296 228.315963 \n",
       "L 82.469841 227.843431 \n",
       "L 89.872104 227.22491 \n",
       "L 96.403512 226.452078 \n",
       "L 102.064066 225.562123 \n",
       "L 107.289193 224.520039 \n",
       "L 112.078893 223.347363 \n",
       "L 116.868592 221.938072 \n",
       "L 121.222865 220.429043 \n",
       "L 125.577137 218.684061 \n",
       "L 129.931409 216.687652 \n",
       "L 134.285682 214.42831 \n",
       "L 138.639954 211.899688 \n",
       "L 142.994226 209.101787 \n",
       "L 147.348499 206.042052 \n",
       "L 152.138198 202.393095 \n",
       "L 157.363325 198.113276 \n",
       "L 163.459306 192.808828 \n",
       "L 173.038705 184.117182 \n",
       "L 181.311823 176.717545 \n",
       "L 186.53695 172.335833 \n",
       "L 190.891222 168.972472 \n",
       "L 194.810067 166.235732 \n",
       "L 198.293485 164.077211 \n",
       "L 201.341476 162.427336 \n",
       "L 204.389466 161.021074 \n",
       "L 207.437457 159.875473 \n",
       "L 210.05002 159.111742 \n",
       "L 212.662584 158.556861 \n",
       "L 215.275147 158.215919 \n",
       "L 217.887711 158.092054 \n",
       "L 220.500274 158.186409 \n",
       "L 223.112837 158.498113 \n",
       "L 225.725401 159.024296 \n",
       "L 228.337964 159.760129 \n",
       "L 231.385955 160.874524 \n",
       "L 234.433945 162.251369 \n",
       "L 237.481936 163.873947 \n",
       "L 240.965354 166.004232 \n",
       "L 244.448772 168.397495 \n",
       "L 248.367617 171.359776 \n",
       "L 252.721889 174.922805 \n",
       "L 258.382443 179.859701 \n",
       "L 269.268124 189.748932 \n",
       "L 276.670387 196.322463 \n",
       "L 282.330941 201.064922 \n",
       "L 287.120641 204.809773 \n",
       "L 291.91034 208.26733 \n",
       "L 296.264613 211.139958 \n",
       "L 300.618885 213.744603 \n",
       "L 304.973157 216.079278 \n",
       "L 309.32743 218.148661 \n",
       "L 313.681702 219.962929 \n",
       "L 318.035974 221.536561 \n",
       "L 322.390247 222.887165 \n",
       "L 327.179946 224.138717 \n",
       "L 332.405073 225.255824 \n",
       "L 337.6302 226.148958 \n",
       "L 343.726181 226.954115 \n",
       "L 348.515881 227.439315 \n",
       "L 348.515881 227.439315 \n",
       "\" clip-path=\"url(#p56f64d4f8d)\" style=\"fill: none; stroke: #c44e52; stroke-width: 1.5; stroke-linecap: round\"/>\n",
       "   </g>\n",
       "   <g id=\"patch_10\">\n",
       "    <path d=\"M 28.934062 228.96 \n",
       "L 28.934062 7.2 \n",
       "\" style=\"fill: none; stroke: #ffffff; stroke-width: 1.25; stroke-linejoin: miter; stroke-linecap: square\"/>\n",
       "   </g>\n",
       "   <g id=\"patch_11\">\n",
       "    <path d=\"M 363.734062 228.96 \n",
       "L 363.734062 7.2 \n",
       "\" style=\"fill: none; stroke: #ffffff; stroke-width: 1.25; stroke-linejoin: miter; stroke-linecap: square\"/>\n",
       "   </g>\n",
       "   <g id=\"patch_12\">\n",
       "    <path d=\"M 28.934062 228.96 \n",
       "L 363.734063 228.96 \n",
       "\" style=\"fill: none; stroke: #ffffff; stroke-width: 1.25; stroke-linejoin: miter; stroke-linecap: square\"/>\n",
       "   </g>\n",
       "   <g id=\"patch_13\">\n",
       "    <path d=\"M 28.934062 7.2 \n",
       "L 363.734063 7.2 \n",
       "\" style=\"fill: none; stroke: #ffffff; stroke-width: 1.25; stroke-linejoin: miter; stroke-linecap: square\"/>\n",
       "   </g>\n",
       "  </g>\n",
       " </g>\n",
       " <defs>\n",
       "  <clipPath id=\"p56f64d4f8d\">\n",
       "   <rect x=\"28.934062\" y=\"7.2\" width=\"334.8\" height=\"221.76\"/>\n",
       "  </clipPath>\n",
       " </defs>\n",
       "</svg>\n"
      ],
      "text/plain": [
       "<Figure size 600x400 with 1 Axes>"
      ]
     },
     "metadata": {},
     "output_type": "display_data"
    }
   ],
   "source": [
    "fig = plt.figure(figsize=(6, 4))\n",
    "ax = fig.add_subplot()\n",
    "x = np.arange (0, 0.7, 0.001)\n",
    "\n",
    "ax.hist(LYMPH.ODG, 7, color='w', linewidth=2, edgecolor='k')\n",
    "plt.plot (x, norm.pdf(x, mean, std), color='r')\n",
    "ax.grid()\n",
    "plt.show()"
   ]
  },
  {
   "cell_type": "markdown",
   "id": "61fa5ee1-a361-4893-b344-28dc2e3af441",
   "metadata": {},
   "source": [
    "Полигон"
   ]
  },
  {
   "cell_type": "code",
   "execution_count": 30,
   "id": "d1613656-b9f0-4a42-bc47-d21520325cd6",
   "metadata": {
    "ExecuteTime": {
     "end_time": "2024-05-07T13:33:10.338256Z",
     "start_time": "2024-05-07T13:33:10.285570Z"
    }
   },
   "outputs": [
    {
     "data": {
      "image/svg+xml": [
       "<?xml version=\"1.0\" encoding=\"utf-8\" standalone=\"no\"?>\n",
       "<!DOCTYPE svg PUBLIC \"-//W3C//DTD SVG 1.1//EN\"\n",
       "  \"http://www.w3.org/Graphics/SVG/1.1/DTD/svg11.dtd\">\n",
       "<svg xmlns:xlink=\"http://www.w3.org/1999/xlink\" width=\"370.934062pt\" height=\"255.719844pt\" viewBox=\"0 0 370.934062 255.719844\" xmlns=\"http://www.w3.org/2000/svg\" version=\"1.1\">\n",
       " <metadata>\n",
       "  <rdf:RDF xmlns:dc=\"http://purl.org/dc/elements/1.1/\" xmlns:cc=\"http://creativecommons.org/ns#\" xmlns:rdf=\"http://www.w3.org/1999/02/22-rdf-syntax-ns#\">\n",
       "   <cc:Work>\n",
       "    <dc:type rdf:resource=\"http://purl.org/dc/dcmitype/StillImage\"/>\n",
       "    <dc:date>2024-05-07T16:33:10.325488</dc:date>\n",
       "    <dc:format>image/svg+xml</dc:format>\n",
       "    <dc:creator>\n",
       "     <cc:Agent>\n",
       "      <dc:title>Matplotlib v3.8.0, https://matplotlib.org/</dc:title>\n",
       "     </cc:Agent>\n",
       "    </dc:creator>\n",
       "   </cc:Work>\n",
       "  </rdf:RDF>\n",
       " </metadata>\n",
       " <defs>\n",
       "  <style type=\"text/css\">*{stroke-linejoin: round; stroke-linecap: butt}</style>\n",
       " </defs>\n",
       " <g id=\"figure_1\">\n",
       "  <g id=\"patch_1\">\n",
       "   <path d=\"M 0 255.719844 \n",
       "L 370.934062 255.719844 \n",
       "L 370.934062 0 \n",
       "L 0 0 \n",
       "z\n",
       "\" style=\"fill: #ffffff\"/>\n",
       "  </g>\n",
       "  <g id=\"axes_1\">\n",
       "   <g id=\"patch_2\">\n",
       "    <path d=\"M 28.934062 228.96 \n",
       "L 363.734062 228.96 \n",
       "L 363.734062 7.2 \n",
       "L 28.934062 7.2 \n",
       "z\n",
       "\" style=\"fill: #eaeaf2\"/>\n",
       "   </g>\n",
       "   <g id=\"matplotlib.axis_1\">\n",
       "    <g id=\"xtick_1\">\n",
       "     <g id=\"text_1\">\n",
       "      <!-- 0.0 -->\n",
       "      <g style=\"fill: #262626\" transform=\"translate(36.507244 246.333594) scale(0.11 -0.11)\">\n",
       "       <defs>\n",
       "        <path id=\"ArialMT-30\" d=\"M 266 2259 \n",
       "Q 266 3072 433 3567 \n",
       "Q 600 4063 929 4331 \n",
       "Q 1259 4600 1759 4600 \n",
       "Q 2128 4600 2406 4451 \n",
       "Q 2684 4303 2865 4023 \n",
       "Q 3047 3744 3150 3342 \n",
       "Q 3253 2941 3253 2259 \n",
       "Q 3253 1453 3087 958 \n",
       "Q 2922 463 2592 192 \n",
       "Q 2263 -78 1759 -78 \n",
       "Q 1097 -78 719 397 \n",
       "Q 266 969 266 2259 \n",
       "z\n",
       "M 844 2259 \n",
       "Q 844 1131 1108 757 \n",
       "Q 1372 384 1759 384 \n",
       "Q 2147 384 2411 759 \n",
       "Q 2675 1134 2675 2259 \n",
       "Q 2675 3391 2411 3762 \n",
       "Q 2147 4134 1753 4134 \n",
       "Q 1366 4134 1134 3806 \n",
       "Q 844 3388 844 2259 \n",
       "z\n",
       "\" transform=\"scale(0.015625)\"/>\n",
       "        <path id=\"ArialMT-2e\" d=\"M 581 0 \n",
       "L 581 641 \n",
       "L 1222 641 \n",
       "L 1222 0 \n",
       "L 581 0 \n",
       "z\n",
       "\" transform=\"scale(0.015625)\"/>\n",
       "       </defs>\n",
       "       <use xlink:href=\"#ArialMT-30\"/>\n",
       "       <use xlink:href=\"#ArialMT-2e\" x=\"55.615234\"/>\n",
       "       <use xlink:href=\"#ArialMT-30\" x=\"83.398438\"/>\n",
       "      </g>\n",
       "     </g>\n",
       "    </g>\n",
       "    <g id=\"xtick_2\">\n",
       "     <g id=\"text_2\">\n",
       "      <!-- 0.1 -->\n",
       "      <g style=\"fill: #262626\" transform=\"translate(80.049968 246.333594) scale(0.11 -0.11)\">\n",
       "       <defs>\n",
       "        <path id=\"ArialMT-31\" d=\"M 2384 0 \n",
       "L 1822 0 \n",
       "L 1822 3584 \n",
       "Q 1619 3391 1289 3197 \n",
       "Q 959 3003 697 2906 \n",
       "L 697 3450 \n",
       "Q 1169 3672 1522 3987 \n",
       "Q 1875 4303 2022 4600 \n",
       "L 2384 4600 \n",
       "L 2384 0 \n",
       "z\n",
       "\" transform=\"scale(0.015625)\"/>\n",
       "       </defs>\n",
       "       <use xlink:href=\"#ArialMT-30\"/>\n",
       "       <use xlink:href=\"#ArialMT-2e\" x=\"55.615234\"/>\n",
       "       <use xlink:href=\"#ArialMT-31\" x=\"83.398438\"/>\n",
       "      </g>\n",
       "     </g>\n",
       "    </g>\n",
       "    <g id=\"xtick_3\">\n",
       "     <g id=\"text_3\">\n",
       "      <!-- 0.2 -->\n",
       "      <g style=\"fill: #262626\" transform=\"translate(123.592691 246.333594) scale(0.11 -0.11)\">\n",
       "       <defs>\n",
       "        <path id=\"ArialMT-32\" d=\"M 3222 541 \n",
       "L 3222 0 \n",
       "L 194 0 \n",
       "Q 188 203 259 391 \n",
       "Q 375 700 629 1000 \n",
       "Q 884 1300 1366 1694 \n",
       "Q 2113 2306 2375 2664 \n",
       "Q 2638 3022 2638 3341 \n",
       "Q 2638 3675 2398 3904 \n",
       "Q 2159 4134 1775 4134 \n",
       "Q 1369 4134 1125 3890 \n",
       "Q 881 3647 878 3216 \n",
       "L 300 3275 \n",
       "Q 359 3922 746 4261 \n",
       "Q 1134 4600 1788 4600 \n",
       "Q 2447 4600 2831 4234 \n",
       "Q 3216 3869 3216 3328 \n",
       "Q 3216 3053 3103 2787 \n",
       "Q 2991 2522 2730 2228 \n",
       "Q 2469 1934 1863 1422 \n",
       "Q 1356 997 1212 845 \n",
       "Q 1069 694 975 541 \n",
       "L 3222 541 \n",
       "z\n",
       "\" transform=\"scale(0.015625)\"/>\n",
       "       </defs>\n",
       "       <use xlink:href=\"#ArialMT-30\"/>\n",
       "       <use xlink:href=\"#ArialMT-2e\" x=\"55.615234\"/>\n",
       "       <use xlink:href=\"#ArialMT-32\" x=\"83.398438\"/>\n",
       "      </g>\n",
       "     </g>\n",
       "    </g>\n",
       "    <g id=\"xtick_4\">\n",
       "     <g id=\"text_4\">\n",
       "      <!-- 0.3 -->\n",
       "      <g style=\"fill: #262626\" transform=\"translate(167.135414 246.333594) scale(0.11 -0.11)\">\n",
       "       <defs>\n",
       "        <path id=\"ArialMT-33\" d=\"M 269 1209 \n",
       "L 831 1284 \n",
       "Q 928 806 1161 595 \n",
       "Q 1394 384 1728 384 \n",
       "Q 2125 384 2398 659 \n",
       "Q 2672 934 2672 1341 \n",
       "Q 2672 1728 2419 1979 \n",
       "Q 2166 2231 1775 2231 \n",
       "Q 1616 2231 1378 2169 \n",
       "L 1441 2663 \n",
       "Q 1497 2656 1531 2656 \n",
       "Q 1891 2656 2178 2843 \n",
       "Q 2466 3031 2466 3422 \n",
       "Q 2466 3731 2256 3934 \n",
       "Q 2047 4138 1716 4138 \n",
       "Q 1388 4138 1169 3931 \n",
       "Q 950 3725 888 3313 \n",
       "L 325 3413 \n",
       "Q 428 3978 793 4289 \n",
       "Q 1159 4600 1703 4600 \n",
       "Q 2078 4600 2393 4439 \n",
       "Q 2709 4278 2876 4000 \n",
       "Q 3044 3722 3044 3409 \n",
       "Q 3044 3113 2884 2869 \n",
       "Q 2725 2625 2413 2481 \n",
       "Q 2819 2388 3044 2092 \n",
       "Q 3269 1797 3269 1353 \n",
       "Q 3269 753 2831 336 \n",
       "Q 2394 -81 1725 -81 \n",
       "Q 1122 -81 723 278 \n",
       "Q 325 638 269 1209 \n",
       "z\n",
       "\" transform=\"scale(0.015625)\"/>\n",
       "       </defs>\n",
       "       <use xlink:href=\"#ArialMT-30\"/>\n",
       "       <use xlink:href=\"#ArialMT-2e\" x=\"55.615234\"/>\n",
       "       <use xlink:href=\"#ArialMT-33\" x=\"83.398438\"/>\n",
       "      </g>\n",
       "     </g>\n",
       "    </g>\n",
       "    <g id=\"xtick_5\">\n",
       "     <g id=\"text_5\">\n",
       "      <!-- 0.4 -->\n",
       "      <g style=\"fill: #262626\" transform=\"translate(210.678138 246.333594) scale(0.11 -0.11)\">\n",
       "       <defs>\n",
       "        <path id=\"ArialMT-34\" d=\"M 2069 0 \n",
       "L 2069 1097 \n",
       "L 81 1097 \n",
       "L 81 1613 \n",
       "L 2172 4581 \n",
       "L 2631 4581 \n",
       "L 2631 1613 \n",
       "L 3250 1613 \n",
       "L 3250 1097 \n",
       "L 2631 1097 \n",
       "L 2631 0 \n",
       "L 2069 0 \n",
       "z\n",
       "M 2069 1613 \n",
       "L 2069 3678 \n",
       "L 634 1613 \n",
       "L 2069 1613 \n",
       "z\n",
       "\" transform=\"scale(0.015625)\"/>\n",
       "       </defs>\n",
       "       <use xlink:href=\"#ArialMT-30\"/>\n",
       "       <use xlink:href=\"#ArialMT-2e\" x=\"55.615234\"/>\n",
       "       <use xlink:href=\"#ArialMT-34\" x=\"83.398438\"/>\n",
       "      </g>\n",
       "     </g>\n",
       "    </g>\n",
       "    <g id=\"xtick_6\">\n",
       "     <g id=\"text_6\">\n",
       "      <!-- 0.5 -->\n",
       "      <g style=\"fill: #262626\" transform=\"translate(254.220861 246.333594) scale(0.11 -0.11)\">\n",
       "       <defs>\n",
       "        <path id=\"ArialMT-35\" d=\"M 266 1200 \n",
       "L 856 1250 \n",
       "Q 922 819 1161 601 \n",
       "Q 1400 384 1738 384 \n",
       "Q 2144 384 2425 690 \n",
       "Q 2706 997 2706 1503 \n",
       "Q 2706 1984 2436 2262 \n",
       "Q 2166 2541 1728 2541 \n",
       "Q 1456 2541 1237 2417 \n",
       "Q 1019 2294 894 2097 \n",
       "L 366 2166 \n",
       "L 809 4519 \n",
       "L 3088 4519 \n",
       "L 3088 3981 \n",
       "L 1259 3981 \n",
       "L 1013 2750 \n",
       "Q 1425 3038 1878 3038 \n",
       "Q 2478 3038 2890 2622 \n",
       "Q 3303 2206 3303 1553 \n",
       "Q 3303 931 2941 478 \n",
       "Q 2500 -78 1738 -78 \n",
       "Q 1113 -78 717 272 \n",
       "Q 322 622 266 1200 \n",
       "z\n",
       "\" transform=\"scale(0.015625)\"/>\n",
       "       </defs>\n",
       "       <use xlink:href=\"#ArialMT-30\"/>\n",
       "       <use xlink:href=\"#ArialMT-2e\" x=\"55.615234\"/>\n",
       "       <use xlink:href=\"#ArialMT-35\" x=\"83.398438\"/>\n",
       "      </g>\n",
       "     </g>\n",
       "    </g>\n",
       "    <g id=\"xtick_7\">\n",
       "     <g id=\"text_7\">\n",
       "      <!-- 0.6 -->\n",
       "      <g style=\"fill: #262626\" transform=\"translate(297.763585 246.333594) scale(0.11 -0.11)\">\n",
       "       <defs>\n",
       "        <path id=\"ArialMT-36\" d=\"M 3184 3459 \n",
       "L 2625 3416 \n",
       "Q 2550 3747 2413 3897 \n",
       "Q 2184 4138 1850 4138 \n",
       "Q 1581 4138 1378 3988 \n",
       "Q 1113 3794 959 3422 \n",
       "Q 806 3050 800 2363 \n",
       "Q 1003 2672 1297 2822 \n",
       "Q 1591 2972 1913 2972 \n",
       "Q 2475 2972 2870 2558 \n",
       "Q 3266 2144 3266 1488 \n",
       "Q 3266 1056 3080 686 \n",
       "Q 2894 316 2569 119 \n",
       "Q 2244 -78 1831 -78 \n",
       "Q 1128 -78 684 439 \n",
       "Q 241 956 241 2144 \n",
       "Q 241 3472 731 4075 \n",
       "Q 1159 4600 1884 4600 \n",
       "Q 2425 4600 2770 4297 \n",
       "Q 3116 3994 3184 3459 \n",
       "z\n",
       "M 888 1484 \n",
       "Q 888 1194 1011 928 \n",
       "Q 1134 663 1356 523 \n",
       "Q 1578 384 1822 384 \n",
       "Q 2178 384 2434 671 \n",
       "Q 2691 959 2691 1453 \n",
       "Q 2691 1928 2437 2201 \n",
       "Q 2184 2475 1800 2475 \n",
       "Q 1419 2475 1153 2201 \n",
       "Q 888 1928 888 1484 \n",
       "z\n",
       "\" transform=\"scale(0.015625)\"/>\n",
       "       </defs>\n",
       "       <use xlink:href=\"#ArialMT-30\"/>\n",
       "       <use xlink:href=\"#ArialMT-2e\" x=\"55.615234\"/>\n",
       "       <use xlink:href=\"#ArialMT-36\" x=\"83.398438\"/>\n",
       "      </g>\n",
       "     </g>\n",
       "    </g>\n",
       "    <g id=\"xtick_8\">\n",
       "     <g id=\"text_8\">\n",
       "      <!-- 0.7 -->\n",
       "      <g style=\"fill: #262626\" transform=\"translate(341.306308 246.333594) scale(0.11 -0.11)\">\n",
       "       <defs>\n",
       "        <path id=\"ArialMT-37\" d=\"M 303 3981 \n",
       "L 303 4522 \n",
       "L 3269 4522 \n",
       "L 3269 4084 \n",
       "Q 2831 3619 2401 2847 \n",
       "Q 1972 2075 1738 1259 \n",
       "Q 1569 684 1522 0 \n",
       "L 944 0 \n",
       "Q 953 541 1156 1306 \n",
       "Q 1359 2072 1739 2783 \n",
       "Q 2119 3494 2547 3981 \n",
       "L 303 3981 \n",
       "z\n",
       "\" transform=\"scale(0.015625)\"/>\n",
       "       </defs>\n",
       "       <use xlink:href=\"#ArialMT-30\"/>\n",
       "       <use xlink:href=\"#ArialMT-2e\" x=\"55.615234\"/>\n",
       "       <use xlink:href=\"#ArialMT-37\" x=\"83.398438\"/>\n",
       "      </g>\n",
       "     </g>\n",
       "    </g>\n",
       "   </g>\n",
       "   <g id=\"matplotlib.axis_2\">\n",
       "    <g id=\"ytick_1\">\n",
       "     <g id=\"text_9\">\n",
       "      <!-- 0 -->\n",
       "      <g style=\"fill: #262626\" transform=\"translate(13.317031 222.883989) scale(0.11 -0.11)\">\n",
       "       <use xlink:href=\"#ArialMT-30\"/>\n",
       "      </g>\n",
       "     </g>\n",
       "    </g>\n",
       "    <g id=\"ytick_2\">\n",
       "     <g id=\"text_10\">\n",
       "      <!-- 2 -->\n",
       "      <g style=\"fill: #262626\" transform=\"translate(13.317031 189.27279) scale(0.11 -0.11)\">\n",
       "       <use xlink:href=\"#ArialMT-32\"/>\n",
       "      </g>\n",
       "     </g>\n",
       "    </g>\n",
       "    <g id=\"ytick_3\">\n",
       "     <g id=\"text_11\">\n",
       "      <!-- 4 -->\n",
       "      <g style=\"fill: #262626\" transform=\"translate(13.317031 155.661592) scale(0.11 -0.11)\">\n",
       "       <use xlink:href=\"#ArialMT-34\"/>\n",
       "      </g>\n",
       "     </g>\n",
       "    </g>\n",
       "    <g id=\"ytick_4\">\n",
       "     <g id=\"text_12\">\n",
       "      <!-- 6 -->\n",
       "      <g style=\"fill: #262626\" transform=\"translate(13.317031 122.050393) scale(0.11 -0.11)\">\n",
       "       <use xlink:href=\"#ArialMT-36\"/>\n",
       "      </g>\n",
       "     </g>\n",
       "    </g>\n",
       "    <g id=\"ytick_5\">\n",
       "     <g id=\"text_13\">\n",
       "      <!-- 8 -->\n",
       "      <g style=\"fill: #262626\" transform=\"translate(13.317031 88.439194) scale(0.11 -0.11)\">\n",
       "       <defs>\n",
       "        <path id=\"ArialMT-38\" d=\"M 1131 2484 \n",
       "Q 781 2613 612 2850 \n",
       "Q 444 3088 444 3419 \n",
       "Q 444 3919 803 4259 \n",
       "Q 1163 4600 1759 4600 \n",
       "Q 2359 4600 2725 4251 \n",
       "Q 3091 3903 3091 3403 \n",
       "Q 3091 3084 2923 2848 \n",
       "Q 2756 2613 2416 2484 \n",
       "Q 2838 2347 3058 2040 \n",
       "Q 3278 1734 3278 1309 \n",
       "Q 3278 722 2862 322 \n",
       "Q 2447 -78 1769 -78 \n",
       "Q 1091 -78 675 323 \n",
       "Q 259 725 259 1325 \n",
       "Q 259 1772 486 2073 \n",
       "Q 713 2375 1131 2484 \n",
       "z\n",
       "M 1019 3438 \n",
       "Q 1019 3113 1228 2906 \n",
       "Q 1438 2700 1772 2700 \n",
       "Q 2097 2700 2305 2904 \n",
       "Q 2513 3109 2513 3406 \n",
       "Q 2513 3716 2298 3927 \n",
       "Q 2084 4138 1766 4138 \n",
       "Q 1444 4138 1231 3931 \n",
       "Q 1019 3725 1019 3438 \n",
       "z\n",
       "M 838 1322 \n",
       "Q 838 1081 952 856 \n",
       "Q 1066 631 1291 507 \n",
       "Q 1516 384 1775 384 \n",
       "Q 2178 384 2440 643 \n",
       "Q 2703 903 2703 1303 \n",
       "Q 2703 1709 2433 1975 \n",
       "Q 2163 2241 1756 2241 \n",
       "Q 1359 2241 1098 1978 \n",
       "Q 838 1716 838 1322 \n",
       "z\n",
       "\" transform=\"scale(0.015625)\"/>\n",
       "       </defs>\n",
       "       <use xlink:href=\"#ArialMT-38\"/>\n",
       "      </g>\n",
       "     </g>\n",
       "    </g>\n",
       "    <g id=\"ytick_6\">\n",
       "     <g id=\"text_14\">\n",
       "      <!-- 10 -->\n",
       "      <g style=\"fill: #262626\" transform=\"translate(7.2 54.827996) scale(0.11 -0.11)\">\n",
       "       <use xlink:href=\"#ArialMT-31\"/>\n",
       "       <use xlink:href=\"#ArialMT-30\" x=\"55.615234\"/>\n",
       "      </g>\n",
       "     </g>\n",
       "    </g>\n",
       "    <g id=\"ytick_7\">\n",
       "     <g id=\"text_15\">\n",
       "      <!-- 12 -->\n",
       "      <g style=\"fill: #262626\" transform=\"translate(7.2 21.216797) scale(0.11 -0.11)\">\n",
       "       <use xlink:href=\"#ArialMT-31\"/>\n",
       "       <use xlink:href=\"#ArialMT-32\" x=\"55.615234\"/>\n",
       "      </g>\n",
       "     </g>\n",
       "    </g>\n",
       "   </g>\n",
       "   <g id=\"line2d_1\">\n",
       "    <path d=\"M 130.932892 168.530394 \n",
       "L 160.171831 50.891199 \n",
       "L 189.410769 134.919195 \n",
       "L 218.649708 17.28 \n",
       "L 247.888647 34.085599 \n",
       "L 277.127586 101.307997 \n",
       "L 306.366524 202.141593 \n",
       "L 335.605463 202.141593 \n",
       "\" clip-path=\"url(#p3857986d15)\" style=\"fill: none; stroke: #1a1a1a; stroke-width: 1.5; stroke-linecap: round\"/>\n",
       "    <defs>\n",
       "     <path id=\"m1821d19fe1\" d=\"M 0 3 \n",
       "C 0.795609 3 1.55874 2.683901 2.12132 2.12132 \n",
       "C 2.683901 1.55874 3 0.795609 3 0 \n",
       "C 3 -0.795609 2.683901 -1.55874 2.12132 -2.12132 \n",
       "C 1.55874 -2.683901 0.795609 -3 0 -3 \n",
       "C -0.795609 -3 -1.55874 -2.683901 -2.12132 -2.12132 \n",
       "C -2.683901 -1.55874 -3 -0.795609 -3 0 \n",
       "C -3 0.795609 -2.683901 1.55874 -2.12132 2.12132 \n",
       "C -1.55874 2.683901 -0.795609 3 0 3 \n",
       "z\n",
       "\" style=\"stroke: #1a1a1a\"/>\n",
       "    </defs>\n",
       "    <g clip-path=\"url(#p3857986d15)\">\n",
       "     <use xlink:href=\"#m1821d19fe1\" x=\"130.932892\" y=\"168.530394\" style=\"fill: #1a1a1a; stroke: #1a1a1a\"/>\n",
       "     <use xlink:href=\"#m1821d19fe1\" x=\"160.171831\" y=\"50.891199\" style=\"fill: #1a1a1a; stroke: #1a1a1a\"/>\n",
       "     <use xlink:href=\"#m1821d19fe1\" x=\"189.410769\" y=\"134.919195\" style=\"fill: #1a1a1a; stroke: #1a1a1a\"/>\n",
       "     <use xlink:href=\"#m1821d19fe1\" x=\"218.649708\" y=\"17.28\" style=\"fill: #1a1a1a; stroke: #1a1a1a\"/>\n",
       "     <use xlink:href=\"#m1821d19fe1\" x=\"247.888647\" y=\"34.085599\" style=\"fill: #1a1a1a; stroke: #1a1a1a\"/>\n",
       "     <use xlink:href=\"#m1821d19fe1\" x=\"277.127586\" y=\"101.307997\" style=\"fill: #1a1a1a; stroke: #1a1a1a\"/>\n",
       "     <use xlink:href=\"#m1821d19fe1\" x=\"306.366524\" y=\"202.141593\" style=\"fill: #1a1a1a; stroke: #1a1a1a\"/>\n",
       "     <use xlink:href=\"#m1821d19fe1\" x=\"335.605463\" y=\"202.141593\" style=\"fill: #1a1a1a; stroke: #1a1a1a\"/>\n",
       "    </g>\n",
       "   </g>\n",
       "   <g id=\"line2d_2\">\n",
       "    <path d=\"M 44.152244 218.88 \n",
       "L 63.311043 218.668795 \n",
       "L 75.067578 218.333631 \n",
       "L 84.21155 217.860645 \n",
       "L 91.613813 217.268554 \n",
       "L 98.145221 216.533296 \n",
       "L 104.241203 215.61741 \n",
       "L 109.466329 214.618499 \n",
       "L 114.691456 213.388862 \n",
       "L 119.481156 212.032385 \n",
       "L 124.270855 210.433508 \n",
       "L 128.625128 208.753326 \n",
       "L 132.9794 206.845594 \n",
       "L 137.333672 204.703294 \n",
       "L 141.687945 202.324654 \n",
       "L 146.477644 199.440717 \n",
       "L 151.267344 196.292305 \n",
       "L 156.492471 192.588598 \n",
       "L 162.588452 187.981805 \n",
       "L 171.732424 180.73996 \n",
       "L 181.311823 173.219808 \n",
       "L 186.53695 169.384532 \n",
       "L 190.891222 166.440611 \n",
       "L 194.810067 164.045165 \n",
       "L 198.293485 162.15583 \n",
       "L 201.776903 160.522437 \n",
       "L 204.824894 159.323286 \n",
       "L 207.872884 158.354213 \n",
       "L 210.920875 157.627136 \n",
       "L 213.968865 157.151082 \n",
       "L 217.016856 156.932002 \n",
       "L 219.62942 156.950919 \n",
       "L 222.67741 157.213894 \n",
       "L 225.725401 157.733056 \n",
       "L 228.773391 158.501921 \n",
       "L 231.821382 159.510957 \n",
       "L 234.869373 160.747779 \n",
       "L 238.352791 162.420878 \n",
       "L 241.836208 164.345835 \n",
       "L 245.755054 166.775934 \n",
       "L 250.109326 169.75111 \n",
       "L 255.334453 173.613376 \n",
       "L 262.301288 179.067624 \n",
       "L 276.670387 190.379829 \n",
       "L 282.330941 194.530864 \n",
       "L 287.556068 198.094629 \n",
       "L 292.345768 201.09688 \n",
       "L 297.135467 203.824336 \n",
       "L 301.489739 206.056838 \n",
       "L 305.844012 208.053421 \n",
       "L 310.198284 209.819226 \n",
       "L 314.552556 211.363999 \n",
       "L 319.342256 212.823912 \n",
       "L 324.131956 214.053712 \n",
       "L 329.357082 215.160415 \n",
       "L 335.017636 216.118398 \n",
       "L 341.113618 216.914072 \n",
       "L 348.080453 217.581631 \n",
       "L 348.515881 217.61615 \n",
       "L 348.515881 217.61615 \n",
       "\" clip-path=\"url(#p3857986d15)\" style=\"fill: none; stroke: #c44e52; stroke-width: 1.5; stroke-linecap: round\"/>\n",
       "   </g>\n",
       "   <g id=\"patch_3\">\n",
       "    <path d=\"M 28.934062 228.96 \n",
       "L 28.934062 7.2 \n",
       "\" style=\"fill: none; stroke: #ffffff; stroke-width: 1.25; stroke-linejoin: miter; stroke-linecap: square\"/>\n",
       "   </g>\n",
       "   <g id=\"patch_4\">\n",
       "    <path d=\"M 363.734062 228.96 \n",
       "L 363.734062 7.2 \n",
       "\" style=\"fill: none; stroke: #ffffff; stroke-width: 1.25; stroke-linejoin: miter; stroke-linecap: square\"/>\n",
       "   </g>\n",
       "   <g id=\"patch_5\">\n",
       "    <path d=\"M 28.934062 228.96 \n",
       "L 363.734063 228.96 \n",
       "\" style=\"fill: none; stroke: #ffffff; stroke-width: 1.25; stroke-linejoin: miter; stroke-linecap: square\"/>\n",
       "   </g>\n",
       "   <g id=\"patch_6\">\n",
       "    <path d=\"M 28.934062 7.2 \n",
       "L 363.734063 7.2 \n",
       "\" style=\"fill: none; stroke: #ffffff; stroke-width: 1.25; stroke-linejoin: miter; stroke-linecap: square\"/>\n",
       "   </g>\n",
       "  </g>\n",
       " </g>\n",
       " <defs>\n",
       "  <clipPath id=\"p3857986d15\">\n",
       "   <rect x=\"28.934062\" y=\"7.2\" width=\"334.8\" height=\"221.76\"/>\n",
       "  </clipPath>\n",
       " </defs>\n",
       "</svg>\n"
      ],
      "text/plain": [
       "<Figure size 600x400 with 1 Axes>"
      ]
     },
     "metadata": {},
     "output_type": "display_data"
    }
   ],
   "source": [
    "fig = plt.figure(figsize=(6, 4))\n",
    "ax = fig.add_subplot()\n",
    "#x = np.arange (0, 0.3, 0.001)\n",
    "\n",
    "m0 = [7, 10, 14, 8, 3, 2, 6]\n",
    "mk = [3, 10, 5, 12, 11, 7, 1, 1]\n",
    "xk = [0.19930, 0.26645, 0.33360, 0.40075, 0.46790, 0.53505, 0.60220, 0.66935]\n",
    "\n",
    "plt.plot(xk, mk, 'o-', color='k')\n",
    "plt.plot (x, norm.pdf(x, mean, std), color='r')\n",
    "ax.grid()\n",
    "plt.show()"
   ]
  },
  {
   "cell_type": "markdown",
   "id": "26ed43fa-0c90-4281-bdca-827da6e1e85b",
   "metadata": {},
   "source": [
    "Кумулята"
   ]
  },
  {
   "cell_type": "code",
   "execution_count": 31,
   "id": "72337553-cfed-41b1-b2c8-a4ec98e97bf8",
   "metadata": {
    "ExecuteTime": {
     "end_time": "2024-05-07T13:33:10.472629Z",
     "start_time": "2024-05-07T13:33:10.417992Z"
    }
   },
   "outputs": [
    {
     "data": {
      "image/svg+xml": [
       "<?xml version=\"1.0\" encoding=\"utf-8\" standalone=\"no\"?>\n",
       "<!DOCTYPE svg PUBLIC \"-//W3C//DTD SVG 1.1//EN\"\n",
       "  \"http://www.w3.org/Graphics/SVG/1.1/DTD/svg11.dtd\">\n",
       "<svg xmlns:xlink=\"http://www.w3.org/1999/xlink\" width=\"381.528937pt\" height=\"255.719844pt\" viewBox=\"0 0 381.528937 255.719844\" xmlns=\"http://www.w3.org/2000/svg\" version=\"1.1\">\n",
       " <metadata>\n",
       "  <rdf:RDF xmlns:dc=\"http://purl.org/dc/elements/1.1/\" xmlns:cc=\"http://creativecommons.org/ns#\" xmlns:rdf=\"http://www.w3.org/1999/02/22-rdf-syntax-ns#\">\n",
       "   <cc:Work>\n",
       "    <dc:type rdf:resource=\"http://purl.org/dc/dcmitype/StillImage\"/>\n",
       "    <dc:date>2024-05-07T16:33:10.459702</dc:date>\n",
       "    <dc:format>image/svg+xml</dc:format>\n",
       "    <dc:creator>\n",
       "     <cc:Agent>\n",
       "      <dc:title>Matplotlib v3.8.0, https://matplotlib.org/</dc:title>\n",
       "     </cc:Agent>\n",
       "    </dc:creator>\n",
       "   </cc:Work>\n",
       "  </rdf:RDF>\n",
       " </metadata>\n",
       " <defs>\n",
       "  <style type=\"text/css\">*{stroke-linejoin: round; stroke-linecap: butt}</style>\n",
       " </defs>\n",
       " <g id=\"figure_1\">\n",
       "  <g id=\"patch_1\">\n",
       "   <path d=\"M 0 255.719844 \n",
       "L 381.528937 255.719844 \n",
       "L 381.528937 0 \n",
       "L 0 0 \n",
       "z\n",
       "\" style=\"fill: #ffffff\"/>\n",
       "  </g>\n",
       "  <g id=\"axes_1\">\n",
       "   <g id=\"patch_2\">\n",
       "    <path d=\"M 28.934062 228.96 \n",
       "L 363.734062 228.96 \n",
       "L 363.734062 7.2 \n",
       "L 28.934062 7.2 \n",
       "z\n",
       "\" style=\"fill: #eaeaf2\"/>\n",
       "   </g>\n",
       "   <g id=\"matplotlib.axis_1\">\n",
       "    <g id=\"xtick_1\">\n",
       "     <g id=\"text_1\">\n",
       "      <!-- 0.00 -->\n",
       "      <g style=\"fill: #262626\" transform=\"translate(18.640042 246.333594) scale(0.11 -0.11)\">\n",
       "       <defs>\n",
       "        <path id=\"ArialMT-30\" d=\"M 266 2259 \n",
       "Q 266 3072 433 3567 \n",
       "Q 600 4063 929 4331 \n",
       "Q 1259 4600 1759 4600 \n",
       "Q 2128 4600 2406 4451 \n",
       "Q 2684 4303 2865 4023 \n",
       "Q 3047 3744 3150 3342 \n",
       "Q 3253 2941 3253 2259 \n",
       "Q 3253 1453 3087 958 \n",
       "Q 2922 463 2592 192 \n",
       "Q 2263 -78 1759 -78 \n",
       "Q 1097 -78 719 397 \n",
       "Q 266 969 266 2259 \n",
       "z\n",
       "M 844 2259 \n",
       "Q 844 1131 1108 757 \n",
       "Q 1372 384 1759 384 \n",
       "Q 2147 384 2411 759 \n",
       "Q 2675 1134 2675 2259 \n",
       "Q 2675 3391 2411 3762 \n",
       "Q 2147 4134 1753 4134 \n",
       "Q 1366 4134 1134 3806 \n",
       "Q 844 3388 844 2259 \n",
       "z\n",
       "\" transform=\"scale(0.015625)\"/>\n",
       "        <path id=\"ArialMT-2e\" d=\"M 581 0 \n",
       "L 581 641 \n",
       "L 1222 641 \n",
       "L 1222 0 \n",
       "L 581 0 \n",
       "z\n",
       "\" transform=\"scale(0.015625)\"/>\n",
       "       </defs>\n",
       "       <use xlink:href=\"#ArialMT-30\"/>\n",
       "       <use xlink:href=\"#ArialMT-2e\" x=\"55.615234\"/>\n",
       "       <use xlink:href=\"#ArialMT-30\" x=\"83.398438\"/>\n",
       "       <use xlink:href=\"#ArialMT-30\" x=\"139.013672\"/>\n",
       "      </g>\n",
       "     </g>\n",
       "    </g>\n",
       "    <g id=\"xtick_2\">\n",
       "     <g id=\"text_2\">\n",
       "      <!-- 0.05 -->\n",
       "      <g style=\"fill: #262626\" transform=\"translate(74.353686 246.333594) scale(0.11 -0.11)\">\n",
       "       <defs>\n",
       "        <path id=\"ArialMT-35\" d=\"M 266 1200 \n",
       "L 856 1250 \n",
       "Q 922 819 1161 601 \n",
       "Q 1400 384 1738 384 \n",
       "Q 2144 384 2425 690 \n",
       "Q 2706 997 2706 1503 \n",
       "Q 2706 1984 2436 2262 \n",
       "Q 2166 2541 1728 2541 \n",
       "Q 1456 2541 1237 2417 \n",
       "Q 1019 2294 894 2097 \n",
       "L 366 2166 \n",
       "L 809 4519 \n",
       "L 3088 4519 \n",
       "L 3088 3981 \n",
       "L 1259 3981 \n",
       "L 1013 2750 \n",
       "Q 1425 3038 1878 3038 \n",
       "Q 2478 3038 2890 2622 \n",
       "Q 3303 2206 3303 1553 \n",
       "Q 3303 931 2941 478 \n",
       "Q 2500 -78 1738 -78 \n",
       "Q 1113 -78 717 272 \n",
       "Q 322 622 266 1200 \n",
       "z\n",
       "\" transform=\"scale(0.015625)\"/>\n",
       "       </defs>\n",
       "       <use xlink:href=\"#ArialMT-30\"/>\n",
       "       <use xlink:href=\"#ArialMT-2e\" x=\"55.615234\"/>\n",
       "       <use xlink:href=\"#ArialMT-30\" x=\"83.398438\"/>\n",
       "       <use xlink:href=\"#ArialMT-35\" x=\"139.013672\"/>\n",
       "      </g>\n",
       "     </g>\n",
       "    </g>\n",
       "    <g id=\"xtick_3\">\n",
       "     <g id=\"text_3\">\n",
       "      <!-- 0.10 -->\n",
       "      <g style=\"fill: #262626\" transform=\"translate(130.06733 246.333594) scale(0.11 -0.11)\">\n",
       "       <defs>\n",
       "        <path id=\"ArialMT-31\" d=\"M 2384 0 \n",
       "L 1822 0 \n",
       "L 1822 3584 \n",
       "Q 1619 3391 1289 3197 \n",
       "Q 959 3003 697 2906 \n",
       "L 697 3450 \n",
       "Q 1169 3672 1522 3987 \n",
       "Q 1875 4303 2022 4600 \n",
       "L 2384 4600 \n",
       "L 2384 0 \n",
       "z\n",
       "\" transform=\"scale(0.015625)\"/>\n",
       "       </defs>\n",
       "       <use xlink:href=\"#ArialMT-30\"/>\n",
       "       <use xlink:href=\"#ArialMT-2e\" x=\"55.615234\"/>\n",
       "       <use xlink:href=\"#ArialMT-31\" x=\"83.398438\"/>\n",
       "       <use xlink:href=\"#ArialMT-30\" x=\"139.013672\"/>\n",
       "      </g>\n",
       "     </g>\n",
       "    </g>\n",
       "    <g id=\"xtick_4\">\n",
       "     <g id=\"text_4\">\n",
       "      <!-- 0.15 -->\n",
       "      <g style=\"fill: #262626\" transform=\"translate(185.780974 246.333594) scale(0.11 -0.11)\">\n",
       "       <use xlink:href=\"#ArialMT-30\"/>\n",
       "       <use xlink:href=\"#ArialMT-2e\" x=\"55.615234\"/>\n",
       "       <use xlink:href=\"#ArialMT-31\" x=\"83.398438\"/>\n",
       "       <use xlink:href=\"#ArialMT-35\" x=\"139.013672\"/>\n",
       "      </g>\n",
       "     </g>\n",
       "    </g>\n",
       "    <g id=\"xtick_5\">\n",
       "     <g id=\"text_5\">\n",
       "      <!-- 0.20 -->\n",
       "      <g style=\"fill: #262626\" transform=\"translate(241.494618 246.333594) scale(0.11 -0.11)\">\n",
       "       <defs>\n",
       "        <path id=\"ArialMT-32\" d=\"M 3222 541 \n",
       "L 3222 0 \n",
       "L 194 0 \n",
       "Q 188 203 259 391 \n",
       "Q 375 700 629 1000 \n",
       "Q 884 1300 1366 1694 \n",
       "Q 2113 2306 2375 2664 \n",
       "Q 2638 3022 2638 3341 \n",
       "Q 2638 3675 2398 3904 \n",
       "Q 2159 4134 1775 4134 \n",
       "Q 1369 4134 1125 3890 \n",
       "Q 881 3647 878 3216 \n",
       "L 300 3275 \n",
       "Q 359 3922 746 4261 \n",
       "Q 1134 4600 1788 4600 \n",
       "Q 2447 4600 2831 4234 \n",
       "Q 3216 3869 3216 3328 \n",
       "Q 3216 3053 3103 2787 \n",
       "Q 2991 2522 2730 2228 \n",
       "Q 2469 1934 1863 1422 \n",
       "Q 1356 997 1212 845 \n",
       "Q 1069 694 975 541 \n",
       "L 3222 541 \n",
       "z\n",
       "\" transform=\"scale(0.015625)\"/>\n",
       "       </defs>\n",
       "       <use xlink:href=\"#ArialMT-30\"/>\n",
       "       <use xlink:href=\"#ArialMT-2e\" x=\"55.615234\"/>\n",
       "       <use xlink:href=\"#ArialMT-32\" x=\"83.398438\"/>\n",
       "       <use xlink:href=\"#ArialMT-30\" x=\"139.013672\"/>\n",
       "      </g>\n",
       "     </g>\n",
       "    </g>\n",
       "    <g id=\"xtick_6\">\n",
       "     <g id=\"text_6\">\n",
       "      <!-- 0.25 -->\n",
       "      <g style=\"fill: #262626\" transform=\"translate(297.208261 246.333594) scale(0.11 -0.11)\">\n",
       "       <use xlink:href=\"#ArialMT-30\"/>\n",
       "       <use xlink:href=\"#ArialMT-2e\" x=\"55.615234\"/>\n",
       "       <use xlink:href=\"#ArialMT-32\" x=\"83.398438\"/>\n",
       "       <use xlink:href=\"#ArialMT-35\" x=\"139.013672\"/>\n",
       "      </g>\n",
       "     </g>\n",
       "    </g>\n",
       "    <g id=\"xtick_7\">\n",
       "     <g id=\"text_7\">\n",
       "      <!-- 0.30 -->\n",
       "      <g style=\"fill: #262626\" transform=\"translate(352.921905 246.333594) scale(0.11 -0.11)\">\n",
       "       <defs>\n",
       "        <path id=\"ArialMT-33\" d=\"M 269 1209 \n",
       "L 831 1284 \n",
       "Q 928 806 1161 595 \n",
       "Q 1394 384 1728 384 \n",
       "Q 2125 384 2398 659 \n",
       "Q 2672 934 2672 1341 \n",
       "Q 2672 1728 2419 1979 \n",
       "Q 2166 2231 1775 2231 \n",
       "Q 1616 2231 1378 2169 \n",
       "L 1441 2663 \n",
       "Q 1497 2656 1531 2656 \n",
       "Q 1891 2656 2178 2843 \n",
       "Q 2466 3031 2466 3422 \n",
       "Q 2466 3731 2256 3934 \n",
       "Q 2047 4138 1716 4138 \n",
       "Q 1388 4138 1169 3931 \n",
       "Q 950 3725 888 3313 \n",
       "L 325 3413 \n",
       "Q 428 3978 793 4289 \n",
       "Q 1159 4600 1703 4600 \n",
       "Q 2078 4600 2393 4439 \n",
       "Q 2709 4278 2876 4000 \n",
       "Q 3044 3722 3044 3409 \n",
       "Q 3044 3113 2884 2869 \n",
       "Q 2725 2625 2413 2481 \n",
       "Q 2819 2388 3044 2092 \n",
       "Q 3269 1797 3269 1353 \n",
       "Q 3269 753 2831 336 \n",
       "Q 2394 -81 1725 -81 \n",
       "Q 1122 -81 723 278 \n",
       "Q 325 638 269 1209 \n",
       "z\n",
       "\" transform=\"scale(0.015625)\"/>\n",
       "       </defs>\n",
       "       <use xlink:href=\"#ArialMT-30\"/>\n",
       "       <use xlink:href=\"#ArialMT-2e\" x=\"55.615234\"/>\n",
       "       <use xlink:href=\"#ArialMT-33\" x=\"83.398438\"/>\n",
       "       <use xlink:href=\"#ArialMT-30\" x=\"139.013672\"/>\n",
       "      </g>\n",
       "     </g>\n",
       "    </g>\n",
       "   </g>\n",
       "   <g id=\"matplotlib.axis_2\">\n",
       "    <g id=\"ytick_1\">\n",
       "     <g id=\"text_8\">\n",
       "      <!-- 0 -->\n",
       "      <g style=\"fill: #262626\" transform=\"translate(13.317031 232.896797) scale(0.11 -0.11)\">\n",
       "       <use xlink:href=\"#ArialMT-30\"/>\n",
       "      </g>\n",
       "     </g>\n",
       "    </g>\n",
       "    <g id=\"ytick_2\">\n",
       "     <g id=\"text_9\">\n",
       "      <!-- 10 -->\n",
       "      <g style=\"fill: #262626\" transform=\"translate(7.2 190.656797) scale(0.11 -0.11)\">\n",
       "       <use xlink:href=\"#ArialMT-31\"/>\n",
       "       <use xlink:href=\"#ArialMT-30\" x=\"55.615234\"/>\n",
       "      </g>\n",
       "     </g>\n",
       "    </g>\n",
       "    <g id=\"ytick_3\">\n",
       "     <g id=\"text_10\">\n",
       "      <!-- 20 -->\n",
       "      <g style=\"fill: #262626\" transform=\"translate(7.2 148.416797) scale(0.11 -0.11)\">\n",
       "       <use xlink:href=\"#ArialMT-32\"/>\n",
       "       <use xlink:href=\"#ArialMT-30\" x=\"55.615234\"/>\n",
       "      </g>\n",
       "     </g>\n",
       "    </g>\n",
       "    <g id=\"ytick_4\">\n",
       "     <g id=\"text_11\">\n",
       "      <!-- 30 -->\n",
       "      <g style=\"fill: #262626\" transform=\"translate(7.2 106.176797) scale(0.11 -0.11)\">\n",
       "       <use xlink:href=\"#ArialMT-33\"/>\n",
       "       <use xlink:href=\"#ArialMT-30\" x=\"55.615234\"/>\n",
       "      </g>\n",
       "     </g>\n",
       "    </g>\n",
       "    <g id=\"ytick_5\">\n",
       "     <g id=\"text_12\">\n",
       "      <!-- 40 -->\n",
       "      <g style=\"fill: #262626\" transform=\"translate(7.2 63.936797) scale(0.11 -0.11)\">\n",
       "       <defs>\n",
       "        <path id=\"ArialMT-34\" d=\"M 2069 0 \n",
       "L 2069 1097 \n",
       "L 81 1097 \n",
       "L 81 1613 \n",
       "L 2172 4581 \n",
       "L 2631 4581 \n",
       "L 2631 1613 \n",
       "L 3250 1613 \n",
       "L 3250 1097 \n",
       "L 2631 1097 \n",
       "L 2631 0 \n",
       "L 2069 0 \n",
       "z\n",
       "M 2069 1613 \n",
       "L 2069 3678 \n",
       "L 634 1613 \n",
       "L 2069 1613 \n",
       "z\n",
       "\" transform=\"scale(0.015625)\"/>\n",
       "       </defs>\n",
       "       <use xlink:href=\"#ArialMT-34\"/>\n",
       "       <use xlink:href=\"#ArialMT-30\" x=\"55.615234\"/>\n",
       "      </g>\n",
       "     </g>\n",
       "    </g>\n",
       "    <g id=\"ytick_6\">\n",
       "     <g id=\"text_13\">\n",
       "      <!-- 50 -->\n",
       "      <g style=\"fill: #262626\" transform=\"translate(7.2 21.696797) scale(0.11 -0.11)\">\n",
       "       <use xlink:href=\"#ArialMT-35\"/>\n",
       "       <use xlink:href=\"#ArialMT-30\" x=\"55.615234\"/>\n",
       "      </g>\n",
       "     </g>\n",
       "    </g>\n",
       "   </g>\n",
       "   <g id=\"patch_3\">\n",
       "    <path d=\"M 44.152244 228.96 \n",
       "L 87.632764 228.96 \n",
       "L 87.632764 195.168 \n",
       "L 44.152244 195.168 \n",
       "z\n",
       "\" clip-path=\"url(#p245fa71f8b)\" style=\"fill: #4c72b0; stroke: #ffffff; stroke-linejoin: miter\"/>\n",
       "   </g>\n",
       "   <g id=\"patch_4\">\n",
       "    <path d=\"M 87.632764 228.96 \n",
       "L 131.113283 228.96 \n",
       "L 131.113283 157.152 \n",
       "L 87.632764 157.152 \n",
       "z\n",
       "\" clip-path=\"url(#p245fa71f8b)\" style=\"fill: #4c72b0; stroke: #ffffff; stroke-linejoin: miter\"/>\n",
       "   </g>\n",
       "   <g id=\"patch_5\">\n",
       "    <path d=\"M 131.113283 228.96 \n",
       "L 174.593803 228.96 \n",
       "L 174.593803 98.016 \n",
       "L 131.113283 98.016 \n",
       "z\n",
       "\" clip-path=\"url(#p245fa71f8b)\" style=\"fill: #4c72b0; stroke: #ffffff; stroke-linejoin: miter\"/>\n",
       "   </g>\n",
       "   <g id=\"patch_6\">\n",
       "    <path d=\"M 174.593803 228.96 \n",
       "L 218.074322 228.96 \n",
       "L 218.074322 64.224 \n",
       "L 174.593803 64.224 \n",
       "z\n",
       "\" clip-path=\"url(#p245fa71f8b)\" style=\"fill: #4c72b0; stroke: #ffffff; stroke-linejoin: miter\"/>\n",
       "   </g>\n",
       "   <g id=\"patch_7\">\n",
       "    <path d=\"M 218.074322 228.96 \n",
       "L 261.554842 228.96 \n",
       "L 261.554842 51.552 \n",
       "L 218.074322 51.552 \n",
       "z\n",
       "\" clip-path=\"url(#p245fa71f8b)\" style=\"fill: #4c72b0; stroke: #ffffff; stroke-linejoin: miter\"/>\n",
       "   </g>\n",
       "   <g id=\"patch_8\">\n",
       "    <path d=\"M 261.554842 228.96 \n",
       "L 305.035361 228.96 \n",
       "L 305.035361 43.104 \n",
       "L 261.554842 43.104 \n",
       "z\n",
       "\" clip-path=\"url(#p245fa71f8b)\" style=\"fill: #4c72b0; stroke: #ffffff; stroke-linejoin: miter\"/>\n",
       "   </g>\n",
       "   <g id=\"patch_9\">\n",
       "    <path d=\"M 305.035361 228.96 \n",
       "L 348.515881 228.96 \n",
       "L 348.515881 17.76 \n",
       "L 305.035361 17.76 \n",
       "z\n",
       "\" clip-path=\"url(#p245fa71f8b)\" style=\"fill: #4c72b0; stroke: #ffffff; stroke-linejoin: miter\"/>\n",
       "   </g>\n",
       "   <g id=\"patch_10\">\n",
       "    <path d=\"M 28.934062 228.96 \n",
       "L 28.934062 7.2 \n",
       "\" style=\"fill: none; stroke: #ffffff; stroke-width: 1.25; stroke-linejoin: miter; stroke-linecap: square\"/>\n",
       "   </g>\n",
       "   <g id=\"patch_11\">\n",
       "    <path d=\"M 363.734062 228.96 \n",
       "L 363.734062 7.2 \n",
       "\" style=\"fill: none; stroke: #ffffff; stroke-width: 1.25; stroke-linejoin: miter; stroke-linecap: square\"/>\n",
       "   </g>\n",
       "   <g id=\"patch_12\">\n",
       "    <path d=\"M 28.934062 228.96 \n",
       "L 363.734062 228.96 \n",
       "\" style=\"fill: none; stroke: #ffffff; stroke-width: 1.25; stroke-linejoin: miter; stroke-linecap: square\"/>\n",
       "   </g>\n",
       "   <g id=\"patch_13\">\n",
       "    <path d=\"M 28.934062 7.2 \n",
       "L 363.734062 7.2 \n",
       "\" style=\"fill: none; stroke: #ffffff; stroke-width: 1.25; stroke-linejoin: miter; stroke-linecap: square\"/>\n",
       "   </g>\n",
       "  </g>\n",
       " </g>\n",
       " <defs>\n",
       "  <clipPath id=\"p245fa71f8b\">\n",
       "   <rect x=\"28.934062\" y=\"7.2\" width=\"334.8\" height=\"221.76\"/>\n",
       "  </clipPath>\n",
       " </defs>\n",
       "</svg>\n"
      ],
      "text/plain": [
       "<Figure size 600x400 with 1 Axes>"
      ]
     },
     "metadata": {},
     "output_type": "display_data"
    }
   ],
   "source": [
    "fig = plt.figure(figsize=(6, 4))\n",
    "ax = fig.add_subplot()\n",
    "#x = np.arange (0, 0.3, 0.001)\n",
    "\n",
    "mk = [7, 17, 31, 39, 42, 44, 50]\n",
    "\n",
    "plt.hist(LYMPH.NPOLAR, bins=7, cumulative=True)\n",
    "ax.grid()\n",
    "plt.show()"
   ]
  },
  {
   "cell_type": "markdown",
   "id": "387b73a0-1111-4b52-82d0-f70e49b0848a",
   "metadata": {},
   "source": [
    "1.3.1 Нахождение медианы (Me)."
   ]
  },
  {
   "cell_type": "code",
   "execution_count": 32,
   "id": "baf003ce-2b08-47a6-8a87-8558d62a2464",
   "metadata": {
    "ExecuteTime": {
     "end_time": "2024-05-07T13:33:10.615537Z",
     "start_time": "2024-05-07T13:33:10.612326Z"
    }
   },
   "outputs": [
    {
     "data": {
      "text/plain": [
       "0.1129842857142857"
      ]
     },
     "execution_count": 32,
     "metadata": {},
     "output_type": "execute_result"
    }
   ],
   "source": [
    "gamma_k_1 = 0.08935\n",
    "M_k_1 = 17\n",
    "m_k = 14\n",
    "Me = gamma_k_1 + (h*((25-M_k_1)/m_k))\n",
    "Me"
   ]
  },
  {
   "cell_type": "markdown",
   "id": "765e3814-980b-408a-b12b-5fef2ac90ccb",
   "metadata": {},
   "source": [
    "1.3.3. Нахождение моды (Mo)."
   ]
  },
  {
   "cell_type": "code",
   "execution_count": 33,
   "id": "1a37e248-577d-421a-a687-1e5dce523142",
   "metadata": {
    "ExecuteTime": {
     "end_time": "2024-05-07T13:33:10.714695Z",
     "start_time": "2024-05-07T13:33:10.711453Z"
    }
   },
   "outputs": [
    {
     "data": {
      "text/plain": [
       "0.105884"
      ]
     },
     "execution_count": 33,
     "metadata": {},
     "output_type": "execute_result"
    }
   ],
   "source": [
    "gamma_k_1 = 0.08934\n",
    "m = [7, 10, 14, 8, 3, 2, 6]\n",
    "k = 2\n",
    "Mo = gamma_k_1 + (h*((m[k] - m[k-1])/(2*m[k] - m[k-1] - m[k+1])))\n",
    "Mo"
   ]
  },
  {
   "cell_type": "markdown",
   "id": "812c58fd-a018-4357-9693-183fa3115f27",
   "metadata": {},
   "source": [
    "1.4. Метод произведений для вычисления характеристик вариационного ряда."
   ]
  },
  {
   "cell_type": "code",
   "execution_count": 34,
   "id": "8b9d7ce5-8679-4a16-85e6-78315c27d127",
   "metadata": {
    "ExecuteTime": {
     "end_time": "2024-05-07T13:33:10.967858Z",
     "start_time": "2024-05-07T13:33:10.964953Z"
    }
   },
   "outputs": [
    {
     "data": {
      "text/plain": [
       "50"
      ]
     },
     "execution_count": 34,
     "metadata": {},
     "output_type": "execute_result"
    }
   ],
   "source": [
    "xk = [0.02732, 0.06867, 0.11002, 0.15137, 0.19272, 0.23407, 0.27542]\n",
    "mk = [7, 10, 14, 8, 3, 2, 6]\n",
    "sum(mk)"
   ]
  },
  {
   "cell_type": "markdown",
   "id": "da3da35c-7856-4a4c-b17d-fbcdaec9b8c8",
   "metadata": {},
   "source": [
    "| xk | mk | yk | mkyk | mkyk^2 | mkyk^3 | mkyk^4|\n",
    "|---|---|---|---|---|---|---|\n",
    "| 0.02732 | 7 | -2 | -14 | 28 | -56 | 112 |\n",
    "| 0.06867 | 10 | -1 | -17 | 10 | -10 | 10 |\n",
    "| 0.11002 | 14 | 0 | 0 | 0 | 0 | 0 |\n",
    "| 0.15137 | 8 | 1 | 39 | 8 | 8 | 8 |\n",
    "| 0.19272 | 3 | 2 | 84 | 12 | 24 | 48 |\n",
    "| 0.23407 | 2 | 3 | 132 | 18 | 54 | 162 |\n",
    "| 0.27542 | 6 | 4 | 200 | 96 | 384 | 1536 |\n",
    "|  | 50 | 7 | 20 | 172 | 404 | 1876 |"
   ]
  },
  {
   "cell_type": "code",
   "execution_count": 35,
   "id": "8c929fe2-5f44-4339-a311-233c392bf7bc",
   "metadata": {
    "ExecuteTime": {
     "end_time": "2024-05-07T13:33:11.198610Z",
     "start_time": "2024-05-07T13:33:11.195893Z"
    }
   },
   "outputs": [
    {
     "data": {
      "text/plain": [
       "7.0"
      ]
     },
     "execution_count": 35,
     "metadata": {},
     "output_type": "execute_result"
    }
   ],
   "source": [
    "a = 0.11002\n",
    "yk = []\n",
    "for el in xk:\n",
    "    yk.append(round((el - a)/h, 1))\n",
    "sum(yk)"
   ]
  },
  {
   "cell_type": "markdown",
   "id": "f347c784-415c-4483-b9d7-008031875785",
   "metadata": {},
   "source": [
    "pow 1"
   ]
  },
  {
   "cell_type": "code",
   "execution_count": 36,
   "id": "1b312daa-82da-4f8e-9ada-65ece1d5c658",
   "metadata": {
    "ExecuteTime": {
     "end_time": "2024-05-07T13:33:11.323976Z",
     "start_time": "2024-05-07T13:33:11.322201Z"
    }
   },
   "outputs": [],
   "source": [
    "mkyk = []\n",
    "for i in range(0, 7):\n",
    "    mkyk.append(mk[i] * yk[i])\n",
    "sum1 = sum(mkyk)"
   ]
  },
  {
   "cell_type": "markdown",
   "id": "45f3e24e-a8bd-4c51-b858-b4c46fe3a36d",
   "metadata": {},
   "source": [
    "pow 2"
   ]
  },
  {
   "cell_type": "code",
   "execution_count": 37,
   "id": "7bb40fb5-42b7-4d22-b92f-c670bed9f15b",
   "metadata": {
    "ExecuteTime": {
     "end_time": "2024-05-07T13:33:11.458930Z",
     "start_time": "2024-05-07T13:33:11.456937Z"
    }
   },
   "outputs": [],
   "source": [
    "mkyk = []\n",
    "for i in range(0, 7):\n",
    "    mkyk.append(mk[i] * pow(yk[i], 2))\n",
    "sum2 = sum(mkyk)"
   ]
  },
  {
   "cell_type": "markdown",
   "id": "31384677-e975-445e-bb4e-d1592b6453b2",
   "metadata": {},
   "source": [
    "pow 3"
   ]
  },
  {
   "cell_type": "code",
   "execution_count": 38,
   "id": "6b0249ec-fcae-444f-986e-bb0f1efb288b",
   "metadata": {
    "ExecuteTime": {
     "end_time": "2024-05-07T13:33:11.528955Z",
     "start_time": "2024-05-07T13:33:11.527126Z"
    }
   },
   "outputs": [],
   "source": [
    "mkyk = []\n",
    "for i in range(0, 7):\n",
    "    mkyk.append(mk[i] * pow(yk[i], 3))\n",
    "sum3 = sum(mkyk)"
   ]
  },
  {
   "cell_type": "markdown",
   "id": "0ed7fc44-18bc-4d43-b0c4-649f541839d0",
   "metadata": {},
   "source": [
    "pow 4"
   ]
  },
  {
   "cell_type": "code",
   "execution_count": 39,
   "id": "36ed454c-5c5a-4e6b-9256-fbacf7c33c99",
   "metadata": {
    "ExecuteTime": {
     "end_time": "2024-05-07T13:33:11.549994Z",
     "start_time": "2024-05-07T13:33:11.548330Z"
    }
   },
   "outputs": [],
   "source": [
    "mkyk = []\n",
    "for i in range(0, 7):\n",
    "    mkyk.append(mk[i] * pow(yk[i], 4))\n",
    "sum4 = sum(mkyk)"
   ]
  },
  {
   "cell_type": "markdown",
   "id": "5a3f0b03-9ded-4dca-9791-36e7c9e5e16d",
   "metadata": {},
   "source": [
    "1.4.6. Рассчитайте начальные моменты для масштабированной переменной y:"
   ]
  },
  {
   "cell_type": "code",
   "execution_count": 40,
   "id": "73076ea3-f282-4b8b-bc38-b815d5ad69da",
   "metadata": {
    "ExecuteTime": {
     "end_time": "2024-05-07T13:33:11.575158Z",
     "start_time": "2024-05-07T13:33:11.572411Z"
    }
   },
   "outputs": [
    {
     "data": {
      "text/plain": [
       "(0.4, 3.44, 8.08, 37.52)"
      ]
     },
     "execution_count": 40,
     "metadata": {},
     "output_type": "execute_result"
    }
   ],
   "source": [
    "a1y = (1/50)*sum1\n",
    "a2y = (1/50)*sum2\n",
    "a3y = (1/50)*sum3\n",
    "a4y = (1/50)*sum4\n",
    "a1y, a2y, a3y, a4y"
   ]
  },
  {
   "cell_type": "code",
   "execution_count": 41,
   "id": "f0e6723a-4acd-41fa-8143-526d6784f726",
   "metadata": {
    "ExecuteTime": {
     "end_time": "2024-05-07T13:33:11.629352Z",
     "start_time": "2024-05-07T13:33:11.627433Z"
    }
   },
   "outputs": [
    {
     "data": {
      "text/plain": [
       "3.28"
      ]
     },
     "execution_count": 41,
     "metadata": {},
     "output_type": "execute_result"
    }
   ],
   "source": [
    "nu2y = sigma_sq = a2y - pow(a1y, 2)\n",
    "nu2y"
   ]
  },
  {
   "cell_type": "code",
   "execution_count": 42,
   "id": "f7ca30cb-5f63-4855-ab72-a9fa240e89b6",
   "metadata": {
    "ExecuteTime": {
     "end_time": "2024-05-07T13:33:11.658673Z",
     "start_time": "2024-05-07T13:33:11.656588Z"
    }
   },
   "outputs": [
    {
     "data": {
      "text/plain": [
       "1.81108"
      ]
     },
     "execution_count": 42,
     "metadata": {},
     "output_type": "execute_result"
    }
   ],
   "source": [
    "sigma = math.sqrt(sigma_sq)\n",
    "round(sigma, 5)"
   ]
  },
  {
   "cell_type": "code",
   "execution_count": 43,
   "id": "280a53f5-49b9-4acb-880f-edf3aadf4072",
   "metadata": {
    "ExecuteTime": {
     "end_time": "2024-05-07T13:33:11.710915Z",
     "start_time": "2024-05-07T13:33:11.708865Z"
    }
   },
   "outputs": [
    {
     "data": {
      "text/plain": [
       "4.08"
      ]
     },
     "execution_count": 43,
     "metadata": {},
     "output_type": "execute_result"
    }
   ],
   "source": [
    "nu3y = a3y - 3*a2y*a1y + 2*pow(a1y, 3)\n",
    "nu3y"
   ]
  },
  {
   "cell_type": "code",
   "execution_count": 44,
   "id": "66c21ed4-fa2c-482c-91c0-56ba6d4f276b",
   "metadata": {
    "ExecuteTime": {
     "end_time": "2024-05-07T13:33:11.741774Z",
     "start_time": "2024-05-07T13:33:11.739512Z"
    }
   },
   "outputs": [
    {
     "data": {
      "text/plain": [
       "27.97"
      ]
     },
     "execution_count": 44,
     "metadata": {},
     "output_type": "execute_result"
    }
   ],
   "source": [
    "nu4y = a4y - 4*a3y*a1y + 6*a2y*pow(a1y, 2) + 3*pow(a1y, 4)\n",
    "round(nu4y, 2)"
   ]
  },
  {
   "cell_type": "code",
   "execution_count": 45,
   "id": "6cee2ef2-2092-46d9-9c0b-e988ad9021f6",
   "metadata": {
    "ExecuteTime": {
     "end_time": "2024-05-07T13:33:11.792794Z",
     "start_time": "2024-05-07T13:33:11.790054Z"
    }
   },
   "outputs": [
    {
     "data": {
      "text/plain": [
       "0.126564"
      ]
     },
     "execution_count": 45,
     "metadata": {},
     "output_type": "execute_result"
    }
   ],
   "source": [
    "x_mean = h*a1y + a\n",
    "x_mean"
   ]
  },
  {
   "cell_type": "code",
   "execution_count": 46,
   "id": "89ff468f6c04b1d9",
   "metadata": {
    "ExecuteTime": {
     "end_time": "2024-05-07T13:33:11.824808Z",
     "start_time": "2024-05-07T13:33:11.822695Z"
    },
    "collapsed": false,
    "jupyter": {
     "outputs_hidden": false
    }
   },
   "outputs": [
    {
     "data": {
      "text/plain": [
       "0.6868302231484359"
      ]
     },
     "execution_count": 46,
     "metadata": {},
     "output_type": "execute_result"
    }
   ],
   "source": [
    "As = nu3y/pow(sigma, 3)\n",
    "As"
   ]
  },
  {
   "cell_type": "code",
   "execution_count": 47,
   "id": "25eb834bd9e6ed23",
   "metadata": {
    "ExecuteTime": {
     "end_time": "2024-05-07T13:33:11.875188Z",
     "start_time": "2024-05-07T13:33:11.873073Z"
    },
    "collapsed": false,
    "jupyter": {
     "outputs_hidden": false
    }
   },
   "outputs": [
    {
     "data": {
      "text/plain": [
       "0.005610930688"
      ]
     },
     "execution_count": 47,
     "metadata": {},
     "output_type": "execute_result"
    }
   ],
   "source": [
    "sigma_sq_x = pow(h, 2)*nu2y\n",
    "sigma_sq_x"
   ]
  },
  {
   "cell_type": "code",
   "execution_count": 48,
   "id": "2b05c14cb9425d5b",
   "metadata": {
    "ExecuteTime": {
     "end_time": "2024-05-07T13:33:11.908251Z",
     "start_time": "2024-05-07T13:33:11.906191Z"
    },
    "collapsed": false,
    "jupyter": {
     "outputs_hidden": false
    }
   },
   "outputs": [
    {
     "data": {
      "text/plain": [
       "-0.40005948839976124"
      ]
     },
     "execution_count": 48,
     "metadata": {},
     "output_type": "execute_result"
    }
   ],
   "source": [
    "Ex = (nu4y/pow(sigma, 4)) - 3\n",
    "Ex"
   ]
  },
  {
   "cell_type": "markdown",
   "id": "80f0c41e-1c7e-4894-b6a1-0ccfa94c73a8",
   "metadata": {
    "collapsed": false,
    "jupyter": {
     "outputs_hidden": false
    }
   },
   "source": [
    "| numb | n | h | x_mean | std | As | Ex | Mo | Me | nu2y | nu3y | nu4y |\n",
    "|---|---|---|---|---|---|---|---|---|---|---|---|\n",
    "| 1 | 50 | 0.04135 | 0.12613 | 0.00561 | 0.68683 | -0.40006 | 0.10588 | 0.11298 | 3.28 | 4.08 | 27.97 |"
   ]
  },
  {
   "cell_type": "markdown",
   "id": "85928cee-2e67-40b7-94e8-4069f53de4cc",
   "metadata": {},
   "source": [
    "| n | x_mean | s^2 | sigma_x_mean | sigma_s^2 |\n",
    "|---|---|---|---|---|\n",
    "| 50 | 0.12613 | 0.00572 | 0.010700 | 0.00113 |\n",
    "| 10 | 0.08834 | 0.00652 | 0.025534 | 0.00276 |"
   ]
  },
  {
   "cell_type": "code",
   "execution_count": 49,
   "id": "5e2f3b4c-cb86-4dfb-9ce0-7aa7ac2ab940",
   "metadata": {
    "ExecuteTime": {
     "end_time": "2024-05-07T13:33:11.960281Z",
     "start_time": "2024-05-07T13:33:11.957338Z"
    }
   },
   "outputs": [
    {
     "data": {
      "text/plain": [
       "0.00572543947755102"
      ]
     },
     "execution_count": 49,
     "metadata": {},
     "output_type": "execute_result"
    }
   ],
   "source": [
    "n = 50\n",
    "x_mean = 0.12613\n",
    "S_sq = (n/(n-1))*sigma_sq_x\n",
    "S_sq"
   ]
  },
  {
   "cell_type": "code",
   "execution_count": 50,
   "id": "c3551446-2a2d-4fe1-81ad-31cb7184f522",
   "metadata": {
    "ExecuteTime": {
     "end_time": "2024-05-07T13:33:12.010527Z",
     "start_time": "2024-05-07T13:33:12.008346Z"
    }
   },
   "outputs": [
    {
     "data": {
      "text/plain": [
       "0.010700877980381815"
      ]
     },
     "execution_count": 50,
     "metadata": {},
     "output_type": "execute_result"
    }
   ],
   "source": [
    "sigma_x_mean = math.sqrt(S_sq)/math.sqrt(n)\n",
    "sigma_x_mean"
   ]
  },
  {
   "cell_type": "code",
   "execution_count": 51,
   "id": "2d34dd21-acaf-4665-bacb-2f0e99418c58",
   "metadata": {
    "ExecuteTime": {
     "end_time": "2024-05-07T13:33:12.060580Z",
     "start_time": "2024-05-07T13:33:12.057491Z"
    }
   },
   "outputs": [
    {
     "data": {
      "text/plain": [
       "0.0011335791823578573"
      ]
     },
     "execution_count": 51,
     "metadata": {},
     "output_type": "execute_result"
    }
   ],
   "source": [
    "sigma_s_sq = (S_sq*math.sqrt(2*(n-1)))/n\n",
    "sigma_s_sq"
   ]
  },
  {
   "cell_type": "markdown",
   "id": "8d723f75-fa3d-445f-9b9d-70c9509f4c00",
   "metadata": {},
   "source": [
    "| k | xk | xk-x_mean_10 | (xk - x_mean_10)^2 |\n",
    "|---|---|---|---|\n",
    "| 0 | 0.04430 | -0.04404 | 0.00194 |\n",
    "| 1 | 0.06694 | -0.0214 | 0.00046 |\n",
    "| 2 | 0.02357 | -0.06477 | 0.0042 |\n",
    "| 3 | 0.02025 | -0.06809 | 0.00464 |\n",
    "| 4 | 0.28590 | 0.19756 | 0.03903 |\n",
    "| 5 | 0.06605 | -0.02229 | 0.0005 |\n",
    "| 6 | 0.06168 | -0.02666 | 0.00071 |\n",
    "| 7 | 0.12731 | 0.03897 | 0.00152 |\n",
    "| 8 | 0.14691 | 0.05857 | 0.00343 |\n",
    "| 9 | 0.04050 | -0.04784 | 0.00229 |\n",
    "|  | 0.08834 |  | 0.00652 |"
   ]
  },
  {
   "cell_type": "code",
   "execution_count": 52,
   "id": "8ca58fe2-69bc-442e-ad80-4ac43495f868",
   "metadata": {
    "ExecuteTime": {
     "end_time": "2024-05-07T13:33:12.118015Z",
     "start_time": "2024-05-07T13:33:12.116312Z"
    }
   },
   "outputs": [],
   "source": [
    "LYMPH_NPOLAR_ten = [0.04430, 0.06694, 0.02357, 0.02025, 0.28590, 0.06605, 0.06168, 0.12731, 0.14691, 0.04050]"
   ]
  },
  {
   "cell_type": "code",
   "execution_count": 53,
   "id": "13de3be5-0876-4a8f-914a-469603796783",
   "metadata": {
    "ExecuteTime": {
     "end_time": "2024-05-07T13:33:12.161670Z",
     "start_time": "2024-05-07T13:33:12.159515Z"
    }
   },
   "outputs": [
    {
     "data": {
      "text/plain": [
       "10"
      ]
     },
     "execution_count": 53,
     "metadata": {},
     "output_type": "execute_result"
    }
   ],
   "source": [
    "len(LYMPH_NPOLAR_ten)"
   ]
  },
  {
   "cell_type": "code",
   "execution_count": 54,
   "id": "7e6a94e9-1435-4106-8679-66d59ac505b1",
   "metadata": {
    "ExecuteTime": {
     "end_time": "2024-05-07T13:33:12.205814Z",
     "start_time": "2024-05-07T13:33:12.203635Z"
    }
   },
   "outputs": [
    {
     "data": {
      "text/plain": [
       "0.08834099999999999"
      ]
     },
     "execution_count": 54,
     "metadata": {},
     "output_type": "execute_result"
    }
   ],
   "source": [
    "x_mean_10 = sum(LYMPH_NPOLAR_ten)/10\n",
    "x_mean_10"
   ]
  },
  {
   "cell_type": "code",
   "execution_count": 55,
   "id": "89d9e576-28e4-46b0-8723-007441ab07fd",
   "metadata": {
    "ExecuteTime": {
     "end_time": "2024-05-07T13:33:12.262335Z",
     "start_time": "2024-05-07T13:33:12.259965Z"
    }
   },
   "outputs": [
    {
     "data": {
      "text/plain": [
       "0.00652"
      ]
     },
     "execution_count": 55,
     "metadata": {},
     "output_type": "execute_result"
    }
   ],
   "source": [
    "x_summ = 0\n",
    "for i in LYMPH_NPOLAR_ten:\n",
    "    x_summ += round(math.pow(i - x_mean_10, 2), 5)\n",
    "s_sq_ten = round(x_summ/9, 5)\n",
    "s_sq_ten"
   ]
  },
  {
   "cell_type": "code",
   "execution_count": 56,
   "id": "4588df4d-0ad6-4049-889c-c9fac1288805",
   "metadata": {
    "ExecuteTime": {
     "end_time": "2024-05-07T13:33:12.280827Z",
     "start_time": "2024-05-07T13:33:12.278347Z"
    }
   },
   "outputs": [
    {
     "data": {
      "text/plain": [
       "0.02553429066960741"
      ]
     },
     "execution_count": 56,
     "metadata": {},
     "output_type": "execute_result"
    }
   ],
   "source": [
    "sigma_x_ten = math.sqrt(s_sq_ten)/math.sqrt(10)\n",
    "sigma_x_ten"
   ]
  },
  {
   "cell_type": "code",
   "execution_count": 57,
   "id": "a8811671-3bb3-4ab1-8577-f42db6483852",
   "metadata": {
    "ExecuteTime": {
     "end_time": "2024-05-07T13:33:12.314909Z",
     "start_time": "2024-05-07T13:33:12.312494Z"
    }
   },
   "outputs": [
    {
     "data": {
      "text/plain": [
       "0.0027662017280017737"
      ]
     },
     "execution_count": 57,
     "metadata": {},
     "output_type": "execute_result"
    }
   ],
   "source": [
    "sigma_s_sq_ten = (s_sq_ten*math.sqrt(2*(10-1)))/10\n",
    "sigma_s_sq_ten"
   ]
  },
  {
   "cell_type": "markdown",
   "id": "373df90d-b1b1-4d7a-bce1-e8409bee7112",
   "metadata": {},
   "source": [
    "<style type=\"text/css\">\n",
    ".tg  {border-collapse:collapse;border-spacing:0;}\n",
    ".tg td{border-color:black;border-style:solid;border-width:1px;font-family:Arial, sans-serif;font-size:14px;\n",
    "  overflow:hidden;padding:10px 5px;word-break:normal;}\n",
    ".tg th{border-color:black;border-style:solid;border-width:1px;font-family:Arial, sans-serif;font-size:14px;\n",
    "  font-weight:normal;overflow:hidden;padding:10px 5px;word-break:normal;}\n",
    ".tg .tg-0pky{border-color:inherit;text-align:left;vertical-align:top}\n",
    "</style>\n",
    "<table class=\"tg\">\n",
    "<thead>\n",
    "  <tr>\n",
    "    <th class=\"tg-0pky\" rowspan=\"2\">n</th>\n",
    "    <th class=\"tg-0pky\" rowspan=\"2\">Parameter</th>\n",
    "    <th class=\"tg-0pky\" rowspan=\"2\">Estimation</th>\n",
    "    <th class=\"tg-0pky\" colspan=\"3\">a</th>\n",
    "  </tr>\n",
    "  <tr>\n",
    "    <th class=\"tg-0pky\">0,1</th>\n",
    "    <th class=\"tg-0pky\">0,05</th>\n",
    "    <th class=\"tg-0pky\">0,01</th>\n",
    "  </tr>\n",
    "</thead>\n",
    "<tbody>\n",
    "  <tr>\n",
    "    <td class=\"tg-0pky\" rowspan=\"8\">50</td>\n",
    "    <td class=\"tg-0pky\" rowspan=\"4\">m</td>\n",
    "    <td class=\"tg-0pky\" rowspan=\"2\">Asymptotic</td>\n",
    "    <td class=\"tg-0pky\">t_095 = 1.645</td>\n",
    "    <td class=\"tg-0pky\">t_0775 = 1.96</td>\n",
    "    <td class=\"tg-0pky\">t_0995 = 2.576</td>\n",
    "  </tr>\n",
    "  <tr>\n",
    "    <td class=\"tg-0pky\">(0.10853, 0.14373)</td>\n",
    "    <td class=\"tg-0pky\">(0.10516, 0.1471)</td>\n",
    "    <td class=\"tg-0pky\">(0.09857, 0.15369)</td>\n",
    "  </tr>\n",
    "  <tr>\n",
    "    <td class=\"tg-0pky\" rowspan=\"2\">Accurate</td>\n",
    "    <td class=\"tg-0pky\">t_49_095 = 1.6766</td>\n",
    "    <td class=\"tg-0pky\">t_49_0775 = 2.0096</td>\n",
    "    <td class=\"tg-0pky\">t_49_0995 = 2.68</td>\n",
    "  </tr>\n",
    "  <tr>\n",
    "    <td class=\"tg-0pky\">(0.10819, 0.14407)</td>\n",
    "    <td class=\"tg-0pky\">(0.10463, 0.14763)</td>\n",
    "    <td class=\"tg-0pky\">(0.09745, 0.15481)</td>\n",
    "  </tr>\n",
    "  <tr>\n",
    "    <td class=\"tg-0pky\" rowspan=\"4\">sigma_sq</td>\n",
    "    <td class=\"tg-0pky\" rowspan=\"2\"><span style=\"font-weight:400;font-style:normal;text-decoration:none\">Asymptotic</span></td>\n",
    "    <td class=\"tg-0pky\">t_095 = 1.645</td>\n",
    "    <td class=\"tg-0pky\">t_0775 = 1.96</td>\n",
    "    <td class=\"tg-0pky\">t_0995 = 2.576</td>\n",
    "  </tr>\n",
    "  <tr>\n",
    "    <td class=\"tg-0pky\">(0.00383, 0.00761)</td>\n",
    "    <td class=\"tg-0pky\">(0.00345, 0.00799)</td>\n",
    "    <td class=\"tg-0pky\">(0.00269, 0.00875)</td>\n",
    "  </tr>\n",
    "  <tr>\n",
    "    <td class=\"tg-0pky\" rowspan=\"2\"><span style=\"font-weight:400;font-style:normal;text-decoration:none\">Accurate</span></td>\n",
    "    <td class=\"tg-0pky\">chi_sq__49_005 = 66.34 chi_sq__49_095 = 33.93</td>\n",
    "    <td class=\"tg-0pky\">chi_sq__49_0025 = 19.02 chi_sq__49_0975 = 31.56</td>\n",
    "    <td class=\"tg-0pky\">chi_sq__49_0005 = 23.59 chi_sq__49_0995 = 27.25</td>\n",
    "  </tr>\n",
    "  <tr>\n",
    "    <td class=\"tg-0pky\">(0.00826, 0.00422)</td>\n",
    "    <td class=\"tg-0pky\">(0.00888, 0.00399)</td>\n",
    "    <td class=\"tg-0pky\">(0.01029, 0.00358)</td>\n",
    "  </tr>\n",
    "</tbody>\n",
    "</table>"
   ]
  },
  {
   "cell_type": "code",
   "execution_count": 58,
   "id": "d0e35230-72cf-40df-819a-aa8356625d68",
   "metadata": {
    "ExecuteTime": {
     "end_time": "2024-05-07T13:33:12.356371Z",
     "start_time": "2024-05-07T13:33:12.354031Z"
    }
   },
   "outputs": [
    {
     "name": "stdout",
     "output_type": "stream",
     "text": [
      "0.10853 0.14373\n",
      "0.10516 0.1471\n",
      "0.09857 0.15369\n"
     ]
    }
   ],
   "source": [
    "t_095 = 1.645\n",
    "t_0775 = 1.96\n",
    "t_0995 = 2.576\n",
    "\n",
    "x_mean_fifty = 0.12613\n",
    "sigma_x_fifty = 0.010700\n",
    "\n",
    "m1_095 = round(x_mean_fifty - t_095*sigma_x_fifty, 5)\n",
    "m2_095 = round(x_mean_fifty + t_095*sigma_x_fifty, 5)\n",
    "print(m1_095, m2_095)\n",
    "\n",
    "m1_0775 = round(x_mean_fifty - t_0775*sigma_x_fifty, 5)\n",
    "m2_0775 = round(x_mean_fifty + t_0775*sigma_x_fifty, 5)\n",
    "print(m1_0775, m2_0775)\n",
    "\n",
    "m1_0995 = round(x_mean_fifty - t_0995*sigma_x_fifty, 5)\n",
    "m2_0995 = round(x_mean_fifty + t_0995*sigma_x_fifty, 5)\n",
    "print(m1_0995, m2_0995)"
   ]
  },
  {
   "cell_type": "code",
   "execution_count": 59,
   "id": "9c039a21-1c77-4c12-9595-51af43b90b9c",
   "metadata": {
    "ExecuteTime": {
     "end_time": "2024-05-07T13:33:12.408103Z",
     "start_time": "2024-05-07T13:33:12.405774Z"
    }
   },
   "outputs": [
    {
     "name": "stdout",
     "output_type": "stream",
     "text": [
      "0.10819 0.14407\n",
      "0.10463 0.14763\n",
      "0.09745 0.15481\n"
     ]
    }
   ],
   "source": [
    "t_49_095 = 1.6766\n",
    "t_49_0775 = 2.0096\n",
    "t_49_0995 = 2.68\n",
    "\n",
    "m1_095 = round(x_mean_fifty - t_49_095*sigma_x_fifty, 5)\n",
    "m2_095 = round(x_mean_fifty + t_49_095*sigma_x_fifty, 5)\n",
    "print(m1_095, m2_095)\n",
    "\n",
    "m1_0775 = round(x_mean_fifty - t_49_0775*sigma_x_fifty, 5)\n",
    "m2_0775 = round(x_mean_fifty + t_49_0775*sigma_x_fifty, 5)\n",
    "print(m1_0775, m2_0775)\n",
    "\n",
    "m1_0995 = round(x_mean_fifty - t_49_0995*sigma_x_fifty, 5)\n",
    "m2_0995 = round(x_mean_fifty + t_49_0995*sigma_x_fifty, 5)\n",
    "print(m1_0995, m2_0995)"
   ]
  },
  {
   "cell_type": "code",
   "execution_count": 60,
   "id": "b62628ad-8805-4f40-9318-652817b654e8",
   "metadata": {
    "ExecuteTime": {
     "end_time": "2024-05-07T13:33:12.454210Z",
     "start_time": "2024-05-07T13:33:12.451590Z"
    }
   },
   "outputs": [
    {
     "name": "stdout",
     "output_type": "stream",
     "text": [
      "0.00386 0.00758\n",
      "0.00351 0.00793\n",
      "0.00281 0.00863\n"
     ]
    }
   ],
   "source": [
    "t_095 = 1.645\n",
    "t_0775 = 1.96\n",
    "t_0995 = 2.576\n",
    "\n",
    "s_sq_fifty = 0.00572\n",
    "sigma_s_sq_fifty = 0.00113\n",
    "\n",
    "m1_095 = round(s_sq_fifty - t_095*sigma_s_sq_fifty, 5)\n",
    "m2_095 = round(s_sq_fifty + t_095*sigma_s_sq_fifty, 5)\n",
    "print(m1_095, m2_095)\n",
    "\n",
    "m1_0775 = round(s_sq_fifty - t_0775*sigma_s_sq_fifty, 5)\n",
    "m2_0775 = round(s_sq_fifty + t_0775*sigma_s_sq_fifty, 5)\n",
    "print(m1_0775, m2_0775)\n",
    "\n",
    "m1_0995 = round(s_sq_fifty - t_0995*sigma_s_sq_fifty, 5)\n",
    "m2_0995 = round(s_sq_fifty + t_0995*sigma_s_sq_fifty, 5)\n",
    "print(m1_0995, m2_0995)"
   ]
  },
  {
   "cell_type": "code",
   "execution_count": 61,
   "id": "a949c29d-b17f-4f76-b4f0-7558ffeedcc2",
   "metadata": {
    "ExecuteTime": {
     "end_time": "2024-05-07T13:33:12.495411Z",
     "start_time": "2024-05-07T13:33:12.492705Z"
    }
   },
   "outputs": [
    {
     "name": "stdout",
     "output_type": "stream",
     "text": [
      "0.00826 0.00422\n",
      "0.00888 0.00399\n",
      "0.01029 0.00358\n"
     ]
    }
   ],
   "source": [
    "chi_sq__49_005 = 66.34\n",
    "chi_sq__49_095 = 33.93\n",
    "chi_sq__49_0025 = 70.22\n",
    "chi_sq__49_0975 = 31.56\n",
    "chi_sq__49_0005 = 78.23\n",
    "chi_sq__49_0995 = 27.25\n",
    "\n",
    "sigma1_sq_095 = round((49*s_sq_fifty)/(chi_sq__49_095), 5)\n",
    "sigma2_sq_095 = round((49*s_sq_fifty)/(chi_sq__49_005), 5)\n",
    "print(sigma1_sq_095, sigma2_sq_095)\n",
    "\n",
    "sigma1_sq_0775 = round((49*s_sq_fifty)/(chi_sq__49_0975), 5)\n",
    "sigma2_sq_0775 = round((49*s_sq_fifty)/(chi_sq__49_0025), 5)\n",
    "print(sigma1_sq_0775, sigma2_sq_0775)\n",
    "\n",
    "sigma1_sq_0995 = round((49*s_sq_fifty)/(chi_sq__49_0995), 5)\n",
    "sigma2_sq_0995 = round((49*s_sq_fifty)/(chi_sq__49_0005), 5)\n",
    "print(sigma1_sq_0995, sigma2_sq_0995)"
   ]
  },
  {
   "cell_type": "markdown",
   "id": "bc4a6037-c886-407e-9735-71c286fd85df",
   "metadata": {},
   "source": [
    "<style type=\"text/css\">\n",
    ".tg  {border-collapse:collapse;border-spacing:0;}\n",
    ".tg td{border-color:black;border-style:solid;border-width:1px;font-family:Arial, sans-serif;font-size:14px;\n",
    "  overflow:hidden;padding:10px 5px;word-break:normal;}\n",
    ".tg th{border-color:black;border-style:solid;border-width:1px;font-family:Arial, sans-serif;font-size:14px;\n",
    "  font-weight:normal;overflow:hidden;padding:10px 5px;word-break:normal;}\n",
    ".tg .tg-0pky{border-color:inherit;text-align:left;vertical-align:top}\n",
    "</style>\n",
    "<table class=\"tg\">\n",
    "<thead>\n",
    "  <tr>\n",
    "    <th class=\"tg-0pky\" rowspan=\"2\">n</th>\n",
    "    <th class=\"tg-0pky\" rowspan=\"2\">Parameter</th>\n",
    "    <th class=\"tg-0pky\" rowspan=\"2\">Estimation</th>\n",
    "    <th class=\"tg-0pky\" colspan=\"3\">a</th>\n",
    "  </tr>\n",
    "  <tr>\n",
    "    <th class=\"tg-0pky\">0,1</th>\n",
    "    <th class=\"tg-0pky\">0,05</th>\n",
    "    <th class=\"tg-0pky\">0,01</th>\n",
    "  </tr>\n",
    "</thead>\n",
    "<tbody>\n",
    "  <tr>\n",
    "    <td class=\"tg-0pky\" rowspan=\"8\">10</td>\n",
    "    <td class=\"tg-0pky\" rowspan=\"4\">m</td>\n",
    "    <td class=\"tg-0pky\" rowspan=\"2\">Asymptotic</td>\n",
    "    <td class=\"tg-0pky\">t_095 = 1.645</td>\n",
    "    <td class=\"tg-0pky\">t_0775 = 1.96</td>\n",
    "    <td class=\"tg-0pky\">t_0995 = 2.576</td>\n",
    "  </tr>\n",
    "  <tr>\n",
    "    <td class=\"tg-0pky\">(0.04634, 0.13034)</td>\n",
    "    <td class=\"tg-0pky\">(0.03829 0.13839)</td>\n",
    "    <td class=\"tg-0pky\">(0.02256 0.15412)</td>\n",
    "  </tr>\n",
    "  <tr>\n",
    "    <td class=\"tg-0pky\" rowspan=\"2\">Accurate</td>\n",
    "    <td class=\"tg-0pky\">t_9_095 = 1.6766</td>\n",
    "    <td class=\"tg-0pky\">t_9_0775 = 2.0096</td>\n",
    "    <td class=\"tg-0pky\">t_9_0995 = 2.68</td>\n",
    "  </tr>\n",
    "  <tr>\n",
    "    <td class=\"tg-0pky\">(0.04153, 0.13515)</td>\n",
    "    <td class=\"tg-0pky\">(0.03058, 0.1461)</td>\n",
    "    <td class=\"tg-0pky\">(0.00536, 0.17132)</td>\n",
    "  </tr>\n",
    "  <tr>\n",
    "    <td class=\"tg-0pky\" rowspan=\"4\">sigma_sq</td>\n",
    "    <td class=\"tg-0pky\" rowspan=\"2\"><span style=\"font-weight:400;font-style:normal;text-decoration:none\">Asymptotic</span></td>\n",
    "    <td class=\"tg-0pky\">t_095 = 1.645</td>\n",
    "    <td class=\"tg-0pky\">t_0775 = 1.96</td>\n",
    "    <td class=\"tg-0pky\">t_0995 = 2.576</td>\n",
    "  </tr>\n",
    "  <tr>\n",
    "    <td class=\"tg-0pky\">(0.00198, 0.01106)</td>\n",
    "    <td class=\"tg-0pky\">(0.00111, 0.01193)</td>\n",
    "    <td class=\"tg-0pky\">(-0.00059, 0.01363)</td>\n",
    "  </tr>\n",
    "  <tr>\n",
    "    <td class=\"tg-0pky\" rowspan=\"2\"><span style=\"font-weight:400;font-style:normal;text-decoration:none\">Accurate</span></td>\n",
    "    <td class=\"tg-0pky\">chi_sq__9_005 = 66.34 chi_sq__49_095 = 33.93</td>\n",
    "    <td class=\"tg-0pky\">chi_sq__9_0025 = 19.02 chi_sq__49_0975 = 31.56</td>\n",
    "    <td class=\"tg-0pky\">chi_sq__9_0005 = 23.59 chi_sq__49_0995 = 27.25</td>\n",
    "  </tr>\n",
    "  <tr>\n",
    "    <td class=\"tg-0pky\">(0.01767, 0.00347)</td>\n",
    "    <td class=\"tg-0pky\">(0.02173, 0.00309)</td>\n",
    "    <td class=\"tg-0pky\">(0.0381, 0.00249)</td>\n",
    "  </tr>\n",
    "</tbody>\n",
    "</table>"
   ]
  },
  {
   "cell_type": "code",
   "execution_count": 62,
   "id": "43de3b6c-2fe1-485e-afdc-d891bc6eeec5",
   "metadata": {
    "ExecuteTime": {
     "end_time": "2024-05-07T13:33:12.564717Z",
     "start_time": "2024-05-07T13:33:12.562309Z"
    }
   },
   "outputs": [
    {
     "name": "stdout",
     "output_type": "stream",
     "text": [
      "0.04634 0.13034\n",
      "0.03829 0.13839\n",
      "0.02256 0.15412\n"
     ]
    }
   ],
   "source": [
    "t_095 = 1.645\n",
    "t_0775 = 1.96\n",
    "t_0995 = 2.576\n",
    "\n",
    "x_mean_ten = 0.08834\n",
    "sigma_x_ten = 0.025534\n",
    "\n",
    "m1_095 = round(x_mean_ten - t_095*sigma_x_ten, 5)\n",
    "m2_095 = round(x_mean_ten + t_095*sigma_x_ten, 5)\n",
    "print(m1_095, m2_095)\n",
    "\n",
    "m1_0775 = round(x_mean_ten - t_0775*sigma_x_ten, 5)\n",
    "m2_0775 = round(x_mean_ten + t_0775*sigma_x_ten, 5)\n",
    "print(m1_0775, m2_0775)\n",
    "\n",
    "m1_0995 = round(x_mean_ten - t_0995*sigma_x_ten, 5)\n",
    "m2_0995 = round(x_mean_ten + t_0995*sigma_x_ten, 5)\n",
    "print(m1_0995, m2_0995)"
   ]
  },
  {
   "cell_type": "code",
   "execution_count": 63,
   "id": "54f1a69f-b67e-48ce-99b1-cb7e3f2b3203",
   "metadata": {
    "ExecuteTime": {
     "end_time": "2024-05-07T13:33:12.642531Z",
     "start_time": "2024-05-07T13:33:12.640331Z"
    }
   },
   "outputs": [
    {
     "name": "stdout",
     "output_type": "stream",
     "text": [
      "0.04153 0.13515\n",
      "0.03058 0.1461\n",
      "0.00536 0.17132\n"
     ]
    }
   ],
   "source": [
    "t_9_095 = 1.8331\n",
    "t_9_0775 = 2.2622\n",
    "t_9_0995 = 3.2498\n",
    "\n",
    "m1_095 = round(x_mean_ten - t_9_095*sigma_x_ten, 5)\n",
    "m2_095 = round(x_mean_ten + t_9_095*sigma_x_ten, 5)\n",
    "print(m1_095, m2_095)\n",
    "\n",
    "m1_0775 = round(x_mean_ten - t_9_0775*sigma_x_ten, 5)\n",
    "m2_0775 = round(x_mean_ten + t_9_0775*sigma_x_ten, 5)\n",
    "print(m1_0775, m2_0775)\n",
    "\n",
    "m1_0995 = round(x_mean_ten - t_9_0995*sigma_x_ten, 5)\n",
    "m2_0995 = round(x_mean_ten + t_9_0995*sigma_x_ten, 5)\n",
    "print(m1_0995, m2_0995)"
   ]
  },
  {
   "cell_type": "code",
   "execution_count": 64,
   "id": "18716e13-3218-4fb4-901a-d8a5dcc6de6f",
   "metadata": {
    "ExecuteTime": {
     "end_time": "2024-05-07T13:33:12.661570Z",
     "start_time": "2024-05-07T13:33:12.659211Z"
    }
   },
   "outputs": [
    {
     "name": "stdout",
     "output_type": "stream",
     "text": [
      "0.00198 0.01106\n",
      "0.00111 0.01193\n",
      "-0.00059 0.01363\n"
     ]
    }
   ],
   "source": [
    "t_095 = 1.645\n",
    "t_0775 = 1.96\n",
    "t_0995 = 2.576\n",
    "\n",
    "s_sq_ten = 0.00652\n",
    "sigma_s_sq_ten = 0.00276\n",
    "\n",
    "m1_095 = round(s_sq_ten - t_095*sigma_s_sq_ten, 5)\n",
    "m2_095 = round(s_sq_ten + t_095*sigma_s_sq_ten, 5)\n",
    "print(m1_095, m2_095)\n",
    "\n",
    "m1_0775 = round(s_sq_ten - t_0775*sigma_s_sq_ten, 5)\n",
    "m2_0775 = round(s_sq_ten + t_0775*sigma_s_sq_ten, 5)\n",
    "print(m1_0775, m2_0775)\n",
    "\n",
    "m1_0995 = round(s_sq_ten - t_0995*sigma_s_sq_ten, 5)\n",
    "m2_0995 = round(s_sq_ten + t_0995*sigma_s_sq_ten, 5)\n",
    "print(m1_0995, m2_0995)"
   ]
  },
  {
   "cell_type": "code",
   "execution_count": 65,
   "id": "a0ec4468-f611-4122-8539-165105a2329e",
   "metadata": {
    "ExecuteTime": {
     "end_time": "2024-05-07T13:33:12.712718Z",
     "start_time": "2024-05-07T13:33:12.709732Z"
    }
   },
   "outputs": [
    {
     "name": "stdout",
     "output_type": "stream",
     "text": [
      "0.01767 0.00347\n",
      "0.02173 0.00309\n",
      "0.0381 0.00249\n"
     ]
    }
   ],
   "source": [
    "chi_sq__9_005 = 16.92\n",
    "chi_sq__9_095 = 3.32\n",
    "chi_sq__9_0025 = 19.02\n",
    "chi_sq__9_0975 = 2.70\n",
    "chi_sq__9_0005 = 23.59\n",
    "chi_sq__9_0995 = 1.54\n",
    "\n",
    "sigma1_sq_095 = round((9*s_sq_ten)/(chi_sq__9_095), 5)\n",
    "sigma2_sq_095 = round((9*s_sq_ten)/(chi_sq__9_005), 5)\n",
    "print(sigma1_sq_095, sigma2_sq_095)\n",
    "\n",
    "sigma1_sq_0775 = round((9*s_sq_ten)/(chi_sq__9_0975), 5)\n",
    "sigma2_sq_0775 = round((9*s_sq_ten)/(chi_sq__9_0025), 5)\n",
    "print(sigma1_sq_0775, sigma2_sq_0775)\n",
    "\n",
    "sigma1_sq_0995 = round((9*s_sq_ten)/(chi_sq__9_0995), 5)\n",
    "sigma2_sq_0995 = round((9*s_sq_ten)/(chi_sq__9_0005), 5)\n",
    "print(sigma1_sq_0995, sigma2_sq_0995)"
   ]
  },
  {
   "cell_type": "markdown",
   "id": "ff1ef380-bb4a-48ea-9c35-e09ee3e5385c",
   "metadata": {},
   "source": [
    "Задание 3"
   ]
  },
  {
   "cell_type": "markdown",
   "id": "82a3f860-8732-4d06-92bc-b2c8cefed930",
   "metadata": {},
   "source": [
    "| Nk | gammak | Частота mk | tk = (gammak - x_mean)/std | Фk = FN(tk) | pk | npk | (mk - npk)^2/npk |\n",
    "|---|---|---|---|---|---|---|---|\n",
    "| 0 | 0.04799 | 7 | -1.04 | 0.14917 | 0.14917 | 7.4585 | 0.02819 |\n",
    "| 1 | 0.08934 | 10 | -0.49 | 0.31207 | 0.1629 | 8.145 | 0.42247 |\n",
    "| 2 | 0.13070 | 14 | 0.06 | 0.52392 | 0.21185 | 10.5925 | 1.09616 |\n",
    "| 3 | 0.17205 | 8 | 0.61 | 0.72907 | 0.20515 | 10.2575 | 0.49684 |\n",
    "| 4 | 0.21340 | 3 | 1.17 | 0.879 | 0.14993 | 7.4965 | 2.69706 |\n",
    "| 5 | 0.25474 | 2 | 1.72 | 0.95728 | 0.07828 | 3.914 | 0.93597 |\n",
    "| 6 | infinity | 6 | inf | 1 | 0.04272 | 2.136 | 6.98993 |\n",
    "|  |  |  |  |  |  |  | 12.66662 |"
   ]
  },
  {
   "cell_type": "code",
   "execution_count": 66,
   "id": "351d4c2c-cfe2-41d4-bc00-f2d5b0ed1827",
   "metadata": {
    "ExecuteTime": {
     "end_time": "2024-05-07T13:33:12.760503Z",
     "start_time": "2024-05-07T13:33:12.758314Z"
    }
   },
   "outputs": [
    {
     "name": "stdout",
     "output_type": "stream",
     "text": [
      "-1.04\n",
      "-0.49\n",
      "0.06\n",
      "0.61\n",
      "1.17\n",
      "1.72\n"
     ]
    }
   ],
   "source": [
    "std = 0.00561\n",
    "x_mean = 0.12613\n",
    "gammak = [0.04799, 0.08934, 0.13070, 0.17205, 0.21340, 0.25474]\n",
    "for k in gammak:\n",
    "    print(round((k - x_mean)/math.sqrt(std), 2))"
   ]
  },
  {
   "cell_type": "code",
   "execution_count": 67,
   "id": "2eeb382f-45f4-4cb2-bb46-55c4b0e2e983",
   "metadata": {
    "ExecuteTime": {
     "end_time": "2024-05-07T13:33:12.830025Z",
     "start_time": "2024-05-07T13:33:12.825647Z"
    }
   },
   "outputs": [
    {
     "data": {
      "text/plain": [
       "[0.14917, 0.31207, 0.52392, 0.72907, 0.879, 0.95728, 1]"
      ]
     },
     "execution_count": 67,
     "metadata": {},
     "output_type": "execute_result"
    }
   ],
   "source": [
    "Фk = [round(1 - 0.85083,5), round(1 - 0.68793,5), 0.52392, 0.72907, 0.87900, 0.95728, 1]\n",
    "Фk"
   ]
  },
  {
   "cell_type": "code",
   "execution_count": 68,
   "id": "c02dcfc3-725a-4054-b535-e8c350a995fc",
   "metadata": {
    "ExecuteTime": {
     "end_time": "2024-05-07T13:33:12.857364Z",
     "start_time": "2024-05-07T13:33:12.855595Z"
    }
   },
   "outputs": [
    {
     "name": "stdout",
     "output_type": "stream",
     "text": [
      "0.1629\n",
      "0.21185\n",
      "0.20515\n",
      "0.14993\n",
      "0.07828\n",
      "0.04272\n"
     ]
    }
   ],
   "source": [
    "for i in range(1, len(Фk)):\n",
    "    print(round(Фk[i] - Фk[i-1], 5))"
   ]
  },
  {
   "cell_type": "code",
   "execution_count": 3,
   "id": "c82de98c-b012-4d17-8f8c-d812aa9b0ef1",
   "metadata": {
    "ExecuteTime": {
     "end_time": "2024-05-07T13:33:12.924223Z",
     "start_time": "2024-05-07T13:33:12.922473Z"
    }
   },
   "outputs": [
    {
     "name": "stdout",
     "output_type": "stream",
     "text": [
      "7.4585\n",
      "8.145\n",
      "10.5925\n",
      "10.2575\n",
      "7.4965\n",
      "3.914\n",
      "2.136\n"
     ]
    }
   ],
   "source": [
    "pk = [0.14917, 0.1629, 0.21185, 0.20515, 0.14993, 0.07828, 0.04272]\n",
    "for i in pk:\n",
    "    print(round(i*50, 5))"
   ]
  },
  {
   "cell_type": "code",
   "execution_count": 9,
   "id": "b73e612b-1e82-477c-9207-e9eb35579dd9",
   "metadata": {
    "ExecuteTime": {
     "end_time": "2024-05-07T13:33:12.951869Z",
     "start_time": "2024-05-07T13:33:12.949573Z"
    }
   },
   "outputs": [
    {
     "name": "stdout",
     "output_type": "stream",
     "text": [
      "0.02819\n",
      "0.42247\n",
      "1.09616\n",
      "0.49684\n",
      "2.69706\n",
      "0.93597\n",
      "6.98993\n"
     ]
    }
   ],
   "source": [
    "mk = [7, 10, 14, 8, 3, 2, 6]\n",
    "nkp = [7.4585, 8.145, 10.5925, 10.2575, 7.4965, 3.914, 2.136]\n",
    "for i in range(0, len(nkp)):\n",
    "    print(round(((mk[i] - nkp[i])**2)/nkp[i], 5))"
   ]
  },
  {
   "cell_type": "code",
   "execution_count": 10,
   "id": "4a2abac1-c28f-40c7-b477-f1bafda21ca4",
   "metadata": {
    "ExecuteTime": {
     "end_time": "2024-05-07T13:33:13.030282Z",
     "start_time": "2024-05-07T13:33:13.027860Z"
    }
   },
   "outputs": [
    {
     "data": {
      "text/plain": [
       "12.66662"
      ]
     },
     "execution_count": 10,
     "metadata": {},
     "output_type": "execute_result"
    }
   ],
   "source": [
    "chi = [0.02819, 0.42247, 1.09616, 0.49684, 2.69706, 0.93597, 6.98993]\n",
    "sum(chi)"
   ]
  },
  {
   "cell_type": "code",
   "execution_count": 72,
   "id": "4dae9659-c093-4e1b-ae28-0bdc9fa0c69c",
   "metadata": {
    "ExecuteTime": {
     "end_time": "2024-05-07T13:33:13.058941Z",
     "start_time": "2024-05-07T13:33:13.057415Z"
    }
   },
   "outputs": [],
   "source": [
    "v = 7 - 2 - 1"
   ]
  },
  {
   "cell_type": "markdown",
   "id": "1ac8ed2b-7da2-4256-a16d-6dbbf67adb74",
   "metadata": {},
   "source": [
    "|  | 0.1 | 0.05 | 0.01 |\n",
    "|---|---|---|---|\n",
    "| chi_sq_1-a | 1,06 | 0,21 | 0,09 |\n",
    "| chi_sq | 150.75008 | 150.75008 | 150.75008 |\n",
    "| H: | да | да | да |"
   ]
  },
  {
   "cell_type": "markdown",
   "id": "f45a60d6-35fa-4b4f-94fc-5b6b2b49f5b6",
   "metadata": {},
   "source": [
    "| gamma_k | tk = (gammak - x_mean)/std | nФk = nFN(tk) |  | delta_k = \\nФk - Mk\\ |\n",
    "|---|---|---|---|---|\n",
    "| 0.04799 | -1.04 | 7.4585 | 7 | 0.4585 |\n",
    "| 0.08934 | -0.49 | 15.6035 | 17 | 1.3965 |\n",
    "| 0.13070 | 0.06 | 26.196 | 31 | 4.804 |\n",
    "| 0.17205 | 0.61 | 36.4535 | 39 | 2.5465 |\n",
    "| 0.21340 | 1.17 | 43.95 | 42 | 1.95 |\n",
    "| 0.25474 | 1.72 | 47.864 | 44 | 3.864 |\n",
    "| 0.29609 | 2.27 | 49.42 | 50 | 0.58 |"
   ]
  },
  {
   "cell_type": "code",
   "execution_count": 73,
   "id": "948175fb-9652-4abb-ae53-45d2bc7db3df",
   "metadata": {
    "ExecuteTime": {
     "end_time": "2024-05-07T13:33:13.124615Z",
     "start_time": "2024-05-07T13:33:13.122487Z"
    }
   },
   "outputs": [
    {
     "name": "stdout",
     "output_type": "stream",
     "text": [
      "-1.04\n",
      "-0.49\n",
      "0.06\n",
      "0.61\n",
      "1.17\n",
      "1.72\n",
      "2.27\n"
     ]
    }
   ],
   "source": [
    "std = 0.00561\n",
    "x_mean = 0.12613\n",
    "gammak = [0.04799, 0.08934, 0.13070, 0.17205, 0.21340, 0.25474, 0.29609]\n",
    "for k in gammak:\n",
    "    print(round((k - x_mean)/math.sqrt(std), 2))"
   ]
  },
  {
   "cell_type": "code",
   "execution_count": 74,
   "id": "a18fb4287472de5",
   "metadata": {
    "ExecuteTime": {
     "end_time": "2024-05-07T13:33:13.156358Z",
     "start_time": "2024-05-07T13:33:13.153858Z"
    }
   },
   "outputs": [
    {
     "data": {
      "text/plain": [
       "[7.4585, 15.6035, 26.196, 36.4535, 43.95, 47.864, 49.42]"
      ]
     },
     "execution_count": 74,
     "metadata": {},
     "output_type": "execute_result"
    }
   ],
   "source": [
    "n = 50\n",
    "Фk = [n*round(1 - 0.85083,5), n*round(1 - 0.68793,5), n*0.52392, n*0.72907, n*0.87900, round(n*0.95728, 5), round(n*0.98840, 5)]\n",
    "Фk"
   ]
  },
  {
   "cell_type": "code",
   "execution_count": 75,
   "id": "a8e3e92892400a15",
   "metadata": {
    "ExecuteTime": {
     "end_time": "2024-05-07T13:33:13.223356Z",
     "start_time": "2024-05-07T13:33:13.221446Z"
    }
   },
   "outputs": [
    {
     "name": "stdout",
     "output_type": "stream",
     "text": [
      "0.4585\n",
      "1.3965\n",
      "4.804\n",
      "2.5465\n",
      "1.95\n",
      "3.864\n",
      "0.58\n"
     ]
    }
   ],
   "source": [
    "mk = [7, 17, 31, 39, 42, 44, 50]\n",
    "for i in range(0, len(mk)):\n",
    "    print(round(abs(Фk[i] - mk[i]), 5))"
   ]
  },
  {
   "cell_type": "code",
   "execution_count": 76,
   "id": "49ef1286-665b-44da-9878-170fc8993f3e",
   "metadata": {
    "ExecuteTime": {
     "end_time": "2024-05-07T13:33:13.244410Z",
     "start_time": "2024-05-07T13:33:13.242147Z"
    }
   },
   "outputs": [
    {
     "data": {
      "text/plain": [
       "0.6793881953640348"
      ]
     },
     "execution_count": 76,
     "metadata": {},
     "output_type": "execute_result"
    }
   ],
   "source": [
    "lambdaa = 4.804/math.sqrt(50)\n",
    "lambdaa"
   ]
  },
  {
   "cell_type": "markdown",
   "id": "4bc32a5f-3416-4afc-a73b-2b0faabd6067",
   "metadata": {},
   "source": [
    "|  | 0.1 | 0.05 | 0.01 |\n",
    "|---|---|---|---|\n",
    "| lambda_1-a | 0.11384 | 0.12530 | 0.14580 |\n",
    "| lambda | 0.67939 | 0.67939 | 0.67939 |\n",
    "| H:| да | да | да |"
   ]
  },
  {
   "cell_type": "code",
   "execution_count": 77,
   "id": "b5bc4c9b-8862-4031-96ff-4968768f1c45",
   "metadata": {
    "ExecuteTime": {
     "end_time": "2024-05-07T13:33:13.308806Z",
     "start_time": "2024-05-07T13:33:13.306835Z"
    }
   },
   "outputs": [
    {
     "data": {
      "text/plain": [
       "0.1458054182806661"
      ]
     },
     "execution_count": 77,
     "metadata": {},
     "output_type": "execute_result"
    }
   ],
   "source": [
    "1.031/math.sqrt(50)"
   ]
  },
  {
   "cell_type": "markdown",
   "id": "f090c296-ca52-4280-b6d5-5d4465d1c12d",
   "metadata": {},
   "source": [
    "|  | 0 | 1 | 2 | 3 | 4 | 5 | 6 | 7 | 8 | 9 |\n",
    "|---|---|---|---|---|---|---|---|---|---|---|\n",
    "| X:xk | 0.0443 | 0.06694 | 0.02357 | 0.02025 | 0.2859 | 0.06605 | 0.06168 | 0.12731 | 0.14691 | 0.0405 |\n",
    "| Y:zk | 0.35562 | 0.41851 | 0.07075 | 0.0579 | 0.16624 | 0.16279 | 0.23312 | 0.3398 | 0.22133 | 0.19842 |\n",
    "| xk-zk | -0.31132 | -0.35157 | -0.04718 | -0.03765 | 0.11966 | -0.09674 | -0.17144 | -0.21249 | -0.07442 | -0.15792 |\n",
    "| R(xk-zk) | 8 | 9 | 2 | 1 | 5 | 4 | 6 | 7 | 3 |"
   ]
  },
  {
   "cell_type": "code",
   "execution_count": 78,
   "id": "c08f827b-33e7-483f-a5fb-197ba268c094",
   "metadata": {
    "ExecuteTime": {
     "end_time": "2024-05-07T13:33:13.343479Z",
     "start_time": "2024-05-07T13:33:13.340623Z"
    }
   },
   "outputs": [
    {
     "data": {
      "text/plain": [
       "[0.03765,\n",
       " 0.04718,\n",
       " 0.07442,\n",
       " 0.09674,\n",
       " 0.11966,\n",
       " 0.17144,\n",
       " 0.21249,\n",
       " 0.31132,\n",
       " 0.35157]"
      ]
     },
     "execution_count": 78,
     "metadata": {},
     "output_type": "execute_result"
    }
   ],
   "source": [
    "xz = [0.31132, 0.35157, 0.04718, 0.03765, 0.11966, 0.09674, 0.17144, 0.21249, 0.07442]\n",
    "sorted(xz)"
   ]
  },
  {
   "cell_type": "code",
   "execution_count": 79,
   "id": "d5a2c848-07a7-4886-9028-d6b53e825916",
   "metadata": {
    "ExecuteTime": {
     "end_time": "2024-05-07T13:33:13.414763Z",
     "start_time": "2024-05-07T13:33:13.412995Z"
    }
   },
   "outputs": [
    {
     "name": "stdout",
     "output_type": "stream",
     "text": [
      "-0.31132\n",
      "-0.35157\n",
      "-0.04718\n",
      "-0.03765\n",
      "0.11966\n",
      "-0.09674\n",
      "-0.17144\n",
      "-0.21249\n",
      "-0.07442\n",
      "-0.15792\n"
     ]
    }
   ],
   "source": [
    "X = LYMPH_NPOLAR[0:10]\n",
    "Y = SEGM_NPOLAR[0:10]\n",
    "for i in range(0, 10):\n",
    "    print(round(X[i] - Y[i],5))"
   ]
  },
  {
   "cell_type": "code",
   "execution_count": 80,
   "id": "d060de94-b180-4c57-ab64-6fc9417ed3d9",
   "metadata": {
    "ExecuteTime": {
     "end_time": "2024-05-07T13:33:13.454239Z",
     "start_time": "2024-05-07T13:33:13.452465Z"
    }
   },
   "outputs": [],
   "source": [
    "n = min(1,9)"
   ]
  },
  {
   "cell_type": "markdown",
   "id": "e4fda813-9fd7-4b5c-bc12-25dc6f16ea5e",
   "metadata": {},
   "source": [
    "|  | 0.05 | 0.01 |\n",
    "|---|---|---|\n",
    "| na | 1 | 0 |\n",
    "| n | 1 | 1 |\n",
    "| H: | нет | да |"
   ]
  },
  {
   "cell_type": "code",
   "execution_count": 81,
   "id": "47dac14f-9a34-4e41-ad02-d5348aad4edb",
   "metadata": {
    "ExecuteTime": {
     "end_time": "2024-05-07T13:33:13.506311Z",
     "start_time": "2024-05-07T13:33:13.504777Z"
    }
   },
   "outputs": [],
   "source": [
    "T = min(5, 1+2+3+4+6+7+8+9)"
   ]
  },
  {
   "cell_type": "code",
   "execution_count": null,
   "id": "785ba76b-c771-4c4f-8ebb-40d4b32e915b",
   "metadata": {},
   "outputs": [],
   "source": [
    "for "
   ]
  },
  {
   "cell_type": "markdown",
   "id": "d5a89a4d-a6c6-4d50-b480-b3cfea261545",
   "metadata": {},
   "source": [
    "|  | 0.05 | 0.01 |\n",
    "|---|---|---|\n",
    "| Ta | 10 | 5 |\n",
    "| T | 5 | 5 |\n",
    "| H: | да | да |"
   ]
  },
  {
   "cell_type": "markdown",
   "id": "0aa57ded-b945-458f-922a-5d091359d02e",
   "metadata": {},
   "source": [
    "|  | 0 | 1 | 2 | 3 | 4 | 5 | 6 | 7 | 8 | 9 | 10 | 11 | 12 | 13 | 14 | 15 | 16 | 17 | 18 | 19 |\n",
    "|---|---|---|---|---|---|---|---|---|---|---|---|---|---|---|---|---|---|---|---|---|\n",
    "| X:xk | 0.02025 | 0.02357 | 0.0405 | 0.0443 |  | 0.06168 | 0.06605 | 0.06694 |  | 0.12731 | 0.14691 |  |  |  |  |  | 0.2859 |\n",
    "| Y:zk |  |  |  |  | 0.0579 |  |  |  | 0.07075 |  |  | 0.16279 | 0.16624 | 0.19842 | 0.22133 | 0.23312 |  | 0.3398 | 0.35562 | 0.41851 |\n",
    "|  | 1 | 2 | 3 | 4 | 5 | 6 | 7 | 8 | 9 | 10 | 11 | 12 | 13 | 14 | 15 | 16 | 17 | 18 | 19 | 20 |"
   ]
  },
  {
   "cell_type": "code",
   "execution_count": 78,
   "id": "7414670e-5395-47e0-b39b-55745d7d8078",
   "metadata": {
    "ExecuteTime": {
     "end_time": "2024-05-07T13:33:13.549328Z",
     "start_time": "2024-05-07T13:33:13.547126Z"
    }
   },
   "outputs": [
    {
     "name": "stdout",
     "output_type": "stream",
     "text": [
      "14\n",
      "86\n"
     ]
    },
    {
     "data": {
      "text/plain": [
       "[0.02025,\n",
       " 0.02357,\n",
       " 0.0405,\n",
       " 0.0443,\n",
       " 0.06168,\n",
       " 0.06605,\n",
       " 0.06694,\n",
       " 0.12731,\n",
       " 0.14691,\n",
       " 0.2859]"
      ]
     },
     "execution_count": 78,
     "metadata": {},
     "output_type": "execute_result"
    }
   ],
   "source": [
    "X = LYMPH_NPOLAR[0:10]\n",
    "Y = SEGM_NPOLAR[0:10]\n",
    "\n",
    "#X = [0.2486, 0.293, 0.4993, 0.3993, 0.4714, 0.3033, 0.4327, 0.4987, 0.5244, 0.3594]\n",
    "#Y = [0.347, 0.4221, 0.3374, 0.3841, 0.376, 0.3303, 0.3115, 0.2959, 0.3177, 0.3653]\n",
    "\n",
    "Ux = 0\n",
    "for i in X:\n",
    "    for j in Y:\n",
    "        if i > j:\n",
    "            Ux+=1\n",
    "print(Ux)\n",
    "Uy = 0\n",
    "for i in Y:\n",
    "    for j in X:\n",
    "        if i > j:\n",
    "            Uy+=1\n",
    "print(Uy)\n",
    "sorted(X)"
   ]
  },
  {
   "cell_type": "code",
   "execution_count": 83,
   "id": "e1922cb7-23a8-419b-bfda-0a937154a23c",
   "metadata": {
    "ExecuteTime": {
     "end_time": "2024-05-07T13:33:13.609230Z",
     "start_time": "2024-05-07T13:33:13.607320Z"
    }
   },
   "outputs": [
    {
     "data": {
      "text/plain": [
       "[0.0579,\n",
       " 0.07075,\n",
       " 0.16279,\n",
       " 0.16624,\n",
       " 0.19842,\n",
       " 0.22133,\n",
       " 0.23312,\n",
       " 0.3398,\n",
       " 0.35562,\n",
       " 0.41851]"
      ]
     },
     "execution_count": 83,
     "metadata": {},
     "output_type": "execute_result"
    }
   ],
   "source": [
    "sorted(Y)"
   ]
  },
  {
   "cell_type": "code",
   "execution_count": 84,
   "id": "0499ca3b-b386-4eec-a84b-39b3392365db",
   "metadata": {
    "ExecuteTime": {
     "end_time": "2024-05-07T13:33:13.656089Z",
     "start_time": "2024-05-07T13:33:13.653508Z"
    }
   },
   "outputs": [
    {
     "data": {
      "text/plain": [
       "69"
      ]
     },
     "execution_count": 84,
     "metadata": {},
     "output_type": "execute_result"
    }
   ],
   "source": [
    "min(1+2+3+4+6+7+8+10+11+17, 5+9+12+13+14+15+16+18+19+20)"
   ]
  },
  {
   "cell_type": "markdown",
   "id": "5f3f2c35-19e2-455d-b283-aecedad0d6b4",
   "metadata": {},
   "source": [
    "|  | 0.05 | 0.01 |\n",
    "|---|---|---|\n",
    "| Ta | 78 | 71 |\n",
    "| T | 69 | 69 |\n",
    "| H: | да | да |"
   ]
  },
  {
   "cell_type": "code",
   "execution_count": 85,
   "id": "c86fe2a9-3bcb-48c3-8398-5928d17a5c35",
   "metadata": {
    "ExecuteTime": {
     "end_time": "2024-05-07T13:33:13.711193Z",
     "start_time": "2024-05-07T13:33:13.709490Z"
    }
   },
   "outputs": [],
   "source": [
    "Ux = 4+3+2+1\n",
    "Uz = 1+1+5+3"
   ]
  },
  {
   "cell_type": "code",
   "execution_count": 86,
   "id": "9a41769a-10e6-4a66-b242-45195d4976f5",
   "metadata": {
    "ExecuteTime": {
     "end_time": "2024-05-07T13:33:13.741132Z",
     "start_time": "2024-05-07T13:33:13.739064Z"
    }
   },
   "outputs": [
    {
     "data": {
      "text/plain": [
       "10"
      ]
     },
     "execution_count": 86,
     "metadata": {},
     "output_type": "execute_result"
    }
   ],
   "source": [
    "min(Ux, Uz)"
   ]
  },
  {
   "cell_type": "markdown",
   "id": "7fd1c0bb-2a64-41d7-a542-921b2619ad5a",
   "metadata": {},
   "source": [
    "|  | 0.05 | 0.01 |\n",
    "|---|---|---|\n",
    "| Ua | 27 | 19 |\n",
    "| U | 14 | 14 |\n",
    "| H: | H0 | H0 |"
   ]
  },
  {
   "cell_type": "markdown",
   "id": "edfd98a2-867f-4bb6-93e9-e6531b711b56",
   "metadata": {},
   "source": [
    "|  | 0.1 | 0.05 | 0.01 |\n",
    "|---|---|---|---|\n",
    "| tv,1-a | 1.2987 | 1.6759 | 2.4033 |\n",
    "| tv | -0.17017 | -0.17017 | -0.17017 |\n",
    "| H:| нет | нет | нет |"
   ]
  },
  {
   "cell_type": "code",
   "execution_count": 87,
   "id": "40fd6336-dbd2-4e16-8cd9-b4bee4f89c61",
   "metadata": {
    "ExecuteTime": {
     "end_time": "2024-05-07T13:33:13.820836Z",
     "start_time": "2024-05-07T13:33:13.819306Z"
    }
   },
   "outputs": [],
   "source": [
    "x_mean = 0.12613\n",
    "sigma = math.sqrt(0.00572)\n",
    "m0 = 0.139"
   ]
  },
  {
   "cell_type": "code",
   "execution_count": 88,
   "id": "2b99cb93-48f8-408b-8b42-4306e259cdcc",
   "metadata": {
    "ExecuteTime": {
     "end_time": "2024-05-07T13:33:13.840799Z",
     "start_time": "2024-05-07T13:33:13.838642Z"
    }
   },
   "outputs": [
    {
     "data": {
      "text/plain": [
       "-0.1701690336107016"
      ]
     },
     "execution_count": 88,
     "metadata": {},
     "output_type": "execute_result"
    }
   ],
   "source": [
    "tv = (x_mean - m0)/sigma\n",
    "tv"
   ]
  },
  {
   "cell_type": "markdown",
   "id": "e7fd0d5b-fed4-49df-987f-3c5e66a0ef68",
   "metadata": {},
   "source": [
    "|  | 0.1 | 0.05 | 0.01 |\n",
    "|---|---|---|---|\n",
    "| tv,1-a | 1.6759 | 2.0086 | 2.6778 |\n",
    "| tv | 0.17017 | 0.17017 | 0.17017 |\n",
    "| H:| нет | нет | нет |"
   ]
  },
  {
   "cell_type": "code",
   "execution_count": 89,
   "id": "134ea3ab-9f40-49b6-b265-d928cb994783",
   "metadata": {
    "ExecuteTime": {
     "end_time": "2024-05-07T13:33:13.883345Z",
     "start_time": "2024-05-07T13:33:13.881134Z"
    }
   },
   "outputs": [
    {
     "data": {
      "text/plain": [
       "49.0"
      ]
     },
     "execution_count": 89,
     "metadata": {},
     "output_type": "execute_result"
    }
   ],
   "source": [
    "sigma = 0.00572\n",
    "S = 0.00572\n",
    "ch_sq = ((50-1)*S)/sigma\n",
    "ch_sq"
   ]
  },
  {
   "cell_type": "markdown",
   "id": "c06586ea-748f-4042-9c91-8b747b59b3a2",
   "metadata": {},
   "source": [
    "|  | 0.1 | 0.05 | 0.01 |\n",
    "|---|---|---|---|\n",
    "| chi_sq,1-a | 27,99 67,51 | 29,71 71,42 | 34,76 79,49 |\n",
    "| chi | 49.0 | 49.0 | 49.0 |\n",
    "| H:| да | да | да |"
   ]
  },
  {
   "cell_type": "code",
   "execution_count": 90,
   "id": "42c83b70-c303-4c04-9f74-d87be4328327",
   "metadata": {
    "ExecuteTime": {
     "end_time": "2024-05-07T13:33:13.935580Z",
     "start_time": "2024-05-07T13:33:13.933242Z"
    }
   },
   "outputs": [
    {
     "data": {
      "text/plain": [
       "3.6676573426573427"
      ]
     },
     "execution_count": 90,
     "metadata": {},
     "output_type": "execute_result"
    }
   ],
   "source": [
    "Sx = 0.00572\n",
    "Sz = 0.020979\n",
    "\n",
    "F = Sz/Sx\n",
    "F"
   ]
  },
  {
   "cell_type": "markdown",
   "id": "2f0cc323-dce7-41d3-9afa-ef10aa2e9bfb",
   "metadata": {},
   "source": [
    "|  | 0.1 | 0.05 | 0.01 |\n",
    "|---|---|---|---|\n",
    "| F,1-a | 1,39 | 1,48 | 1,60 |\n",
    "| F | 3.667 | 3.667 | 3.667 |\n",
    "| H:| да | да | да |"
   ]
  },
  {
   "cell_type": "code",
   "execution_count": 91,
   "id": "9aaea3fe-ea49-44c6-8722-f9870e724e08",
   "metadata": {
    "ExecuteTime": {
     "end_time": "2024-05-07T13:33:13.983065Z",
     "start_time": "2024-05-07T13:33:13.981516Z"
    }
   },
   "outputs": [],
   "source": [
    "v = 100-2"
   ]
  },
  {
   "cell_type": "code",
   "execution_count": 92,
   "id": "b2c9079b-6ed0-408a-aae5-1c7165f4ca10",
   "metadata": {
    "ExecuteTime": {
     "end_time": "2024-05-07T13:33:14.044560Z",
     "start_time": "2024-05-07T13:33:14.041843Z"
    }
   },
   "outputs": [
    {
     "data": {
      "text/plain": [
       "-28.149966821499667"
      ]
     },
     "execution_count": 92,
     "metadata": {},
     "output_type": "execute_result"
    }
   ],
   "source": [
    "tv = (0.12656-0.296248)/(0.005608+0.000420)\n",
    "tv"
   ]
  },
  {
   "cell_type": "markdown",
   "id": "0dc346d3-7f6a-49c3-ad91-82328d7ed699",
   "metadata": {},
   "source": [
    "|  | 0.1 | 0.05 | 0.01 |\n",
    "|---|---|---|---|\n",
    "| tv1-a | 1,6602 | 1,9840 | 2,6259 |\n",
    "| tv | 28.14996 | 28.14996 | 28.14996 |\n",
    "| H:| да | да | да |"
   ]
  },
  {
   "cell_type": "code",
   "execution_count": 93,
   "id": "7c787a36-a511-4533-bdc5-7ce24eb731d0",
   "metadata": {
    "ExecuteTime": {
     "end_time": "2024-05-07T13:33:14.099017Z",
     "start_time": "2024-05-07T13:33:14.097164Z"
    }
   },
   "outputs": [],
   "source": [
    "import numpy as np\n",
    "from scipy import stats\n",
    "import matplotlib.pyplot as plt\n",
    "import seaborn as sns\n",
    "from pylab import rcParams\n",
    "import math\n",
    "#sns.set()\n",
    "#rcParams['figure.figsize'] = 10, 6\n",
    "#%config InlineBackend.figure_format = 'svg'"
   ]
  },
  {
   "cell_type": "markdown",
   "id": "7fb4ef14-41c0-4c5f-b4ed-a6c00347293b",
   "metadata": {
    "ExecuteTime": {
     "end_time": "2024-05-07T13:33:14.256242Z",
     "start_time": "2024-05-07T13:33:14.157622Z"
    }
   },
   "source": [
    "Задание 4"
   ]
  },
  {
   "cell_type": "code",
   "execution_count": 101,
   "id": "38533abc054f528f",
   "metadata": {
    "ExecuteTime": {
     "end_time": "2024-05-07T13:33:14.261580Z",
     "start_time": "2024-05-07T13:33:14.259357Z"
    }
   },
   "outputs": [
    {
     "data": {
      "image/png": "[encoded data removed]",
      "text/plain": [
       "<Figure size 640x480 with 1 Axes>"
      ]
     },
     "metadata": {},
     "output_type": "display_data"
    }
   ],
   "source": [
    "LYMPH_AREA = [88.57, 84.96, 58.20, 60.84, 66.21, 64.55, 90.62, 65.14, 97.27, 52.83, 97.85, 122.56, 61.72, 63.96, 96.00, 83.50, 79.59, 65.43, 172.66, 56.15, 71.97, 83.69, 138.38, 113.87, 67.29, 97.07, 68.07, 97.17, 68.26, 46.87, 125.59, 88.96, 58.89, 143.85, 69.24, 94.24, 117.97, 78.03, 56.25, 87.30, 81.74, 88.67, 60.35, 132.23, 54.20, 80.86, 74.32, 86.91, 65.43, 88.38]\n",
    "LYMPH_NPOLAR = [0.04430, 0.06694, 0.02357, 0.02025, 0.28590, 0.06605, 0.06168, 0.12731, 0.14691, 0.04050, 0.11609, 0.09951, 0.12401, 0.13511, 0.14220, 0.13795, 0.12573, 0.12839, 0.11360, 0.16065, 0.05355, 0.10924, 0.26627, 0.27559, 0.06046, 0.11169, 0.10379, 0.15838, 0.05226, 0.28644, 0.21480, 0.01329, 0.09822, 0.26709, 0.08579, 0.26515, 0.21619, 0.06251, 0.08225, 0.19916, 0.18759, 0.07373, 0.03184, 0.03571, 0.12607, 0.11498, 0.19376, 0.11575, 0.13287, 0.14543]\n",
    "r0 = 0.263\n",
    "\n",
    "def ex_3_6():\n",
    "    '''Визуализация корреляции между x и y'''\n",
    "    xs = LYMPH_AREA\n",
    "    ys = LYMPH_NPOLAR\n",
    "    pd.DataFrame(np.array([xs,ys]).T).plot.scatter(0, 1, s=12, grid=True)\n",
    "    plt.xlabel('X')\n",
    "    plt.ylabel('Y')\n",
    "    plt.show()\n",
    "\n",
    "ex_3_6()"
   ]
  },
  {
   "cell_type": "markdown",
   "id": "fabf69b3-cb45-445b-a498-ccb245b17066",
   "metadata": {},
   "source": [
    "Заполним таблицу:"
   ]
  },
  {
   "cell_type": "code",
   "execution_count": 39,
   "id": "57ecb610-a273-438f-9f70-fb6b56a42478",
   "metadata": {},
   "outputs": [
    {
     "data": {
      "text/html": [
       "<div>\n",
       "<style scoped>\n",
       "    .dataframe tbody tr th:only-of-type {\n",
       "        vertical-align: middle;\n",
       "    }\n",
       "\n",
       "    .dataframe tbody tr th {\n",
       "        vertical-align: top;\n",
       "    }\n",
       "\n",
       "    .dataframe thead th {\n",
       "        text-align: right;\n",
       "    }\n",
       "</style>\n",
       "<table border=\"1\" class=\"dataframe\">\n",
       "  <thead>\n",
       "    <tr style=\"text-align: right;\">\n",
       "      <th></th>\n",
       "      <th>xi</th>\n",
       "      <th>yi</th>\n",
       "      <th>xiyi</th>\n",
       "      <th>xi**2</th>\n",
       "      <th>yi**2</th>\n",
       "    </tr>\n",
       "  </thead>\n",
       "  <tbody>\n",
       "    <tr>\n",
       "      <th>0</th>\n",
       "      <td>88.57</td>\n",
       "      <td>0.04430</td>\n",
       "      <td>3.923651</td>\n",
       "      <td>7844.6449</td>\n",
       "      <td>0.001962</td>\n",
       "    </tr>\n",
       "    <tr>\n",
       "      <th>1</th>\n",
       "      <td>84.96</td>\n",
       "      <td>0.06694</td>\n",
       "      <td>5.687222</td>\n",
       "      <td>7218.2016</td>\n",
       "      <td>0.004481</td>\n",
       "    </tr>\n",
       "    <tr>\n",
       "      <th>2</th>\n",
       "      <td>58.20</td>\n",
       "      <td>0.02357</td>\n",
       "      <td>1.371774</td>\n",
       "      <td>3387.2400</td>\n",
       "      <td>0.000556</td>\n",
       "    </tr>\n",
       "    <tr>\n",
       "      <th>3</th>\n",
       "      <td>60.84</td>\n",
       "      <td>0.02025</td>\n",
       "      <td>1.232010</td>\n",
       "      <td>3701.5056</td>\n",
       "      <td>0.000410</td>\n",
       "    </tr>\n",
       "    <tr>\n",
       "      <th>4</th>\n",
       "      <td>66.21</td>\n",
       "      <td>0.28590</td>\n",
       "      <td>18.929439</td>\n",
       "      <td>4383.7641</td>\n",
       "      <td>0.081739</td>\n",
       "    </tr>\n",
       "  </tbody>\n",
       "</table>\n",
       "</div>"
      ],
      "text/plain": [
       "      xi       yi       xiyi      xi**2     yi**2\n",
       "0  88.57  0.04430   3.923651  7844.6449  0.001962\n",
       "1  84.96  0.06694   5.687222  7218.2016  0.004481\n",
       "2  58.20  0.02357   1.371774  3387.2400  0.000556\n",
       "3  60.84  0.02025   1.232010  3701.5056  0.000410\n",
       "4  66.21  0.28590  18.929439  4383.7641  0.081739"
      ]
     },
     "execution_count": 39,
     "metadata": {},
     "output_type": "execute_result"
    }
   ],
   "source": [
    "xiyi = []\n",
    "for i in range(0, len(LYMPH_AREA)):\n",
    "    xiyi.append(LYMPH_AREA[i]*LYMPH_NPOLAR[i])\n",
    "xi_sq = []\n",
    "for i in range(0, len(LYMPH_AREA)):\n",
    "    xi_sq.append(LYMPH_AREA[i]**2)\n",
    "yi_sq = []\n",
    "for i in range(0, len(LYMPH_AREA)):\n",
    "    yi_sq.append(LYMPH_NPOLAR[i]**2)\n",
    "data  = pd.DataFrame({'xi': LYMPH_AREA[:], 'yi': LYMPH_NPOLAR[:], 'xiyi' : xiyi, 'xi**2' : xi_sq, 'yi**2' : yi_sq})\n",
    "data.head()"
   ]
  },
  {
   "cell_type": "code",
   "execution_count": 38,
   "id": "9a75eda5-b81f-4f1c-82a5-350db8c65d0f",
   "metadata": {},
   "outputs": [
    {
     "data": {
      "text/plain": [
       "{'xi_sum': 4214.66,\n",
       " 'yi_sum': 6.306500000000001,\n",
       " 'xiyi_sum': 559.7029297999999,\n",
       " 'xi**2_sum': 389484.6124,\n",
       " 'yi**2_sum': 1.0662446884}"
      ]
     },
     "execution_count": 38,
     "metadata": {},
     "output_type": "execute_result"
    }
   ],
   "source": [
    "data1  = {'xi_sum': sum(LYMPH_AREA[:]), \n",
    "                       'yi_sum': sum(LYMPH_NPOLAR[:]), \n",
    "                       'xiyi_sum' : sum(xiyi), \n",
    "                       'xi**2_sum' : sum(xi_sq), \n",
    "                       'yi**2_sum' : sum(yi_sq)}\n",
    "data1"
   ]
  },
  {
   "cell_type": "markdown",
   "id": "1f37768b-2694-441b-949e-2824a613a532",
   "metadata": {},
   "source": [
    "Решим систему уравнений где: <br>\n",
    "a*sum(xi**2) + b*sum(xi) = sum(xiyi) <br>\n",
    "a*sum(xi) + b*n = sum(yi)"
   ]
  },
  {
   "cell_type": "code",
   "execution_count": 50,
   "id": "c513c144-a61b-4089-8ac4-50947aa4e7e6",
   "metadata": {},
   "outputs": [
    {
     "name": "stdout",
     "output_type": "stream",
     "text": [
      "0.0008214486196630748 0.056887467213016525\n"
     ]
    }
   ],
   "source": [
    "M1 = np.array([[sum(xi_sq), sum(LYMPH_AREA[:])], [sum(LYMPH_AREA[:]), 50]])\n",
    "v1 = np.array([sum(xiyi), sum(LYMPH_NPOLAR[:])])\n",
    "arr = np.linalg.solve(M1, v1)\n",
    "a = arr[0]\n",
    "b = arr[1]\n",
    "print(a,b)"
   ]
  },
  {
   "cell_type": "code",
   "execution_count": 61,
   "id": "32ec3635-f8f0-4d1c-baf6-b8a3bdfe9359",
   "metadata": {},
   "outputs": [
    {
     "data": {
      "image/png": "[encoded data removed]",
      "text/plain": [
       "<Figure size 640x480 with 1 Axes>"
      ]
     },
     "metadata": {},
     "output_type": "display_data"
    }
   ],
   "source": [
    "regression_line = lambda a, b: lambda x: (a*x) + b  # вызовы fn(a,b)(x)\n",
    "\n",
    "def ex_3_6():\n",
    "    '''Визуализация корреляции между x и y'''\n",
    "    xs = LYMPH_AREA\n",
    "    ys = LYMPH_NPOLAR\n",
    "    #pd.DataFrame(np.array([xs,ys]).T).plot.scatter(0, 1, s=12, grid=True)\n",
    "    ax = pd.DataFrame(np.array([xs, ys]).T).plot.scatter(0, 1, s=3)\n",
    "    s  = pd.Series(range(40,180))\n",
    "    df = pd.DataFrame( {0:s, 1:s.map(regression_line(a, b))} )  \n",
    "    df.plot(0, 1, legend=False, grid=True, ax=ax)\n",
    "    plt.xlabel('X')\n",
    "    plt.ylabel('Y')\n",
    "    plt.show()\n",
    "\n",
    "ex_3_6()"
   ]
  },
  {
   "cell_type": "markdown",
   "id": "45711722-9442-46d4-8ba7-5d7a5a2a039e",
   "metadata": {},
   "source": [
    "Вычисляем линейный коэффицент парной корреляции Пирсона: "
   ]
  },
  {
   "cell_type": "code",
   "execution_count": 66,
   "id": "7a4c1100-d2aa-4e7b-95bd-0350f378e5a8",
   "metadata": {},
   "outputs": [],
   "source": [
    "x_y = sum(xiyi)/50\n",
    "x_i = sum(LYMPH_AREA[:])/50\n",
    "y_i = sum(LYMPH_NPOLAR[:])/50\n",
    "disp_x = math.sqrt((sum(xi_sq)/50) - x_i**2) \n",
    "disp_y = math.sqrt((sum(yi_sq)/50) - y_i**2) "
   ]
  },
  {
   "cell_type": "code",
   "execution_count": 68,
   "id": "24e4fc0a-08a2-40d4-bbb3-a1bcd185beb5",
   "metadata": {},
   "outputs": [
    {
     "data": {
      "text/plain": [
       "0.29199479385816457"
      ]
     },
     "execution_count": 68,
     "metadata": {},
     "output_type": "execute_result"
    }
   ],
   "source": [
    "rxy = (x_y - (x_i*y_i))/(disp_x*disp_y)\n",
    "rxy"
   ]
  },
  {
   "cell_type": "markdown",
   "id": "7baaa2d5-bee3-4aec-8fa3-24f718d34f98",
   "metadata": {},
   "source": [
    "Вычисление доверительного интервала для rxy:"
   ]
  },
  {
   "cell_type": "code",
   "execution_count": 85,
   "id": "245eca1e-966c-4b4c-9d15-597be389dcaf",
   "metadata": {},
   "outputs": [
    {
     "name": "stdout",
     "output_type": "stream",
     "text": [
      "0.3007456039192614 0.29199479385816457 0.14586499149789456\n"
     ]
    }
   ],
   "source": [
    "z = 0.5*math.log((1+rxy)/(1-rxy))\n",
    "dist_z = 1/(math.sqrt(50-3))\n",
    "r = (math.e**z - math.e**(-z))/(math.e**z + math.e**(-z))\n",
    "print(z, r, dist_z)"
   ]
  },
  {
   "cell_type": "code",
   "execution_count": 91,
   "id": "0a8f6386-8173-4939-989a-6cc48a07d170",
   "metadata": {},
   "outputs": [
    {
     "name": "stdout",
     "output_type": "stream",
     "text": [
      "t1:  1.3721836411102863  z1:  0.10059204877515951  z2:  0.5008991590633634\n",
      "t05:  1.8124611228107335  z1:  0.03637097765020936  z2:  0.5651202301883135\n",
      "t01:  2.763769457447889  z1:  -0.10239160449351553  z2:  0.7038828123320384\n"
     ]
    }
   ],
   "source": [
    "a = 0.1\n",
    "t1 = st.t.ppf(1-a, 10)\n",
    "z1_1 = z - t1*dist_z\n",
    "z2_1 = z + t1*dist_z\n",
    "print('t1: ', t1, ' z1: ', z1_1, ' z2: ', z2_1)\n",
    "a = 0.05\n",
    "t05 = st.t.ppf(1-a, 10)\n",
    "z1_05 = z - t05*dist_z\n",
    "z2_05 = z + t05*dist_z\n",
    "print('t05: ', t05, ' z1: ', z1_05, ' z2: ', z2_05)\n",
    "a = 0.01\n",
    "t01 = st.t.ppf(1-a, 10)\n",
    "z1_01 = z - t01*dist_z\n",
    "z2_01 = z + t01*dist_z\n",
    "print('t01: ', t01, ' z1: ', z1_01, ' z2: ', z2_01)"
   ]
  },
  {
   "cell_type": "code",
   "execution_count": 95,
   "id": "85b7360c-f08e-447d-9e4a-d6ec26958d51",
   "metadata": {},
   "outputs": [
    {
     "name": "stdout",
     "output_type": "stream",
     "text": [
      "t1:  1.3721836411102863  r1:  0.10025412750458162  r2:  0.46282400496935544\n",
      "t05:  1.8124611228107335  r1:  0.036354948373342584  r2:  0.5117665449509963\n",
      "t01:  2.763769457447889  r1:  -0.10203527282195805  r2:  0.6068265695513029\n"
     ]
    }
   ],
   "source": [
    "r1_1 = (math.e**z1_1 - math.e**(-z1_1))/(math.e**z1_1 + math.e**(-z1_1))\n",
    "r2_1 = (math.e**z2_1 - math.e**(-z2_1))/(math.e**z2_1 + math.e**(-z2_1))\n",
    "print('t1: ', t1, ' r1: ', r1_1, ' r2: ', r2_1)\n",
    "r1_05 = (math.e**z1_05 - math.e**(-z1_05))/(math.e**z1_05 + math.e**(-z1_05))\n",
    "r2_05 = (math.e**z2_05 - math.e**(-z2_05))/(math.e**z2_05 + math.e**(-z2_05))\n",
    "print('t05: ', t05, ' r1: ', r1_05, ' r2: ', r2_05)\n",
    "r1_01 = (math.e**z1_01 - math.e**(-z1_01))/(math.e**z1_01 + math.e**(-z1_01))\n",
    "r2_01 = (math.e**z2_01 - math.e**(-z2_01))/(math.e**z2_01 + math.e**(-z2_01))\n",
    "print('t01: ', t01, ' r1: ', r1_01, ' r2: ', r2_01)"
   ]
  },
  {
   "cell_type": "code",
   "execution_count": 100,
   "id": "e437ef6e-48a6-441e-80e3-bb135d3b1723",
   "metadata": {},
   "outputs": [
    {
     "data": {
      "text/html": [
       "<div>\n",
       "<style scoped>\n",
       "    .dataframe tbody tr th:only-of-type {\n",
       "        vertical-align: middle;\n",
       "    }\n",
       "\n",
       "    .dataframe tbody tr th {\n",
       "        vertical-align: top;\n",
       "    }\n",
       "\n",
       "    .dataframe thead th {\n",
       "        text-align: right;\n",
       "    }\n",
       "</style>\n",
       "<table border=\"1\" class=\"dataframe\">\n",
       "  <thead>\n",
       "    <tr style=\"text-align: right;\">\n",
       "      <th></th>\n",
       "      <th>0.1</th>\n",
       "      <th>0.05</th>\n",
       "      <th>0.01</th>\n",
       "    </tr>\n",
       "  </thead>\n",
       "  <tbody>\n",
       "    <tr>\n",
       "      <th>0</th>\n",
       "      <td>1.372184</td>\n",
       "      <td>2.763769</td>\n",
       "      <td>1.812461</td>\n",
       "    </tr>\n",
       "    <tr>\n",
       "      <th>1</th>\n",
       "      <td>(0.10059,0.5009)</td>\n",
       "      <td>(0.03637,0.56512)</td>\n",
       "      <td>(-0.10239,0.70388)</td>\n",
       "    </tr>\n",
       "    <tr>\n",
       "      <th>2</th>\n",
       "      <td>(0.10025,0.46282)</td>\n",
       "      <td>(0.03635,0.51177)</td>\n",
       "      <td>(-0.10204,0.60683)</td>\n",
       "    </tr>\n",
       "  </tbody>\n",
       "</table>\n",
       "</div>"
      ],
      "text/plain": [
       "                 0.1               0.05                0.01\n",
       "0           1.372184           2.763769            1.812461\n",
       "1   (0.10059,0.5009)  (0.03637,0.56512)  (-0.10239,0.70388)\n",
       "2  (0.10025,0.46282)  (0.03635,0.51177)  (-0.10204,0.60683)"
      ]
     },
     "execution_count": 100,
     "metadata": {},
     "output_type": "execute_result"
    }
   ],
   "source": [
    "data_01 = [t1, '('+str(round(z1_1,5))+','+str(round(z2_1,5))+')', '('+str(round(r1_1,5))+','+str(round(r2_1,5))+')']\n",
    "data_005 = [t01, '('+str(round(z1_05,5))+','+str(round(z2_05,5))+')', '('+str(round(r1_05,5))+','+str(round(r2_05,5))+')']\n",
    "data_001 = [t05, '('+str(round(z1_01,5))+','+str(round(z2_01,5))+')', '('+str(round(r1_01,5))+','+str(round(r2_01,5))+')']\n",
    "data  = pd.DataFrame({\n",
    "    '0.1': data_01, \n",
    "    '0.05': data_005, \n",
    "    '0.01' : data_001})\n",
    "data"
   ]
  },
  {
   "cell_type": "markdown",
   "id": "23ad78e5-a76f-4f9b-a484-80979d56dfde",
   "metadata": {},
   "source": [
    "Проверка гипотезы о значении коэффициента корреляции"
   ]
  },
  {
   "cell_type": "code",
   "execution_count": 106,
   "id": "37812c21-0de5-4a64-8f21-2e5a84ca9d9c",
   "metadata": {},
   "outputs": [
    {
     "data": {
      "text/plain": [
       "0.21538402406267368"
      ]
     },
     "execution_count": 106,
     "metadata": {},
     "output_type": "execute_result"
    }
   ],
   "source": [
    "z0 = 0.5*math.log((1+r0)/(1-r0))\n",
    "t = (z-z0)/dist_z\n",
    "t"
   ]
  },
  {
   "cell_type": "code",
   "execution_count": 104,
   "id": "42a99494-81fd-4879-a880-158c62351e74",
   "metadata": {},
   "outputs": [
    {
     "data": {
      "text/html": [
       "<div>\n",
       "<style scoped>\n",
       "    .dataframe tbody tr th:only-of-type {\n",
       "        vertical-align: middle;\n",
       "    }\n",
       "\n",
       "    .dataframe tbody tr th {\n",
       "        vertical-align: top;\n",
       "    }\n",
       "\n",
       "    .dataframe thead th {\n",
       "        text-align: right;\n",
       "    }\n",
       "</style>\n",
       "<table border=\"1\" class=\"dataframe\">\n",
       "  <thead>\n",
       "    <tr style=\"text-align: right;\">\n",
       "      <th></th>\n",
       "      <th>0.1</th>\n",
       "      <th>0.05</th>\n",
       "      <th>0.01</th>\n",
       "    </tr>\n",
       "  </thead>\n",
       "  <tbody>\n",
       "    <tr>\n",
       "      <th>0</th>\n",
       "      <td>1.372184</td>\n",
       "      <td>2.763769</td>\n",
       "      <td>1.812461</td>\n",
       "    </tr>\n",
       "    <tr>\n",
       "      <th>1</th>\n",
       "      <td>0.215384</td>\n",
       "      <td>0.215384</td>\n",
       "      <td>0.215384</td>\n",
       "    </tr>\n",
       "    <tr>\n",
       "      <th>2</th>\n",
       "      <td>H0</td>\n",
       "      <td>H0</td>\n",
       "      <td>H0</td>\n",
       "    </tr>\n",
       "  </tbody>\n",
       "</table>\n",
       "</div>"
      ],
      "text/plain": [
       "        0.1      0.05      0.01\n",
       "0  1.372184  2.763769  1.812461\n",
       "1  0.215384  0.215384  0.215384\n",
       "2        H0        H0        H0"
      ]
     },
     "execution_count": 104,
     "metadata": {},
     "output_type": "execute_result"
    }
   ],
   "source": [
    "data_01 = [t1, t, 'H0']\n",
    "data_005 = [t01, t, 'H0']\n",
    "data_001 = [t05, t, 'H0']\n",
    "data  = pd.DataFrame({\n",
    "    '0.1': data_01, \n",
    "    '0.05': data_005, \n",
    "    '0.01' : data_001})\n",
    "data"
   ]
  },
  {
   "cell_type": "markdown",
   "id": "adc6889a-7031-46bf-90b5-586b1f3d44ed",
   "metadata": {},
   "source": [
    "Проверка гипотезы о равенстве коэффициента корреляции нулю"
   ]
  },
  {
   "cell_type": "code",
   "execution_count": 107,
   "id": "6d41c942-a3f4-4851-866a-afc414089e0c",
   "metadata": {},
   "outputs": [
    {
     "data": {
      "text/plain": [
       "2.115178968124332"
      ]
     },
     "execution_count": 107,
     "metadata": {},
     "output_type": "execute_result"
    }
   ],
   "source": [
    "tv = (r*math.sqrt(48))/math.sqrt(1-r**2)\n",
    "tv"
   ]
  },
  {
   "cell_type": "code",
   "execution_count": 109,
   "id": "b54ec66d-4093-4f19-8878-11240541e238",
   "metadata": {},
   "outputs": [
    {
     "data": {
      "text/html": [
       "<div>\n",
       "<style scoped>\n",
       "    .dataframe tbody tr th:only-of-type {\n",
       "        vertical-align: middle;\n",
       "    }\n",
       "\n",
       "    .dataframe tbody tr th {\n",
       "        vertical-align: top;\n",
       "    }\n",
       "\n",
       "    .dataframe thead th {\n",
       "        text-align: right;\n",
       "    }\n",
       "</style>\n",
       "<table border=\"1\" class=\"dataframe\">\n",
       "  <thead>\n",
       "    <tr style=\"text-align: right;\">\n",
       "      <th></th>\n",
       "      <th>0.1</th>\n",
       "      <th>0.05</th>\n",
       "      <th>0.01</th>\n",
       "    </tr>\n",
       "  </thead>\n",
       "  <tbody>\n",
       "    <tr>\n",
       "      <th>0</th>\n",
       "      <td>1.2994</td>\n",
       "      <td>1.6772</td>\n",
       "      <td>2.4066</td>\n",
       "    </tr>\n",
       "    <tr>\n",
       "      <th>1</th>\n",
       "      <td>2.115179</td>\n",
       "      <td>2.115179</td>\n",
       "      <td>2.115179</td>\n",
       "    </tr>\n",
       "    <tr>\n",
       "      <th>2</th>\n",
       "      <td>H1</td>\n",
       "      <td>H1</td>\n",
       "      <td>H0</td>\n",
       "    </tr>\n",
       "  </tbody>\n",
       "</table>\n",
       "</div>"
      ],
      "text/plain": [
       "        0.1      0.05      0.01\n",
       "0    1.2994    1.6772    2.4066\n",
       "1  2.115179  2.115179  2.115179\n",
       "2        H1        H1        H0"
      ]
     },
     "execution_count": 109,
     "metadata": {},
     "output_type": "execute_result"
    }
   ],
   "source": [
    "data_01 = [1.2994, tv, 'H1']\n",
    "data_005 = [1.6772, tv, 'H1']\n",
    "data_001 = [2.4066, tv, 'H0']\n",
    "data  = pd.DataFrame({\n",
    "    '0.1': data_01, \n",
    "    '0.05': data_005, \n",
    "    '0.01' : data_001})\n",
    "data"
   ]
  },
  {
   "cell_type": "markdown",
   "id": "524ff23f-2161-403b-aaec-43a66893a7db",
   "metadata": {},
   "source": [
    "Прямой способ вычисления коэффициента корреляции"
   ]
  },
  {
   "cell_type": "code",
   "execution_count": 118,
   "id": "b161d4a0-7513-44cf-a1e9-fb1603820bff",
   "metadata": {},
   "outputs": [
    {
     "data": {
      "text/plain": [
       "6.571958960000001"
      ]
     },
     "execution_count": 118,
     "metadata": {},
     "output_type": "execute_result"
    }
   ],
   "source": [
    "xiyi = []\n",
    "for i in range(0, 10):\n",
    "    xiyi.append(LYMPH_AREA[i]*LYMPH_NPOLAR[i])\n",
    "axy = sum(xiyi)/10\n",
    "axy"
   ]
  },
  {
   "cell_type": "code",
   "execution_count": 119,
   "id": "c9fdc7e2-36d0-4a88-be61-5a307f26b146",
   "metadata": {},
   "outputs": [
    {
     "data": {
      "text/plain": [
       "0.11361234763625681"
      ]
     },
     "execution_count": 119,
     "metadata": {},
     "output_type": "execute_result"
    }
   ],
   "source": [
    "x_mean = 0.088341\n",
    "y_mean = 72.919\n",
    "s2x = 0.0065227\n",
    "s2y = 248.658\n",
    "n=10\n",
    "\n",
    "r10 = ((axy-(x_mean*y_mean))*(n/(n-1)))/math.sqrt(s2x*s2y)\n",
    "r10"
   ]
  },
  {
   "cell_type": "markdown",
   "id": "1b881c63-86eb-44d1-a0b9-4b1b39dfc07d",
   "metadata": {},
   "source": [
    "Коэффициент ранговой корреляции Спирмена"
   ]
  },
  {
   "cell_type": "code",
   "execution_count": 123,
   "id": "7a3f4d45-df9f-4c8f-9917-1b495a55c6f4",
   "metadata": {},
   "outputs": [
    {
     "data": {
      "text/plain": [
       "0.07528058017388757"
      ]
     },
     "execution_count": 123,
     "metadata": {},
     "output_type": "execute_result"
    }
   ],
   "source": [
    "rho, p = st.spearmanr(LYMPH_AREA, LYMPH_NPOLAR)\n",
    "p"
   ]
  },
  {
   "cell_type": "markdown",
   "id": "ce5019a9-12fa-43ec-8c6f-cd49f8147a2c",
   "metadata": {},
   "source": [
    "p!=0 => H1"
   ]
  },
  {
   "cell_type": "code",
   "execution_count": 124,
   "id": "83022bf5-e360-4091-9aae-8bf002a2ea4c",
   "metadata": {},
   "outputs": [
    {
     "data": {
      "text/plain": [
       "0.25383562637872026"
      ]
     },
     "execution_count": 124,
     "metadata": {},
     "output_type": "execute_result"
    }
   ],
   "source": [
    "rho"
   ]
  },
  {
   "cell_type": "markdown",
   "id": "ca9f5144-6dfc-47cc-ae60-12c7ed35d772",
   "metadata": {},
   "source": [
    "rho!=0 => H1"
   ]
  },
  {
   "cell_type": "code",
   "execution_count": null,
   "id": "2c5df196-4a9b-4975-9766-107ffd04ed6f",
   "metadata": {},
   "outputs": [],
   "source": []
  }
 ],
 "metadata": {
  "kernelspec": {
   "display_name": "Python 3 (ipykernel)",
   "language": "python",
   "name": "python3"
  },
  "language_info": {
   "codemirror_mode": {
    "name": "ipython",
    "version": 3
   },
   "file_extension": ".py",
   "mimetype": "text/x-python",
   "name": "python",
   "nbconvert_exporter": "python",
   "pygments_lexer": "ipython3",
   "version": "3.11.7"
  }
 },
 "nbformat": 4,
 "nbformat_minor": 5
}
