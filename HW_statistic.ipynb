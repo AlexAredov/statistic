{
 "cells": [
  {
   "cell_type": "code",
   "execution_count": 1,
   "id": "be297f68-0a62-4da4-bdd2-bbcf38e39ff6",
   "metadata": {
    "ExecuteTime": {
     "end_time": "2024-03-21T14:45:28.199482Z",
     "start_time": "2024-03-21T14:45:23.409793Z"
    }
   },
   "outputs": [],
   "source": [
    "import pandas as pd\n",
    "import math\n",
    "import numpy as np\n",
    "import matplotlib.pyplot as plt\n",
    "from scipy. stats import norm"
   ]
  },
  {
   "cell_type": "code",
   "execution_count": 2,
   "id": "232e2e9f-0dbd-4ab7-bdd7-3c6a49fd3183",
   "metadata": {
    "ExecuteTime": {
     "end_time": "2024-03-21T14:45:37.599770Z",
     "start_time": "2024-03-21T14:45:37.594588Z"
    }
   },
   "outputs": [],
   "source": [
    "LYMPH_AREA = [88.57, 84.96, 58.20, 60.84, 66.21, 64.55, 90.62, 65.14, 97.27, 52.83, 97.85, 122.56, 61.72, 63.96, 96.00, 83.50, 79.59, 65.43, 172.66, 56.15, 71.97, 83.69, 138.38, 113.87, 67.29, 97.07, 68.07, 97.17, 68.26, 46.87, 125.59, 88.96, 58.89, 143.85, 69.24, 94.24, 117.97, 78.03, 56.25, 87.30, 81.74, 88.67, 60.35, 132.23, 54.20, 80.86, 74.32, 86.91, 65.43, 88.38]\n",
    "LYMPH_NPOLAR = [0.04430, 0.06694, 0.02357, 0.02025, 0.28590, 0.06605, 0.06168, 0.12731, 0.14691, 0.04050, 0.11609, 0.09951, 0.12401, 0.13511, 0.14220, 0.13795, 0.12573, 0.12839, 0.11360, 0.16065, 0.05355, 0.10924, 0.26627, 0.27559, 0.06046, 0.11169, 0.10379, 0.15838, 0.05226, 0.28644, 0.21480, 0.01329, 0.09822, 0.26709, 0.08579, 0.26515, 0.21619, 0.06251, 0.08225, 0.19916, 0.18759, 0.07373, 0.03184, 0.03571, 0.12607, 0.11498, 0.19376, 0.11575, 0.13287, 0.14543]\n",
    "m0_LYMPH_AREA = 83.2\n",
    "m0_LYMPH_NPOLAR = 0.139\n",
    "sigma_sqrt0_LYMPH_AREA = 908.1\n",
    "sigma_sqrt0_LYMPH_NPOLAR = 0.007577\n",
    "r0 = 0.263\n",
    "\n",
    "SEGM_AREA = []\n",
    "SEGM_NPOLAR = []"
   ]
  },
  {
   "cell_type": "code",
   "execution_count": 3,
   "id": "bdca7611-3d4b-433d-99ae-3dcae5da79de",
   "metadata": {
    "ExecuteTime": {
     "end_time": "2024-03-21T14:45:38.638969Z",
     "start_time": "2024-03-21T14:45:38.635608Z"
    }
   },
   "outputs": [],
   "source": [
    "LYMPH = pd.DataFrame({'AREA': LYMPH_AREA[:], 'NPOLAR': LYMPH_NPOLAR[:]})"
   ]
  },
  {
   "cell_type": "code",
   "execution_count": 4,
   "id": "efdefbff-91f4-497d-9756-d2a43671cda1",
   "metadata": {
    "ExecuteTime": {
     "end_time": "2024-03-21T14:45:39.012586Z",
     "start_time": "2024-03-21T14:45:39.004703Z"
    }
   },
   "outputs": [
    {
     "data": {
      "text/html": [
       "<div>\n",
       "<style scoped>\n",
       "    .dataframe tbody tr th:only-of-type {\n",
       "        vertical-align: middle;\n",
       "    }\n",
       "\n",
       "    .dataframe tbody tr th {\n",
       "        vertical-align: top;\n",
       "    }\n",
       "\n",
       "    .dataframe thead th {\n",
       "        text-align: right;\n",
       "    }\n",
       "</style>\n",
       "<table border=\"1\" class=\"dataframe\">\n",
       "  <thead>\n",
       "    <tr style=\"text-align: right;\">\n",
       "      <th></th>\n",
       "      <th>AREA</th>\n",
       "      <th>NPOLAR</th>\n",
       "    </tr>\n",
       "  </thead>\n",
       "  <tbody>\n",
       "    <tr>\n",
       "      <th>0</th>\n",
       "      <td>88.57</td>\n",
       "      <td>0.04430</td>\n",
       "    </tr>\n",
       "    <tr>\n",
       "      <th>1</th>\n",
       "      <td>84.96</td>\n",
       "      <td>0.06694</td>\n",
       "    </tr>\n",
       "    <tr>\n",
       "      <th>2</th>\n",
       "      <td>58.20</td>\n",
       "      <td>0.02357</td>\n",
       "    </tr>\n",
       "    <tr>\n",
       "      <th>3</th>\n",
       "      <td>60.84</td>\n",
       "      <td>0.02025</td>\n",
       "    </tr>\n",
       "    <tr>\n",
       "      <th>4</th>\n",
       "      <td>66.21</td>\n",
       "      <td>0.28590</td>\n",
       "    </tr>\n",
       "  </tbody>\n",
       "</table>\n",
       "</div>"
      ],
      "text/plain": [
       "    AREA   NPOLAR\n",
       "0  88.57  0.04430\n",
       "1  84.96  0.06694\n",
       "2  58.20  0.02357\n",
       "3  60.84  0.02025\n",
       "4  66.21  0.28590"
      ]
     },
     "execution_count": 4,
     "metadata": {},
     "output_type": "execute_result"
    }
   ],
   "source": [
    "LYMPH.head(5)"
   ]
  },
  {
   "cell_type": "markdown",
   "id": "121858b8-e49d-4bcb-80d2-9ab739df0410",
   "metadata": {},
   "source": [
    "1.2.1. Работаем с исходной выборкой объёма n.\n",
    "1.2.2. Среди всех выборочных значений найдите минимальное значение − x_min \n",
    "1.2.3. Среди всех выборочных значений найдите максимальное значение - x_max"
   ]
  },
  {
   "cell_type": "code",
   "execution_count": 5,
   "id": "39b230a6-7658-47f5-b634-0a79771bac16",
   "metadata": {
    "ExecuteTime": {
     "end_time": "2024-03-21T14:45:39.602448Z",
     "start_time": "2024-03-21T14:45:39.599134Z"
    }
   },
   "outputs": [
    {
     "data": {
      "text/plain": [
       "0.28644"
      ]
     },
     "execution_count": 5,
     "metadata": {},
     "output_type": "execute_result"
    }
   ],
   "source": [
    "x_max = LYMPH.NPOLAR.max(axis=0)\n",
    "x_max"
   ]
  },
  {
   "cell_type": "code",
   "execution_count": 6,
   "id": "3b37de00-8b78-4106-861f-25d800526c63",
   "metadata": {
    "ExecuteTime": {
     "end_time": "2024-03-21T14:45:39.803063Z",
     "start_time": "2024-03-21T14:45:39.798918Z"
    }
   },
   "outputs": [
    {
     "data": {
      "text/plain": [
       "0.01329"
      ]
     },
     "execution_count": 6,
     "metadata": {},
     "output_type": "execute_result"
    }
   ],
   "source": [
    "x_min = LYMPH.NPOLAR.min(axis=0)\n",
    "x_min"
   ]
  },
  {
   "cell_type": "markdown",
   "id": "1d63f014-65d0-434d-874a-297f581552c7",
   "metadata": {},
   "source": [
    "1.2.4. Вычислите размах"
   ]
  },
  {
   "cell_type": "code",
   "execution_count": 7,
   "id": "65c8425a-3422-4b47-a278-6c10a86ef8b5",
   "metadata": {
    "ExecuteTime": {
     "end_time": "2024-03-21T14:45:40.143631Z",
     "start_time": "2024-03-21T14:45:40.135527Z"
    }
   },
   "outputs": [
    {
     "data": {
      "text/plain": [
       "0.27314999999999995"
      ]
     },
     "execution_count": 7,
     "metadata": {},
     "output_type": "execute_result"
    }
   ],
   "source": [
    "R = x_max - x_min\n",
    "R"
   ]
  },
  {
   "cell_type": "markdown",
   "id": "437629a6-2227-4e1f-9232-544be36d8110",
   "metadata": {},
   "source": [
    "1.2.5. Определите число интервалов"
   ]
  },
  {
   "cell_type": "code",
   "execution_count": 8,
   "id": "fa1cd54f-e888-4112-b79c-337ad9a2d353",
   "metadata": {
    "ExecuteTime": {
     "end_time": "2024-03-21T14:45:40.464634Z",
     "start_time": "2024-03-21T14:45:40.462230Z"
    }
   },
   "outputs": [
    {
     "data": {
      "text/plain": [
       "6.606601014308861"
      ]
     },
     "execution_count": 8,
     "metadata": {},
     "output_type": "execute_result"
    }
   ],
   "source": [
    "s = 1 + (3.3 * math.log10(LYMPH.NPOLAR.size))\n",
    "s"
   ]
  },
  {
   "cell_type": "markdown",
   "id": "b8a060c6-9e86-4451-9427-4782e924dbee",
   "metadata": {},
   "source": [
    "1.2.6. Определите длину интервала (шаг разбиения)   Значение\n",
    "h округлите до числа десятичных знаков после запятой, содержащихся в выборочных значениях x_k изучаемого признака (см. 1.1.2) так, чтобы на конце была четная цифра."
   ]
  },
  {
   "cell_type": "code",
   "execution_count": 9,
   "id": "3801594d-37d7-4cda-8dad-3638ec6af49e",
   "metadata": {
    "ExecuteTime": {
     "end_time": "2024-03-21T14:45:40.827440Z",
     "start_time": "2024-03-21T14:45:40.824787Z"
    }
   },
   "outputs": [
    {
     "data": {
      "text/plain": [
       "0.04135"
      ]
     },
     "execution_count": 9,
     "metadata": {},
     "output_type": "execute_result"
    }
   ],
   "source": [
    "h = round(R/s, 5)\n",
    "h"
   ]
  },
  {
   "cell_type": "markdown",
   "id": "6e1cc797-761d-4b6b-9445-5e5ef49b60b3",
   "metadata": {},
   "source": [
    "1.2.7. За начало первого интервала gamma0 рекомендуется выбирать gamma0 = x_min − h⁄2. Хотя может так оказаться, в зависимости от данных, что эта величина окажется отрицательной. Тогда в качестве её значения можно взять величину gamma0 = gamma0/2."
   ]
  },
  {
   "cell_type": "code",
   "execution_count": 10,
   "id": "f56aced3-4c67-4b98-a851-f20c1ac15f9c",
   "metadata": {
    "ExecuteTime": {
     "end_time": "2024-03-21T14:45:41.179804Z",
     "start_time": "2024-03-21T14:45:41.177451Z"
    }
   },
   "outputs": [
    {
     "data": {
      "text/plain": [
       "0.006645"
      ]
     },
     "execution_count": 10,
     "metadata": {},
     "output_type": "execute_result"
    }
   ],
   "source": [
    "gamma0 = x_min/2\n",
    "gamma0"
   ]
  },
  {
   "cell_type": "markdown",
   "id": "af636641-2419-491e-bf96-0ae8e8ebcc12",
   "metadata": {},
   "source": [
    "1.2.8. Нахождение границ интервалов.\n",
    "1.2.8.1. От точки gamma0 с шагом h получаем границы интервалов gammak, пока не будут покрыты x_min и x_max.\n",
    "1.2.8.2. Полученные значения gammak – границ интервалов внесите в таблицу No 1 (статистическая таблица).\n",
    "1.2.8.3. Рассчитайте середины интервалов"
   ]
  },
  {
   "cell_type": "code",
   "execution_count": 11,
   "id": "e0153557-f365-4118-8cca-cdb459fe2989",
   "metadata": {
    "ExecuteTime": {
     "end_time": "2024-03-21T14:45:41.529141Z",
     "start_time": "2024-03-21T14:45:41.526177Z"
    }
   },
   "outputs": [
    {
     "data": {
      "text/plain": [
       "[0.006645, 0.04799, 0.08934, 0.1307, 0.17205, 0.2134, 0.25474, 0.29609]"
      ]
     },
     "execution_count": 11,
     "metadata": {},
     "output_type": "execute_result"
    }
   ],
   "source": [
    "gammak = [0.006645]\n",
    "gamma_t = gamma0\n",
    "while(gamma_t + h < x_max):\n",
    "    gammak.append(round(gamma_t + h, 5))\n",
    "    gamma_t += h\n",
    "gammak.append(round(gamma_t + h, 5))\n",
    "gammak"
   ]
  },
  {
   "cell_type": "code",
   "execution_count": 12,
   "id": "1f7887e5-e933-42bf-ac34-f95c4ac27a0c",
   "metadata": {
    "ExecuteTime": {
     "end_time": "2024-03-21T14:45:41.724722Z",
     "start_time": "2024-03-21T14:45:41.721479Z"
    }
   },
   "outputs": [
    {
     "data": {
      "text/plain": [
       "[0.02732, 0.06867, 0.11002, 0.15137, 0.19272, 0.23407, 0.27542]"
      ]
     },
     "execution_count": 12,
     "metadata": {},
     "output_type": "execute_result"
    }
   ],
   "source": [
    "xk = [round(gamma0 + h/2, 5)]\n",
    "for i in range(1, len(gammak)-1):\n",
    "    xk.append(round(xk[i - 1] + h, 5))\n",
    "xk"
   ]
  },
  {
   "cell_type": "markdown",
   "id": "b3e8b2b2-3fde-41c7-b084-384b2ab679c1",
   "metadata": {},
   "source": [
    "| Nk | Границы интервалов, gamma_k-1 + e, gammak | Кодировка | Частота mk | Накопленная частота Mk | Середина интервала xk |\n",
    "|---|---|---|---|---|---|\n",
    "| 1 | [0.00664, 0.04799] |  | 7 | 7 | 0.02732 |\n",
    "| 2 | [0.04800, 0.08934] |  | 10 | 17 | 0.06867 |\n",
    "| 3 | [0.08935, 0.13070] |  | 14 | 31 | 0.11002 |\n",
    "| 4 | [0.13071, 0.17205] |  | 8 | 39 | 0.15137 |\n",
    "| 5 | [0.17206, 0.21340] |  | 3 | 42 | 0.19272 |\n",
    "| 6 | [0.21341, 0.25474] |  | 2 | 44 | 0.23407 |\n",
    "| 7 | [0.25475, 0.29609] |  | 6 | 50 | 0.27542 |\n"
   ]
  },
  {
   "cell_type": "code",
   "execution_count": 13,
   "id": "17e15bfb-3efa-4e08-9e46-a53ad162e89f",
   "metadata": {
    "ExecuteTime": {
     "end_time": "2024-03-21T14:45:43.344864Z",
     "start_time": "2024-03-21T14:45:43.340963Z"
    }
   },
   "outputs": [
    {
     "data": {
      "text/plain": [
       "6"
      ]
     },
     "execution_count": 13,
     "metadata": {},
     "output_type": "execute_result"
    }
   ],
   "source": [
    "k = 0\n",
    "for element in LYMPH.NPOLAR:\n",
    "    if (element >= 0.25475) and (element <= 0.29609):\n",
    "        k += 1\n",
    "k"
   ]
  },
  {
   "cell_type": "code",
   "execution_count": 37,
   "id": "7d194af30e70f615",
   "metadata": {
    "ExecuteTime": {
     "end_time": "2024-03-21T16:22:00.472397Z",
     "start_time": "2024-03-21T16:22:00.469628Z"
    },
    "collapsed": false,
    "jupyter": {
     "outputs_hidden": false
    }
   },
   "outputs": [
    {
     "data": {
      "text/plain": [
       "0.07434144110323744"
      ]
     },
     "execution_count": 37,
     "metadata": {},
     "output_type": "execute_result"
    }
   ],
   "source": [
    "std = LYMPH.NPOLAR.std()\n",
    "std"
   ]
  },
  {
   "cell_type": "code",
   "execution_count": 36,
   "id": "726fef41f157024",
   "metadata": {
    "ExecuteTime": {
     "end_time": "2024-03-21T16:22:35.595633Z",
     "start_time": "2024-03-21T16:22:35.589582Z"
    },
    "collapsed": false,
    "jupyter": {
     "outputs_hidden": false
    }
   },
   "outputs": [
    {
     "data": {
      "text/plain": [
       "0.12613"
      ]
     },
     "execution_count": 36,
     "metadata": {},
     "output_type": "execute_result"
    }
   ],
   "source": [
    "mean = LYMPH.NPOLAR.mean()\n",
    "mean"
   ]
  },
  {
   "cell_type": "markdown",
   "id": "6cf81e80-368e-4d66-b64e-18ed0601116d",
   "metadata": {},
   "source": [
    "Гистограмма"
   ]
  },
  {
   "cell_type": "code",
   "execution_count": 16,
   "id": "b82eda85-56af-41e9-a596-7619ecded2ef",
   "metadata": {
    "ExecuteTime": {
     "end_time": "2024-03-21T16:22:40.242217Z",
     "start_time": "2024-03-21T16:22:40.169920Z"
    }
   },
   "outputs": [
    {
     "data": {
      "image/png": "[encoded data removed]",
      "text/plain": [
       "<Figure size 600x400 with 1 Axes>"
      ]
     },
     "metadata": {},
     "output_type": "display_data"
    }
   ],
   "source": [
    "fig = plt.figure(figsize=(6, 4))\n",
    "ax = fig.add_subplot()\n",
    "x = np.arange (0, 0.3, 0.001)\n",
    "\n",
    "ax.hist(LYMPH.NPOLAR, 7, color='w', linewidth=2, edgecolor='k')\n",
    "plt.plot (x, norm.pdf(x, mean, std), color='r')\n",
    "ax.grid()\n",
    "plt.show()"
   ]
  },
  {
   "cell_type": "markdown",
   "id": "61fa5ee1-a361-4893-b344-28dc2e3af441",
   "metadata": {},
   "source": [
    "Полигон"
   ]
  },
  {
   "cell_type": "code",
   "execution_count": 17,
   "id": "d1613656-b9f0-4a42-bc47-d21520325cd6",
   "metadata": {
    "ExecuteTime": {
     "end_time": "2024-03-21T16:22:46.460971Z",
     "start_time": "2024-03-21T16:22:46.407788Z"
    }
   },
   "outputs": [
    {
     "data": {
      "image/png": "[encoded data removed]",
      "text/plain": [
       "<Figure size 600x400 with 1 Axes>"
      ]
     },
     "metadata": {},
     "output_type": "display_data"
    }
   ],
   "source": [
    "fig = plt.figure(figsize=(6, 4))\n",
    "ax = fig.add_subplot()\n",
    "#x = np.arange (0, 0.3, 0.001)\n",
    "\n",
    "m0 = [7, 10, 14, 8, 3, 2, 6]\n",
    "\n",
    "plt.plot(xk, m0, 'o-', color='k')\n",
    "plt.plot (x, norm.pdf(x, mean, std), color='r')\n",
    "ax.grid()\n",
    "plt.show()"
   ]
  },
  {
   "cell_type": "markdown",
   "id": "26ed43fa-0c90-4281-bdca-827da6e1e85b",
   "metadata": {},
   "source": [
    "Кумулята"
   ]
  },
  {
   "cell_type": "code",
   "execution_count": 18,
   "id": "72337553-cfed-41b1-b2c8-a4ec98e97bf8",
   "metadata": {
    "ExecuteTime": {
     "end_time": "2024-03-21T14:45:45.330082Z",
     "start_time": "2024-03-21T14:45:45.279884Z"
    }
   },
   "outputs": [
    {
     "data": {
      "image/png": "[encoded data removed]",
      "text/plain": [
       "<Figure size 600x400 with 1 Axes>"
      ]
     },
     "metadata": {},
     "output_type": "display_data"
    }
   ],
   "source": [
    "fig = plt.figure(figsize=(6, 4))\n",
    "ax = fig.add_subplot()\n",
    "#x = np.arange (0, 0.3, 0.001)\n",
    "\n",
    "mk = [7, 17, 31, 39, 42, 44, 50]\n",
    "\n",
    "plt.hist(LYMPH.NPOLAR, bins=7, cumulative=True)\n",
    "ax.grid()\n",
    "plt.show()"
   ]
  },
  {
   "cell_type": "markdown",
   "id": "387b73a0-1111-4b52-82d0-f70e49b0848a",
   "metadata": {},
   "source": [
    "1.3.1 Нахождение медианы (Me)."
   ]
  },
  {
   "cell_type": "code",
   "execution_count": 19,
   "id": "baf003ce-2b08-47a6-8a87-8558d62a2464",
   "metadata": {
    "ExecuteTime": {
     "end_time": "2024-03-21T14:45:45.647839Z",
     "start_time": "2024-03-21T14:45:45.644875Z"
    }
   },
   "outputs": [
    {
     "data": {
      "text/plain": [
       "0.11297857142857143"
      ]
     },
     "execution_count": 19,
     "metadata": {},
     "output_type": "execute_result"
    }
   ],
   "source": [
    "gamma_k_1 = 0.08935\n",
    "M_k_1 = 17\n",
    "m_k = 14\n",
    "Me = gamma_k_1 + (h*((25-M_k_1)/m_k))\n",
    "Me"
   ]
  },
  {
   "cell_type": "markdown",
   "id": "765e3814-980b-408a-b12b-5fef2ac90ccb",
   "metadata": {},
   "source": [
    "1.3.3. Нахождение моды (Mo)."
   ]
  },
  {
   "cell_type": "code",
   "execution_count": 20,
   "id": "1a37e248-577d-421a-a687-1e5dce523142",
   "metadata": {
    "ExecuteTime": {
     "end_time": "2024-03-21T14:45:46.126262Z",
     "start_time": "2024-03-21T14:45:46.122625Z"
    }
   },
   "outputs": [
    {
     "data": {
      "text/plain": [
       "0.10588"
      ]
     },
     "execution_count": 20,
     "metadata": {},
     "output_type": "execute_result"
    }
   ],
   "source": [
    "gamma_k_1 = 0.08934\n",
    "m = [7, 10, 14, 8, 3, 2, 6]\n",
    "k = 2\n",
    "Mo = gamma_k_1 + (h*((m[k] - m[k-1])/(2*m[k] - m[k-1] - m[k+1])))\n",
    "Mo"
   ]
  },
  {
   "cell_type": "markdown",
   "id": "812c58fd-a018-4357-9693-183fa3115f27",
   "metadata": {},
   "source": [
    "1.4. Метод произведений для вычисления характеристик вариационного ряда."
   ]
  },
  {
   "cell_type": "code",
   "execution_count": 21,
   "id": "8b9d7ce5-8679-4a16-85e6-78315c27d127",
   "metadata": {
    "ExecuteTime": {
     "end_time": "2024-03-21T14:45:46.610977Z",
     "start_time": "2024-03-21T14:45:46.608494Z"
    }
   },
   "outputs": [
    {
     "data": {
      "text/plain": [
       "50"
      ]
     },
     "execution_count": 21,
     "metadata": {},
     "output_type": "execute_result"
    }
   ],
   "source": [
    "xk = [0.02732, 0.06867, 0.11002, 0.15137, 0.19272, 0.23407, 0.27542]\n",
    "mk = [7, 10, 14, 8, 3, 2, 6]\n",
    "sum(mk)"
   ]
  },
  {
   "cell_type": "markdown",
   "id": "da3da35c-7856-4a4c-b17d-fbcdaec9b8c8",
   "metadata": {},
   "source": [
    "| xk | mk | yk | mkyk | mkyk^2 | mkyk^3 | mkyk^4|\n",
    "|---|---|---|---|---|---|---|\n",
    "| 0.02732 | 7 | -2 | -14 | 28 | -56 | 112 |\n",
    "| 0.06867 | 10 | -1 | -17 | 10 | -10 | 10 |\n",
    "| 0.11002 | 14 | 0 | 0 | 0 | 0 | 0 |\n",
    "| 0.15137 | 8 | 1 | 39 | 8 | 8 | 8 |\n",
    "| 0.19272 | 3 | 2 | 84 | 12 | 24 | 48 |\n",
    "| 0.23407 | 2 | 3 | 132 | 18 | 54 | 162 |\n",
    "| 0.27542 | 6 | 4 | 200 | 96 | 384 | 1536 |\n",
    "|  | 50 | 7 | 20 | 172 | 404 | 1876 |"
   ]
  },
  {
   "cell_type": "code",
   "execution_count": 22,
   "id": "8c929fe2-5f44-4339-a311-233c392bf7bc",
   "metadata": {
    "ExecuteTime": {
     "end_time": "2024-03-21T14:45:47.136632Z",
     "start_time": "2024-03-21T14:45:47.133338Z"
    }
   },
   "outputs": [
    {
     "data": {
      "text/plain": [
       "7.0"
      ]
     },
     "execution_count": 22,
     "metadata": {},
     "output_type": "execute_result"
    }
   ],
   "source": [
    "a = 0.11002\n",
    "yk = []\n",
    "for el in xk:\n",
    "    yk.append(round((el - a)/h, 1))\n",
    "sum(yk)"
   ]
  },
  {
   "cell_type": "markdown",
   "id": "f347c784-415c-4483-b9d7-008031875785",
   "metadata": {},
   "source": [
    "pow 1"
   ]
  },
  {
   "cell_type": "code",
   "execution_count": 23,
   "id": "1b312daa-82da-4f8e-9ada-65ece1d5c658",
   "metadata": {
    "ExecuteTime": {
     "end_time": "2024-03-21T14:45:47.294574Z",
     "start_time": "2024-03-21T14:45:47.291414Z"
    }
   },
   "outputs": [],
   "source": [
    "mkyk = []\n",
    "for i in range(0, 7):\n",
    "    mkyk.append(mk[i] * yk[i])\n",
    "sum1 = sum(mkyk)"
   ]
  },
  {
   "cell_type": "markdown",
   "id": "45f3e24e-a8bd-4c51-b858-b4c46fe3a36d",
   "metadata": {},
   "source": [
    "pow 2"
   ]
  },
  {
   "cell_type": "code",
   "execution_count": 24,
   "id": "7bb40fb5-42b7-4d22-b92f-c670bed9f15b",
   "metadata": {
    "ExecuteTime": {
     "end_time": "2024-03-21T14:45:47.793017Z",
     "start_time": "2024-03-21T14:45:47.790642Z"
    }
   },
   "outputs": [],
   "source": [
    "mkyk = []\n",
    "for i in range(0, 7):\n",
    "    mkyk.append(mk[i] * pow(yk[i], 2))\n",
    "sum2 = sum(mkyk)"
   ]
  },
  {
   "cell_type": "markdown",
   "id": "31384677-e975-445e-bb4e-d1592b6453b2",
   "metadata": {},
   "source": [
    "pow 3"
   ]
  },
  {
   "cell_type": "code",
   "execution_count": 25,
   "id": "6b0249ec-fcae-444f-986e-bb0f1efb288b",
   "metadata": {
    "ExecuteTime": {
     "end_time": "2024-03-21T14:45:48.171371Z",
     "start_time": "2024-03-21T14:45:48.169352Z"
    }
   },
   "outputs": [],
   "source": [
    "mkyk = []\n",
    "for i in range(0, 7):\n",
    "    mkyk.append(mk[i] * pow(yk[i], 3))\n",
    "sum3 = sum(mkyk)"
   ]
  },
  {
   "cell_type": "markdown",
   "id": "0ed7fc44-18bc-4d43-b0c4-649f541839d0",
   "metadata": {},
   "source": [
    "pow 4"
   ]
  },
  {
   "cell_type": "code",
   "execution_count": 26,
   "id": "36ed454c-5c5a-4e6b-9256-fbacf7c33c99",
   "metadata": {
    "ExecuteTime": {
     "end_time": "2024-03-21T14:45:48.540092Z",
     "start_time": "2024-03-21T14:45:48.537774Z"
    }
   },
   "outputs": [],
   "source": [
    "mkyk = []\n",
    "for i in range(0, 7):\n",
    "    mkyk.append(mk[i] * pow(yk[i], 4))\n",
    "sum4 = sum(mkyk)"
   ]
  },
  {
   "cell_type": "markdown",
   "id": "5a3f0b03-9ded-4dca-9791-36e7c9e5e16d",
   "metadata": {},
   "source": [
    "1.4.6. Рассчитайте начальные моменты для масштабированной переменной y:"
   ]
  },
  {
   "cell_type": "code",
   "execution_count": 27,
   "id": "73076ea3-f282-4b8b-bc38-b815d5ad69da",
   "metadata": {
    "ExecuteTime": {
     "end_time": "2024-03-21T14:45:48.917454Z",
     "start_time": "2024-03-21T14:45:48.914753Z"
    }
   },
   "outputs": [
    {
     "data": {
      "text/plain": [
       "(0.4, 3.44, 8.08, 37.52)"
      ]
     },
     "execution_count": 27,
     "metadata": {},
     "output_type": "execute_result"
    }
   ],
   "source": [
    "a1y = (1/50)*sum1\n",
    "a2y = (1/50)*sum2\n",
    "a3y = (1/50)*sum3\n",
    "a4y = (1/50)*sum4\n",
    "a1y, a2y, a3y, a4y"
   ]
  },
  {
   "cell_type": "code",
   "execution_count": 28,
   "id": "f0e6723a-4acd-41fa-8143-526d6784f726",
   "metadata": {
    "ExecuteTime": {
     "end_time": "2024-03-21T14:45:49.097191Z",
     "start_time": "2024-03-21T14:45:49.093884Z"
    }
   },
   "outputs": [
    {
     "data": {
      "text/plain": [
       "3.28"
      ]
     },
     "execution_count": 28,
     "metadata": {},
     "output_type": "execute_result"
    }
   ],
   "source": [
    "nu2y = sigma_sq = a2y - pow(a1y, 2)\n",
    "nu2y"
   ]
  },
  {
   "cell_type": "code",
   "execution_count": 29,
   "id": "f7ca30cb-5f63-4855-ab72-a9fa240e89b6",
   "metadata": {
    "ExecuteTime": {
     "end_time": "2024-03-21T14:45:49.277620Z",
     "start_time": "2024-03-21T14:45:49.274123Z"
    }
   },
   "outputs": [
    {
     "data": {
      "text/plain": [
       "1.81108"
      ]
     },
     "execution_count": 29,
     "metadata": {},
     "output_type": "execute_result"
    }
   ],
   "source": [
    "sigma = math.sqrt(sigma_sq)\n",
    "round(sigma, 5)"
   ]
  },
  {
   "cell_type": "code",
   "execution_count": 30,
   "id": "280a53f5-49b9-4acb-880f-edf3aadf4072",
   "metadata": {
    "ExecuteTime": {
     "end_time": "2024-03-21T14:45:49.444878Z",
     "start_time": "2024-03-21T14:45:49.441725Z"
    }
   },
   "outputs": [
    {
     "data": {
      "text/plain": [
       "4.08"
      ]
     },
     "execution_count": 30,
     "metadata": {},
     "output_type": "execute_result"
    }
   ],
   "source": [
    "nu3y = a3y - 3*a2y*a1y + 2*pow(a1y, 3)\n",
    "nu3y"
   ]
  },
  {
   "cell_type": "code",
   "execution_count": 31,
   "id": "66c21ed4-fa2c-482c-91c0-56ba6d4f276b",
   "metadata": {
    "ExecuteTime": {
     "end_time": "2024-03-21T14:45:49.599585Z",
     "start_time": "2024-03-21T14:45:49.596494Z"
    }
   },
   "outputs": [
    {
     "data": {
      "text/plain": [
       "27.97"
      ]
     },
     "execution_count": 31,
     "metadata": {},
     "output_type": "execute_result"
    }
   ],
   "source": [
    "nu4y = a4y - 4*a3y*a1y + 6*a2y*pow(a1y, 2) + 3*pow(a1y, 4)\n",
    "round(nu4y, 2)"
   ]
  },
  {
   "cell_type": "code",
   "execution_count": 32,
   "id": "6cee2ef2-2092-46d9-9c0b-e988ad9021f6",
   "metadata": {
    "ExecuteTime": {
     "end_time": "2024-03-21T16:05:04.470925Z",
     "start_time": "2024-03-21T16:05:04.465860Z"
    }
   },
   "outputs": [
    {
     "data": {
      "text/plain": [
       "0.12656"
      ]
     },
     "execution_count": 32,
     "metadata": {},
     "output_type": "execute_result"
    }
   ],
   "source": [
    "x_mean = h*a1y + a\n",
    "x_mean"
   ]
  },
  {
   "cell_type": "code",
   "execution_count": 33,
   "id": "89ff468f6c04b1d9",
   "metadata": {
    "ExecuteTime": {
     "end_time": "2024-03-21T16:05:47.585518Z",
     "start_time": "2024-03-21T16:05:47.576941Z"
    },
    "collapsed": false,
    "jupyter": {
     "outputs_hidden": false
    }
   },
   "outputs": [
    {
     "data": {
      "text/plain": [
       "0.6868302231484359"
      ]
     },
     "execution_count": 33,
     "metadata": {},
     "output_type": "execute_result"
    }
   ],
   "source": [
    "As = nu3y/pow(sigma, 3)\n",
    "As"
   ]
  },
  {
   "cell_type": "code",
   "execution_count": 34,
   "id": "25eb834bd9e6ed23",
   "metadata": {
    "ExecuteTime": {
     "end_time": "2024-03-21T16:06:37.052790Z",
     "start_time": "2024-03-21T16:06:37.046750Z"
    },
    "collapsed": false,
    "jupyter": {
     "outputs_hidden": false
    }
   },
   "outputs": [
    {
     "data": {
      "text/plain": [
       "0.005608217799999999"
      ]
     },
     "execution_count": 34,
     "metadata": {},
     "output_type": "execute_result"
    }
   ],
   "source": [
    "sigma_sq_x = pow(h, 2)*nu2y\n",
    "sigma_sq_x"
   ]
  },
  {
   "cell_type": "code",
   "execution_count": 35,
   "id": "2b05c14cb9425d5b",
   "metadata": {
    "ExecuteTime": {
     "end_time": "2024-03-21T16:07:28.204909Z",
     "start_time": "2024-03-21T16:07:28.199009Z"
    },
    "collapsed": false,
    "jupyter": {
     "outputs_hidden": false
    }
   },
   "outputs": [
    {
     "data": {
      "text/plain": [
       "5.527804878048782"
      ]
     },
     "execution_count": 35,
     "metadata": {},
     "output_type": "execute_result"
    }
   ],
   "source": [
    "Ex = (nu4y/pow(sigma, 2)) - 3\n",
    "Ex"
   ]
  },
  {
   "cell_type": "markdown",
   "id": "80f0c41e-1c7e-4894-b6a1-0ccfa94c73a8",
   "metadata": {
    "collapsed": false,
    "jupyter": {
     "outputs_hidden": false
    }
   },
   "source": [
    "| numb | n | h | x_mean | std | As | Ex | Mo | Me | nu2y | nu3y | nu4y |\n",
    "|---|---|---|---|---|---|---|---|---|---|---|---|\n",
    "| 1 | 50 | 0.04135 | 0.12613 | 0.074341 | 0.68683 | 0.10588 | 0.11298 | 3.28 | 4.08 | 27.97 |"
   ]
  },
  {
   "cell_type": "code",
   "execution_count": null,
   "id": "b1c5b50b-b9e8-462b-a6db-c9ddc0aaf817",
   "metadata": {},
   "outputs": [],
   "source": []
  },
  {
   "cell_type": "code",
   "execution_count": null,
   "id": "5e2f3b4c-cb86-4dfb-9ce0-7aa7ac2ab940",
   "metadata": {},
   "outputs": [],
   "source": []
  },
  {
   "cell_type": "code",
   "execution_count": null,
   "id": "c3551446-2a2d-4fe1-81ad-31cb7184f522",
   "metadata": {},
   "outputs": [],
   "source": []
  }
 ],
 "metadata": {
  "kernelspec": {
   "display_name": "Python 3 (ipykernel)",
   "language": "python",
   "name": "python3"
  },
  "language_info": {
   "codemirror_mode": {
    "name": "ipython",
    "version": 3
   },
   "file_extension": ".py",
   "mimetype": "text/x-python",
   "name": "python",
   "nbconvert_exporter": "python",
   "pygments_lexer": "ipython3",
   "version": "3.11.7"
  }
 },
 "nbformat": 4,
 "nbformat_minor": 5
}
